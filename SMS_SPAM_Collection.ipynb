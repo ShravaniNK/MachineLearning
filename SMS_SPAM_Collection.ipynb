{
 "cells": [
  {
   "cell_type": "markdown",
   "id": "05da6c69",
   "metadata": {},
   "source": [
    "# 1. TOPIC - SMS Spam Detection"
   ]
  },
  {
   "cell_type": "markdown",
   "id": "89c7ed3e",
   "metadata": {},
   "source": [
    "-   Spam text or messages are unwanted and annoying to us. Often people get deceived by scammers who send fraudulent messages. With the help of machine learning algorithms, effective approaches are made to identify and filter spam messages.\n",
    "\n",
    "##  2. Goal \n",
    "-  The goal of the project is to classify sms messages into  spam or ham by using several supervised machine learning techniques such as logistic regression, support vector classifier and naive bayes models. SMOTE techniques will be used to balance the data and evaluate the performance of models. Compate the results of imbalanced and balanced data and see if there is any improvement. \n",
    "\n",
    "## 3. Data \n",
    "### The dataset is obtained from UCI machine learning repository https://archive.ics.uci.edu/dataset/228/sms+spam+collection\n",
    "\n",
    "-   The dataset is a collection of 5574 SMS messages collected for research purposes.This is a natural language processing(NLP) classification technique.\n",
    "\n",
    "### Attributes:    \n",
    "**1. Text**  \n",
    "**2. Label(spam/ham)**\n",
    "\n"
   ]
  },
  {
   "cell_type": "markdown",
   "id": "6d679b93",
   "metadata": {},
   "source": [
    "## Python Libraries"
   ]
  },
  {
   "cell_type": "code",
   "execution_count": 1,
   "id": "0e809d5a",
   "metadata": {},
   "outputs": [],
   "source": [
    "# install libraries\n",
    "import numpy as np\n",
    "import pandas as pd \n",
    "import string \n",
    "import re \n",
    "\n",
    "# visualization\n",
    "import seaborn as sns\n",
    "import matplotlib.pyplot as plt\n",
    "%matplotlib inline\n",
    "\n",
    "# Modeling libraries\n",
    "import sklearn\n",
    "from sklearn.pipeline import Pipeline\n",
    "from sklearn.feature_extraction.text import CountVectorizer,TfidfVectorizer,TfidfTransformer\n",
    "from sklearn.model_selection import train_test_split\n",
    "from sklearn.linear_model import LogisticRegression\n",
    "from sklearn.svm import SVC\n",
    "from sklearn.naive_bayes import GaussianNB\n",
    "from sklearn.naive_bayes import MultinomialNB\n",
    "from sklearn.naive_bayes import BernoulliNB\n",
    "from sklearn.naive_bayes import CategoricalNB\n",
    "from sklearn.naive_bayes import ComplementNB\n",
    "from sklearn import metrics\n",
    "from sklearn.metrics import confusion_matrix, f1_score, accuracy_score,precision_score, recall_score,classification_report,roc_auc_score\n",
    "from sklearn.model_selection import cross_val_score,KFold \n",
    "from sklearn.model_selection import GridSearchCV\n",
    "from sklearn.pipeline import Pipeline\n",
    "from sklearn.preprocessing import LabelEncoder"
   ]
  },
  {
   "cell_type": "code",
   "execution_count": 2,
   "id": "372498a9",
   "metadata": {},
   "outputs": [],
   "source": [
    "# Natural language tool kit\n",
    "#!pip install nltk\n",
    "import nltk\n",
    "#nltk.download('punkt')\n",
    "import nltk.corpus\n",
    "#nltk.download('stopwords')\n",
    "from nltk.corpus import stopwords"
   ]
  },
  {
   "cell_type": "markdown",
   "id": "a7b08988",
   "metadata": {},
   "source": [
    "## Read the data"
   ]
  },
  {
   "cell_type": "code",
   "execution_count": 3,
   "id": "db638f7c",
   "metadata": {},
   "outputs": [
    {
     "data": {
      "text/html": [
       "<div>\n",
       "<style scoped>\n",
       "    .dataframe tbody tr th:only-of-type {\n",
       "        vertical-align: middle;\n",
       "    }\n",
       "\n",
       "    .dataframe tbody tr th {\n",
       "        vertical-align: top;\n",
       "    }\n",
       "\n",
       "    .dataframe thead th {\n",
       "        text-align: right;\n",
       "    }\n",
       "</style>\n",
       "<table border=\"1\" class=\"dataframe\">\n",
       "  <thead>\n",
       "    <tr style=\"text-align: right;\">\n",
       "      <th></th>\n",
       "      <th>Column1</th>\n",
       "      <th>Column2</th>\n",
       "    </tr>\n",
       "  </thead>\n",
       "  <tbody>\n",
       "    <tr>\n",
       "      <th>0</th>\n",
       "      <td>ham</td>\n",
       "      <td>Go until jurong point, crazy.. Available only ...</td>\n",
       "    </tr>\n",
       "    <tr>\n",
       "      <th>1</th>\n",
       "      <td>ham</td>\n",
       "      <td>Ok lar... Joking wif u oni...</td>\n",
       "    </tr>\n",
       "    <tr>\n",
       "      <th>2</th>\n",
       "      <td>spam</td>\n",
       "      <td>Free entry in 2 a wkly comp to win FA Cup fina...</td>\n",
       "    </tr>\n",
       "    <tr>\n",
       "      <th>3</th>\n",
       "      <td>ham</td>\n",
       "      <td>U dun say so early hor... U c already then say...</td>\n",
       "    </tr>\n",
       "    <tr>\n",
       "      <th>4</th>\n",
       "      <td>ham</td>\n",
       "      <td>Nah I don't think he goes to usf, he lives aro...</td>\n",
       "    </tr>\n",
       "  </tbody>\n",
       "</table>\n",
       "</div>"
      ],
      "text/plain": [
       "  Column1                                            Column2\n",
       "0     ham  Go until jurong point, crazy.. Available only ...\n",
       "1     ham                      Ok lar... Joking wif u oni...\n",
       "2    spam  Free entry in 2 a wkly comp to win FA Cup fina...\n",
       "3     ham  U dun say so early hor... U c already then say...\n",
       "4     ham  Nah I don't think he goes to usf, he lives aro..."
      ]
     },
     "execution_count": 3,
     "metadata": {},
     "output_type": "execute_result"
    }
   ],
   "source": [
    "data = pd.read_csv('SMS_Spam.csv')\n",
    "data.head()"
   ]
  },
  {
   "cell_type": "code",
   "execution_count": 4,
   "id": "7204a230",
   "metadata": {},
   "outputs": [
    {
     "data": {
      "text/html": [
       "<div>\n",
       "<style scoped>\n",
       "    .dataframe tbody tr th:only-of-type {\n",
       "        vertical-align: middle;\n",
       "    }\n",
       "\n",
       "    .dataframe tbody tr th {\n",
       "        vertical-align: top;\n",
       "    }\n",
       "\n",
       "    .dataframe thead th {\n",
       "        text-align: right;\n",
       "    }\n",
       "</style>\n",
       "<table border=\"1\" class=\"dataframe\">\n",
       "  <thead>\n",
       "    <tr style=\"text-align: right;\">\n",
       "      <th></th>\n",
       "      <th>Column1</th>\n",
       "      <th>Column2</th>\n",
       "    </tr>\n",
       "  </thead>\n",
       "  <tbody>\n",
       "    <tr>\n",
       "      <th>3134</th>\n",
       "      <td>ham</td>\n",
       "      <td>So no messages. Had food?</td>\n",
       "    </tr>\n",
       "    <tr>\n",
       "      <th>1444</th>\n",
       "      <td>spam</td>\n",
       "      <td>Free 1st week entry 2 TEXTPOD 4 a chance 2 win...</td>\n",
       "    </tr>\n",
       "    <tr>\n",
       "      <th>1715</th>\n",
       "      <td>ham</td>\n",
       "      <td>Yeah I don't see why not</td>\n",
       "    </tr>\n",
       "    <tr>\n",
       "      <th>3645</th>\n",
       "      <td>ham</td>\n",
       "      <td>* Thought I didn't see you.</td>\n",
       "    </tr>\n",
       "    <tr>\n",
       "      <th>5118</th>\n",
       "      <td>ham</td>\n",
       "      <td>Thanks. Fills me with complete calm and reassu...</td>\n",
       "    </tr>\n",
       "    <tr>\n",
       "      <th>1829</th>\n",
       "      <td>ham</td>\n",
       "      <td>May i call You later Pls</td>\n",
       "    </tr>\n",
       "    <tr>\n",
       "      <th>1768</th>\n",
       "      <td>ham</td>\n",
       "      <td>K, want us to come by now?</td>\n",
       "    </tr>\n",
       "    <tr>\n",
       "      <th>2091</th>\n",
       "      <td>ham</td>\n",
       "      <td>S:-)kallis wont play in first two odi:-)</td>\n",
       "    </tr>\n",
       "    <tr>\n",
       "      <th>3336</th>\n",
       "      <td>ham</td>\n",
       "      <td>Sorry, got a late start, we're on the way</td>\n",
       "    </tr>\n",
       "    <tr>\n",
       "      <th>5287</th>\n",
       "      <td>spam</td>\n",
       "      <td>URGENT! You have won a 1 week FREE membership ...</td>\n",
       "    </tr>\n",
       "  </tbody>\n",
       "</table>\n",
       "</div>"
      ],
      "text/plain": [
       "     Column1                                            Column2\n",
       "3134     ham                          So no messages. Had food?\n",
       "1444    spam  Free 1st week entry 2 TEXTPOD 4 a chance 2 win...\n",
       "1715     ham                           Yeah I don't see why not\n",
       "3645     ham                        * Thought I didn't see you.\n",
       "5118     ham  Thanks. Fills me with complete calm and reassu...\n",
       "1829     ham                           May i call You later Pls\n",
       "1768     ham                         K, want us to come by now?\n",
       "2091     ham           S:-)kallis wont play in first two odi:-)\n",
       "3336     ham          Sorry, got a late start, we're on the way\n",
       "5287    spam  URGENT! You have won a 1 week FREE membership ..."
      ]
     },
     "execution_count": 4,
     "metadata": {},
     "output_type": "execute_result"
    }
   ],
   "source": [
    "data.sample(10)"
   ]
  },
  {
   "cell_type": "markdown",
   "id": "b07bcced",
   "metadata": {},
   "source": [
    "## 4. Data Description"
   ]
  },
  {
   "cell_type": "code",
   "execution_count": 5,
   "id": "efe10c4b",
   "metadata": {},
   "outputs": [
    {
     "data": {
      "text/plain": [
       "(5574, 2)"
      ]
     },
     "execution_count": 5,
     "metadata": {},
     "output_type": "execute_result"
    }
   ],
   "source": [
    "# Dimensions- size of the data\n",
    "data.shape"
   ]
  },
  {
   "cell_type": "code",
   "execution_count": 6,
   "id": "603d8b10",
   "metadata": {},
   "outputs": [
    {
     "name": "stdout",
     "output_type": "stream",
     "text": [
      "<class 'pandas.core.frame.DataFrame'>\n",
      "RangeIndex: 5574 entries, 0 to 5573\n",
      "Data columns (total 2 columns):\n",
      " #   Column   Non-Null Count  Dtype \n",
      "---  ------   --------------  ----- \n",
      " 0   Column1  5574 non-null   object\n",
      " 1   Column2  5574 non-null   object\n",
      "dtypes: object(2)\n",
      "memory usage: 87.2+ KB\n"
     ]
    }
   ],
   "source": [
    "# Information about the Dataset\n",
    "data.info()"
   ]
  },
  {
   "cell_type": "code",
   "execution_count": 7,
   "id": "208cb8a3",
   "metadata": {},
   "outputs": [
    {
     "data": {
      "text/html": [
       "<div>\n",
       "<style scoped>\n",
       "    .dataframe tbody tr th:only-of-type {\n",
       "        vertical-align: middle;\n",
       "    }\n",
       "\n",
       "    .dataframe tbody tr th {\n",
       "        vertical-align: top;\n",
       "    }\n",
       "\n",
       "    .dataframe thead th {\n",
       "        text-align: right;\n",
       "    }\n",
       "</style>\n",
       "<table border=\"1\" class=\"dataframe\">\n",
       "  <thead>\n",
       "    <tr style=\"text-align: right;\">\n",
       "      <th></th>\n",
       "      <th>Column1</th>\n",
       "      <th>Column2</th>\n",
       "    </tr>\n",
       "  </thead>\n",
       "  <tbody>\n",
       "    <tr>\n",
       "      <th>count</th>\n",
       "      <td>5574</td>\n",
       "      <td>5574</td>\n",
       "    </tr>\n",
       "    <tr>\n",
       "      <th>unique</th>\n",
       "      <td>2</td>\n",
       "      <td>5171</td>\n",
       "    </tr>\n",
       "    <tr>\n",
       "      <th>top</th>\n",
       "      <td>ham</td>\n",
       "      <td>Sorry, I'll call later</td>\n",
       "    </tr>\n",
       "    <tr>\n",
       "      <th>freq</th>\n",
       "      <td>4827</td>\n",
       "      <td>30</td>\n",
       "    </tr>\n",
       "  </tbody>\n",
       "</table>\n",
       "</div>"
      ],
      "text/plain": [
       "       Column1                 Column2\n",
       "count     5574                    5574\n",
       "unique       2                    5171\n",
       "top        ham  Sorry, I'll call later\n",
       "freq      4827                      30"
      ]
     },
     "execution_count": 7,
     "metadata": {},
     "output_type": "execute_result"
    }
   ],
   "source": [
    "# Descriptive Statistics gives summary of each attribute in the dataset\n",
    "data.describe()"
   ]
  },
  {
   "cell_type": "markdown",
   "id": "5869a545",
   "metadata": {},
   "source": [
    "## 5. Data Cleaning \n",
    "-   The quality of the data should be checked before we apply machine learning algorithms to improve computational time. This process makes our data suitable for further analysis such as visualizations and model building."
   ]
  },
  {
   "cell_type": "code",
   "execution_count": 8,
   "id": "54655495",
   "metadata": {},
   "outputs": [
    {
     "data": {
      "text/html": [
       "<div>\n",
       "<style scoped>\n",
       "    .dataframe tbody tr th:only-of-type {\n",
       "        vertical-align: middle;\n",
       "    }\n",
       "\n",
       "    .dataframe tbody tr th {\n",
       "        vertical-align: top;\n",
       "    }\n",
       "\n",
       "    .dataframe thead th {\n",
       "        text-align: right;\n",
       "    }\n",
       "</style>\n",
       "<table border=\"1\" class=\"dataframe\">\n",
       "  <thead>\n",
       "    <tr style=\"text-align: right;\">\n",
       "      <th></th>\n",
       "      <th>Label</th>\n",
       "      <th>Text</th>\n",
       "    </tr>\n",
       "  </thead>\n",
       "  <tbody>\n",
       "    <tr>\n",
       "      <th>0</th>\n",
       "      <td>ham</td>\n",
       "      <td>Go until jurong point, crazy.. Available only ...</td>\n",
       "    </tr>\n",
       "    <tr>\n",
       "      <th>1</th>\n",
       "      <td>ham</td>\n",
       "      <td>Ok lar... Joking wif u oni...</td>\n",
       "    </tr>\n",
       "    <tr>\n",
       "      <th>2</th>\n",
       "      <td>spam</td>\n",
       "      <td>Free entry in 2 a wkly comp to win FA Cup fina...</td>\n",
       "    </tr>\n",
       "    <tr>\n",
       "      <th>3</th>\n",
       "      <td>ham</td>\n",
       "      <td>U dun say so early hor... U c already then say...</td>\n",
       "    </tr>\n",
       "    <tr>\n",
       "      <th>4</th>\n",
       "      <td>ham</td>\n",
       "      <td>Nah I don't think he goes to usf, he lives aro...</td>\n",
       "    </tr>\n",
       "  </tbody>\n",
       "</table>\n",
       "</div>"
      ],
      "text/plain": [
       "  Label                                               Text\n",
       "0   ham  Go until jurong point, crazy.. Available only ...\n",
       "1   ham                      Ok lar... Joking wif u oni...\n",
       "2  spam  Free entry in 2 a wkly comp to win FA Cup fina...\n",
       "3   ham  U dun say so early hor... U c already then say...\n",
       "4   ham  Nah I don't think he goes to usf, he lives aro..."
      ]
     },
     "execution_count": 8,
     "metadata": {},
     "output_type": "execute_result"
    }
   ],
   "source": [
    "# Renaming the columns for easy interpretation\n",
    "data.rename(columns = {'Column1' :'Label' , 'Column2':'Text'}, inplace =True)\n",
    "data.head()"
   ]
  },
  {
   "cell_type": "code",
   "execution_count": 9,
   "id": "f3a29fcb",
   "metadata": {},
   "outputs": [
    {
     "data": {
      "text/plain": [
       "Label    0\n",
       "Text     0\n",
       "dtype: int64"
      ]
     },
     "execution_count": 9,
     "metadata": {},
     "output_type": "execute_result"
    }
   ],
   "source": [
    "# Checking for missing data\n",
    "data.isna().sum()"
   ]
  },
  {
   "cell_type": "code",
   "execution_count": 10,
   "id": "14fc7f13",
   "metadata": {},
   "outputs": [
    {
     "data": {
      "text/plain": [
       "Label    0\n",
       "Text     0\n",
       "dtype: int64"
      ]
     },
     "execution_count": 10,
     "metadata": {},
     "output_type": "execute_result"
    }
   ],
   "source": [
    "# Checking for null values\n",
    "data.isnull().sum()"
   ]
  },
  {
   "cell_type": "code",
   "execution_count": 11,
   "id": "8ae4391f",
   "metadata": {},
   "outputs": [
    {
     "data": {
      "text/plain": [
       "403"
      ]
     },
     "execution_count": 11,
     "metadata": {},
     "output_type": "execute_result"
    }
   ],
   "source": [
    "# Checking for duplicates\n",
    "data.duplicated().sum()"
   ]
  },
  {
   "cell_type": "markdown",
   "id": "7ee50be3",
   "metadata": {},
   "source": [
    "-   403 duplicate entries are identified and removed"
   ]
  },
  {
   "cell_type": "code",
   "execution_count": 12,
   "id": "4a03814c",
   "metadata": {},
   "outputs": [
    {
     "data": {
      "text/plain": [
       "0"
      ]
     },
     "execution_count": 12,
     "metadata": {},
     "output_type": "execute_result"
    }
   ],
   "source": [
    "# Removing duplicated values \n",
    "data = data.drop_duplicates(keep = 'first')\n",
    "# recheck for duplicates\n",
    "data.duplicated().sum()"
   ]
  },
  {
   "cell_type": "code",
   "execution_count": 13,
   "id": "beb093ac",
   "metadata": {},
   "outputs": [
    {
     "data": {
      "text/plain": [
       "(5171, 2)"
      ]
     },
     "execution_count": 13,
     "metadata": {},
     "output_type": "execute_result"
    }
   ],
   "source": [
    "#reduced data size\n",
    "data.shape"
   ]
  },
  {
   "cell_type": "markdown",
   "id": "d033188a",
   "metadata": {},
   "source": [
    "## 6. Exploratory Data Analysis"
   ]
  },
  {
   "cell_type": "code",
   "execution_count": 14,
   "id": "d24f1284",
   "metadata": {},
   "outputs": [
    {
     "data": {
      "text/plain": [
       "array(['ham', 'spam'], dtype=object)"
      ]
     },
     "execution_count": 14,
     "metadata": {},
     "output_type": "execute_result"
    }
   ],
   "source": [
    "np.unique(data['Label'])"
   ]
  },
  {
   "cell_type": "code",
   "execution_count": 15,
   "id": "920411af",
   "metadata": {},
   "outputs": [
    {
     "data": {
      "text/plain": [
       "ham     4518\n",
       "spam     653\n",
       "Name: Label, dtype: int64"
      ]
     },
     "execution_count": 15,
     "metadata": {},
     "output_type": "execute_result"
    }
   ],
   "source": [
    "# Lets check how many labels of data are 'spam' and 'ham'\n",
    "data['Label'].value_counts()"
   ]
  },
  {
   "cell_type": "code",
   "execution_count": 16,
   "id": "d1fefe9f",
   "metadata": {},
   "outputs": [
    {
     "data": {
      "image/png": "[encoded data removed]",
      "text/plain": [
       "<Figure size 432x288 with 1 Axes>"
      ]
     },
     "metadata": {
      "needs_background": "light"
     },
     "output_type": "display_data"
    }
   ],
   "source": [
    "# Visualize Label distribution  \n",
    "sns.barplot( x = data['Label'].value_counts().index, y = data['Label'].value_counts().values)\n",
    "plt.xlabel(\"Label\")\n",
    "plt.ylabel('Count')\n",
    "plt.show()"
   ]
  },
  {
   "cell_type": "markdown",
   "id": "7478b73a",
   "metadata": {},
   "source": [
    "-    88% of the labels are ham and only 12% are spam. The ratio of spam to ham is 1:7 which means our data is imbalanced."
   ]
  },
  {
   "cell_type": "code",
   "execution_count": 17,
   "id": "85e655e1",
   "metadata": {},
   "outputs": [],
   "source": [
    "# Word count and character count\n",
    "#data['word_count'] = data['Text'].apply(lambda n: len(n.split()))\n",
    "data['char_count'] = data['Text'].apply(len)\n",
    "# word count and sentence count using nltk\n",
    "data['word_count'] = data['Text'].apply(lambda x : len(nltk.word_tokenize(x)))\n",
    "data['sent_count'] = data['Text'].apply(lambda x : len(nltk.sent_tokenize(x)))"
   ]
  },
  {
   "cell_type": "code",
   "execution_count": 18,
   "id": "a933530c",
   "metadata": {},
   "outputs": [
    {
     "data": {
      "text/html": [
       "<div>\n",
       "<style scoped>\n",
       "    .dataframe tbody tr th:only-of-type {\n",
       "        vertical-align: middle;\n",
       "    }\n",
       "\n",
       "    .dataframe tbody tr th {\n",
       "        vertical-align: top;\n",
       "    }\n",
       "\n",
       "    .dataframe thead th {\n",
       "        text-align: right;\n",
       "    }\n",
       "</style>\n",
       "<table border=\"1\" class=\"dataframe\">\n",
       "  <thead>\n",
       "    <tr style=\"text-align: right;\">\n",
       "      <th></th>\n",
       "      <th>Label</th>\n",
       "      <th>Text</th>\n",
       "      <th>char_count</th>\n",
       "      <th>word_count</th>\n",
       "      <th>sent_count</th>\n",
       "    </tr>\n",
       "  </thead>\n",
       "  <tbody>\n",
       "    <tr>\n",
       "      <th>0</th>\n",
       "      <td>ham</td>\n",
       "      <td>Go until jurong point, crazy.. Available only ...</td>\n",
       "      <td>111</td>\n",
       "      <td>24</td>\n",
       "      <td>2</td>\n",
       "    </tr>\n",
       "    <tr>\n",
       "      <th>1</th>\n",
       "      <td>ham</td>\n",
       "      <td>Ok lar... Joking wif u oni...</td>\n",
       "      <td>29</td>\n",
       "      <td>8</td>\n",
       "      <td>2</td>\n",
       "    </tr>\n",
       "    <tr>\n",
       "      <th>2</th>\n",
       "      <td>spam</td>\n",
       "      <td>Free entry in 2 a wkly comp to win FA Cup fina...</td>\n",
       "      <td>155</td>\n",
       "      <td>37</td>\n",
       "      <td>2</td>\n",
       "    </tr>\n",
       "    <tr>\n",
       "      <th>3</th>\n",
       "      <td>ham</td>\n",
       "      <td>U dun say so early hor... U c already then say...</td>\n",
       "      <td>49</td>\n",
       "      <td>13</td>\n",
       "      <td>1</td>\n",
       "    </tr>\n",
       "    <tr>\n",
       "      <th>4</th>\n",
       "      <td>ham</td>\n",
       "      <td>Nah I don't think he goes to usf, he lives aro...</td>\n",
       "      <td>61</td>\n",
       "      <td>15</td>\n",
       "      <td>1</td>\n",
       "    </tr>\n",
       "  </tbody>\n",
       "</table>\n",
       "</div>"
      ],
      "text/plain": [
       "  Label                                               Text  char_count  \\\n",
       "0   ham  Go until jurong point, crazy.. Available only ...         111   \n",
       "1   ham                      Ok lar... Joking wif u oni...          29   \n",
       "2  spam  Free entry in 2 a wkly comp to win FA Cup fina...         155   \n",
       "3   ham  U dun say so early hor... U c already then say...          49   \n",
       "4   ham  Nah I don't think he goes to usf, he lives aro...          61   \n",
       "\n",
       "   word_count  sent_count  \n",
       "0          24           2  \n",
       "1           8           2  \n",
       "2          37           2  \n",
       "3          13           1  \n",
       "4          15           1  "
      ]
     },
     "execution_count": 18,
     "metadata": {},
     "output_type": "execute_result"
    }
   ],
   "source": [
    "data.head()"
   ]
  },
  {
   "cell_type": "code",
   "execution_count": 19,
   "id": "1d6b97ca",
   "metadata": {},
   "outputs": [
    {
     "data": {
      "text/plain": [
       "array([ 1,  2,  3,  4,  5,  6,  7,  8,  9, 10, 11, 12, 13, 17, 18, 38],\n",
       "      dtype=int64)"
      ]
     },
     "execution_count": 19,
     "metadata": {},
     "output_type": "execute_result"
    }
   ],
   "source": [
    "# unique sentence count information for visualization purpose\n",
    "np.unique(data['sent_count'])"
   ]
  },
  {
   "cell_type": "code",
   "execution_count": 20,
   "id": "aa55240d",
   "metadata": {},
   "outputs": [
    {
     "data": {
      "image/png": "[encoded data removed]",
      "text/plain": [
       "<Figure size 423.25x360 with 1 Axes>"
      ]
     },
     "metadata": {
      "needs_background": "light"
     },
     "output_type": "display_data"
    }
   ],
   "source": [
    "# plot for ham / spam distribution based on sentence count\n",
    "d = data.groupby('sent_count')['Label'].value_counts(normalize=True).mul(100).rename('%label').reset_index()\n",
    "p1 = sns.catplot(x = 'sent_count',y = '%label', hue='Label',kind='bar', data=d)\n",
    "plt.show()"
   ]
  },
  {
   "cell_type": "markdown",
   "id": "20da7917",
   "metadata": {},
   "source": [
    "-   From the above plot, all the spam messages are found to be short messages with less than 10 sentences per text. "
   ]
  },
  {
   "cell_type": "code",
   "execution_count": 21,
   "id": "900d750b",
   "metadata": {},
   "outputs": [
    {
     "data": {
      "text/html": [
       "<div>\n",
       "<style scoped>\n",
       "    .dataframe tbody tr th:only-of-type {\n",
       "        vertical-align: middle;\n",
       "    }\n",
       "\n",
       "    .dataframe tbody tr th {\n",
       "        vertical-align: top;\n",
       "    }\n",
       "\n",
       "    .dataframe thead th {\n",
       "        text-align: right;\n",
       "    }\n",
       "</style>\n",
       "<table border=\"1\" class=\"dataframe\">\n",
       "  <thead>\n",
       "    <tr style=\"text-align: right;\">\n",
       "      <th></th>\n",
       "      <th>word_count</th>\n",
       "      <th>char_count</th>\n",
       "      <th>sent_count</th>\n",
       "    </tr>\n",
       "  </thead>\n",
       "  <tbody>\n",
       "    <tr>\n",
       "      <th>count</th>\n",
       "      <td>5171.000000</td>\n",
       "      <td>5171.000000</td>\n",
       "      <td>5171.000000</td>\n",
       "    </tr>\n",
       "    <tr>\n",
       "      <th>mean</th>\n",
       "      <td>18.585767</td>\n",
       "      <td>79.311739</td>\n",
       "      <td>1.973699</td>\n",
       "    </tr>\n",
       "    <tr>\n",
       "      <th>std</th>\n",
       "      <td>13.379007</td>\n",
       "      <td>58.322586</td>\n",
       "      <td>1.458811</td>\n",
       "    </tr>\n",
       "    <tr>\n",
       "      <th>min</th>\n",
       "      <td>1.000000</td>\n",
       "      <td>2.000000</td>\n",
       "      <td>1.000000</td>\n",
       "    </tr>\n",
       "    <tr>\n",
       "      <th>25%</th>\n",
       "      <td>9.000000</td>\n",
       "      <td>36.000000</td>\n",
       "      <td>1.000000</td>\n",
       "    </tr>\n",
       "    <tr>\n",
       "      <th>50%</th>\n",
       "      <td>15.000000</td>\n",
       "      <td>61.000000</td>\n",
       "      <td>1.000000</td>\n",
       "    </tr>\n",
       "    <tr>\n",
       "      <th>75%</th>\n",
       "      <td>26.000000</td>\n",
       "      <td>119.000000</td>\n",
       "      <td>2.000000</td>\n",
       "    </tr>\n",
       "    <tr>\n",
       "      <th>max</th>\n",
       "      <td>220.000000</td>\n",
       "      <td>910.000000</td>\n",
       "      <td>38.000000</td>\n",
       "    </tr>\n",
       "  </tbody>\n",
       "</table>\n",
       "</div>"
      ],
      "text/plain": [
       "        word_count   char_count   sent_count\n",
       "count  5171.000000  5171.000000  5171.000000\n",
       "mean     18.585767    79.311739     1.973699\n",
       "std      13.379007    58.322586     1.458811\n",
       "min       1.000000     2.000000     1.000000\n",
       "25%       9.000000    36.000000     1.000000\n",
       "50%      15.000000    61.000000     1.000000\n",
       "75%      26.000000   119.000000     2.000000\n",
       "max     220.000000   910.000000    38.000000"
      ]
     },
     "execution_count": 21,
     "metadata": {},
     "output_type": "execute_result"
    }
   ],
   "source": [
    "# Statistics of new columns\n",
    "data[['word_count','char_count','sent_count']].describe()"
   ]
  },
  {
   "cell_type": "code",
   "execution_count": 22,
   "id": "e4498a9f",
   "metadata": {},
   "outputs": [
    {
     "data": {
      "text/html": [
       "<div>\n",
       "<style scoped>\n",
       "    .dataframe tbody tr th:only-of-type {\n",
       "        vertical-align: middle;\n",
       "    }\n",
       "\n",
       "    .dataframe tbody tr th {\n",
       "        vertical-align: top;\n",
       "    }\n",
       "\n",
       "    .dataframe thead th {\n",
       "        text-align: right;\n",
       "    }\n",
       "</style>\n",
       "<table border=\"1\" class=\"dataframe\">\n",
       "  <thead>\n",
       "    <tr style=\"text-align: right;\">\n",
       "      <th></th>\n",
       "      <th>word_count</th>\n",
       "      <th>char_count</th>\n",
       "      <th>sent_count</th>\n",
       "    </tr>\n",
       "  </thead>\n",
       "  <tbody>\n",
       "    <tr>\n",
       "      <th>count</th>\n",
       "      <td>653.000000</td>\n",
       "      <td>653.000000</td>\n",
       "      <td>653.000000</td>\n",
       "    </tr>\n",
       "    <tr>\n",
       "      <th>mean</th>\n",
       "      <td>27.762634</td>\n",
       "      <td>137.704441</td>\n",
       "      <td>2.986217</td>\n",
       "    </tr>\n",
       "    <tr>\n",
       "      <th>std</th>\n",
       "      <td>6.993008</td>\n",
       "      <td>29.821348</td>\n",
       "      <td>1.494815</td>\n",
       "    </tr>\n",
       "    <tr>\n",
       "      <th>min</th>\n",
       "      <td>2.000000</td>\n",
       "      <td>13.000000</td>\n",
       "      <td>1.000000</td>\n",
       "    </tr>\n",
       "    <tr>\n",
       "      <th>25%</th>\n",
       "      <td>25.000000</td>\n",
       "      <td>132.000000</td>\n",
       "      <td>2.000000</td>\n",
       "    </tr>\n",
       "    <tr>\n",
       "      <th>50%</th>\n",
       "      <td>29.000000</td>\n",
       "      <td>148.000000</td>\n",
       "      <td>3.000000</td>\n",
       "    </tr>\n",
       "    <tr>\n",
       "      <th>75%</th>\n",
       "      <td>32.000000</td>\n",
       "      <td>157.000000</td>\n",
       "      <td>4.000000</td>\n",
       "    </tr>\n",
       "    <tr>\n",
       "      <th>max</th>\n",
       "      <td>46.000000</td>\n",
       "      <td>223.000000</td>\n",
       "      <td>9.000000</td>\n",
       "    </tr>\n",
       "  </tbody>\n",
       "</table>\n",
       "</div>"
      ],
      "text/plain": [
       "       word_count  char_count  sent_count\n",
       "count  653.000000  653.000000  653.000000\n",
       "mean    27.762634  137.704441    2.986217\n",
       "std      6.993008   29.821348    1.494815\n",
       "min      2.000000   13.000000    1.000000\n",
       "25%     25.000000  132.000000    2.000000\n",
       "50%     29.000000  148.000000    3.000000\n",
       "75%     32.000000  157.000000    4.000000\n",
       "max     46.000000  223.000000    9.000000"
      ]
     },
     "execution_count": 22,
     "metadata": {},
     "output_type": "execute_result"
    }
   ],
   "source": [
    "# Statistics of new columns when Label is spam\n",
    "data[data['Label'] == 'spam'][['word_count','char_count','sent_count']].describe()"
   ]
  },
  {
   "cell_type": "code",
   "execution_count": 23,
   "id": "569dbc12",
   "metadata": {},
   "outputs": [
    {
     "data": {
      "text/html": [
       "<div>\n",
       "<style scoped>\n",
       "    .dataframe tbody tr th:only-of-type {\n",
       "        vertical-align: middle;\n",
       "    }\n",
       "\n",
       "    .dataframe tbody tr th {\n",
       "        vertical-align: top;\n",
       "    }\n",
       "\n",
       "    .dataframe thead th {\n",
       "        text-align: right;\n",
       "    }\n",
       "</style>\n",
       "<table border=\"1\" class=\"dataframe\">\n",
       "  <thead>\n",
       "    <tr style=\"text-align: right;\">\n",
       "      <th></th>\n",
       "      <th>word_count</th>\n",
       "      <th>char_count</th>\n",
       "      <th>sent_count</th>\n",
       "    </tr>\n",
       "  </thead>\n",
       "  <tbody>\n",
       "    <tr>\n",
       "      <th>count</th>\n",
       "      <td>4518.000000</td>\n",
       "      <td>4518.000000</td>\n",
       "      <td>4518.000000</td>\n",
       "    </tr>\n",
       "    <tr>\n",
       "      <th>mean</th>\n",
       "      <td>17.259407</td>\n",
       "      <td>70.872067</td>\n",
       "      <td>1.827357</td>\n",
       "    </tr>\n",
       "    <tr>\n",
       "      <th>std</th>\n",
       "      <td>13.560301</td>\n",
       "      <td>56.575000</td>\n",
       "      <td>1.394138</td>\n",
       "    </tr>\n",
       "    <tr>\n",
       "      <th>min</th>\n",
       "      <td>1.000000</td>\n",
       "      <td>2.000000</td>\n",
       "      <td>1.000000</td>\n",
       "    </tr>\n",
       "    <tr>\n",
       "      <th>25%</th>\n",
       "      <td>8.000000</td>\n",
       "      <td>34.000000</td>\n",
       "      <td>1.000000</td>\n",
       "    </tr>\n",
       "    <tr>\n",
       "      <th>50%</th>\n",
       "      <td>13.000000</td>\n",
       "      <td>53.000000</td>\n",
       "      <td>1.000000</td>\n",
       "    </tr>\n",
       "    <tr>\n",
       "      <th>75%</th>\n",
       "      <td>22.000000</td>\n",
       "      <td>91.000000</td>\n",
       "      <td>2.000000</td>\n",
       "    </tr>\n",
       "    <tr>\n",
       "      <th>max</th>\n",
       "      <td>220.000000</td>\n",
       "      <td>910.000000</td>\n",
       "      <td>38.000000</td>\n",
       "    </tr>\n",
       "  </tbody>\n",
       "</table>\n",
       "</div>"
      ],
      "text/plain": [
       "        word_count   char_count   sent_count\n",
       "count  4518.000000  4518.000000  4518.000000\n",
       "mean     17.259407    70.872067     1.827357\n",
       "std      13.560301    56.575000     1.394138\n",
       "min       1.000000     2.000000     1.000000\n",
       "25%       8.000000    34.000000     1.000000\n",
       "50%      13.000000    53.000000     1.000000\n",
       "75%      22.000000    91.000000     2.000000\n",
       "max     220.000000   910.000000    38.000000"
      ]
     },
     "execution_count": 23,
     "metadata": {},
     "output_type": "execute_result"
    }
   ],
   "source": [
    "# Statistics of new columns when Label is ham\n",
    "data[data['Label'] == 'ham'][['word_count','char_count','sent_count']].describe()"
   ]
  },
  {
   "cell_type": "code",
   "execution_count": 24,
   "id": "5d241f22",
   "metadata": {},
   "outputs": [
    {
     "data": {
      "text/plain": [
       "<seaborn.axisgrid.PairGrid at 0x26a6aeab4f0>"
      ]
     },
     "execution_count": 24,
     "metadata": {},
     "output_type": "execute_result"
    },
    {
     "data": {
      "image/png": "[encoded data removed]",
      "text/plain": [
       "<Figure size 603.25x540 with 12 Axes>"
      ]
     },
     "metadata": {
      "needs_background": "light"
     },
     "output_type": "display_data"
    }
   ],
   "source": [
    "# pairplot\n",
    "sns.pairplot(data, hue='Label')"
   ]
  },
  {
   "cell_type": "code",
   "execution_count": 25,
   "id": "f7eaf11c",
   "metadata": {},
   "outputs": [
    {
     "data": {
      "text/plain": [
       "<AxesSubplot:>"
      ]
     },
     "execution_count": 25,
     "metadata": {},
     "output_type": "execute_result"
    },
    {
     "data": {
      "image/png": "[encoded data removed]",
      "text/plain": [
       "<Figure size 432x288 with 2 Axes>"
      ]
     },
     "metadata": {
      "needs_background": "light"
     },
     "output_type": "display_data"
    }
   ],
   "source": [
    "# Correlation matrix\n",
    "sns.heatmap(data[['word_count','char_count','sent_count']].corr(), annot = True)"
   ]
  },
  {
   "cell_type": "code",
   "execution_count": 26,
   "id": "57a8c9fc",
   "metadata": {},
   "outputs": [
    {
     "data": {
      "image/png": "[encoded data removed]",
      "text/plain": [
       "<Figure size 720x720 with 1 Axes>"
      ]
     },
     "metadata": {
      "needs_background": "light"
     },
     "output_type": "display_data"
    }
   ],
   "source": [
    "# Top frquent words in the raw dataset\n",
    "plt.figure(figsize=(10,10))\n",
    "words = ' '.join(data['Text']).split()\n",
    "w_freq = pd.Series(words).value_counts()\n",
    "#print(w_freq.head(20))\n",
    "w_freq.head(20).plot(kind='bar')\n",
    "plt.title(\"Top 20 frequent words in the data\")\n",
    "plt.xticks(rotation = 45)\n",
    "plt.show()"
   ]
  },
  {
   "cell_type": "markdown",
   "id": "40a103c5",
   "metadata": {},
   "source": [
    "-   The high frequency words in the ablove plot gives no information about spam. So we will clean the text in the next step."
   ]
  },
  {
   "cell_type": "markdown",
   "id": "77509373",
   "metadata": {},
   "source": [
    "## Data Pre-Processing \n",
    "-   Pre-Processing is an important phase in text processing. If the text contains a mix of uppercase and lowercase words data analysis becomes difficult. \n",
    "-   To avoid that we will convert all the text into lowercase. \n",
    "-  Punctuation or special characters which confuse the ML models should be removed. \n",
    "-   A lot of common words called \"stopwords\" such as \"a, an, the, is, at,on, my, etc\"  would not contribute much to data analysis and thus can be removed.\n",
    "-   Most of the spam messages contain number which may be prize money or deals discounts etc. Hence numbers were not removed here."
   ]
  },
  {
   "cell_type": "code",
   "execution_count": 27,
   "id": "1a1abb1c",
   "metadata": {},
   "outputs": [
    {
     "data": {
      "text/html": [
       "<div>\n",
       "<style scoped>\n",
       "    .dataframe tbody tr th:only-of-type {\n",
       "        vertical-align: middle;\n",
       "    }\n",
       "\n",
       "    .dataframe tbody tr th {\n",
       "        vertical-align: top;\n",
       "    }\n",
       "\n",
       "    .dataframe thead th {\n",
       "        text-align: right;\n",
       "    }\n",
       "</style>\n",
       "<table border=\"1\" class=\"dataframe\">\n",
       "  <thead>\n",
       "    <tr style=\"text-align: right;\">\n",
       "      <th></th>\n",
       "      <th>Label</th>\n",
       "      <th>Text</th>\n",
       "      <th>char_count</th>\n",
       "      <th>word_count</th>\n",
       "      <th>sent_count</th>\n",
       "      <th>Clean_Text</th>\n",
       "      <th>new_wc</th>\n",
       "    </tr>\n",
       "  </thead>\n",
       "  <tbody>\n",
       "    <tr>\n",
       "      <th>0</th>\n",
       "      <td>ham</td>\n",
       "      <td>Go until jurong point, crazy.. Available only ...</td>\n",
       "      <td>111</td>\n",
       "      <td>24</td>\n",
       "      <td>2</td>\n",
       "      <td>go jurong point crazy available bugis n great ...</td>\n",
       "      <td>16</td>\n",
       "    </tr>\n",
       "    <tr>\n",
       "      <th>1</th>\n",
       "      <td>ham</td>\n",
       "      <td>Ok lar... Joking wif u oni...</td>\n",
       "      <td>29</td>\n",
       "      <td>8</td>\n",
       "      <td>2</td>\n",
       "      <td>ok lar joking wif u oni</td>\n",
       "      <td>6</td>\n",
       "    </tr>\n",
       "    <tr>\n",
       "      <th>2</th>\n",
       "      <td>spam</td>\n",
       "      <td>Free entry in 2 a wkly comp to win FA Cup fina...</td>\n",
       "      <td>155</td>\n",
       "      <td>37</td>\n",
       "      <td>2</td>\n",
       "      <td>free entry 2 wkly comp win fa cup final tkts 2...</td>\n",
       "      <td>23</td>\n",
       "    </tr>\n",
       "    <tr>\n",
       "      <th>3</th>\n",
       "      <td>ham</td>\n",
       "      <td>U dun say so early hor... U c already then say...</td>\n",
       "      <td>49</td>\n",
       "      <td>13</td>\n",
       "      <td>1</td>\n",
       "      <td>u dun say early hor u c already say</td>\n",
       "      <td>9</td>\n",
       "    </tr>\n",
       "    <tr>\n",
       "      <th>4</th>\n",
       "      <td>ham</td>\n",
       "      <td>Nah I don't think he goes to usf, he lives aro...</td>\n",
       "      <td>61</td>\n",
       "      <td>15</td>\n",
       "      <td>1</td>\n",
       "      <td>nah dont think goes usf lives around though</td>\n",
       "      <td>8</td>\n",
       "    </tr>\n",
       "  </tbody>\n",
       "</table>\n",
       "</div>"
      ],
      "text/plain": [
       "  Label                                               Text  char_count  \\\n",
       "0   ham  Go until jurong point, crazy.. Available only ...         111   \n",
       "1   ham                      Ok lar... Joking wif u oni...          29   \n",
       "2  spam  Free entry in 2 a wkly comp to win FA Cup fina...         155   \n",
       "3   ham  U dun say so early hor... U c already then say...          49   \n",
       "4   ham  Nah I don't think he goes to usf, he lives aro...          61   \n",
       "\n",
       "   word_count  sent_count                                         Clean_Text  \\\n",
       "0          24           2  go jurong point crazy available bugis n great ...   \n",
       "1           8           2                            ok lar joking wif u oni   \n",
       "2          37           2  free entry 2 wkly comp win fa cup final tkts 2...   \n",
       "3          13           1                u dun say early hor u c already say   \n",
       "4          15           1        nah dont think goes usf lives around though   \n",
       "\n",
       "   new_wc  \n",
       "0      16  \n",
       "1       6  \n",
       "2      23  \n",
       "3       9  \n",
       "4       8  "
      ]
     },
     "execution_count": 27,
     "metadata": {},
     "output_type": "execute_result"
    }
   ],
   "source": [
    "import re\n",
    "stop_words = stopwords.words('english')\n",
    "\n",
    "def preprocess(text):\n",
    "    \n",
    "    # convert to lower case\n",
    "    clean_text = text.lower()\n",
    "    \n",
    "    # Remove special characters\n",
    "    clean_text=re.sub(r\"(@\\[A-Za-z0-9]+)|([^0-9A-Za-z \\t])|(\\w+:\\/\\/\\S+)|^rt|http.+?\", \"\", clean_text)\n",
    "    \n",
    "    # Remove stopwords and punctuations\n",
    "    clean_text = \" \".join([w for w in clean_text.split() if w not in stop_words and w not in string.punctuation] )\n",
    "    \n",
    "    return clean_text\n",
    "\n",
    "    \n",
    "data['Clean_Text'] = data['Text'].apply(preprocess)\n",
    "data['new_wc'] = data['Clean_Text'].apply(lambda n: len(n.split()))\n",
    "data.head()    "
   ]
  },
  {
   "cell_type": "code",
   "execution_count": 28,
   "id": "a7c44e0a",
   "metadata": {},
   "outputs": [
    {
     "data": {
      "image/png": "[encoded data removed]",
      "text/plain": [
       "<Figure size 720x720 with 1 Axes>"
      ]
     },
     "metadata": {
      "needs_background": "light"
     },
     "output_type": "display_data"
    }
   ],
   "source": [
    "# ham data frequency words plot\n",
    "ham_df = data[data['Label'] == 'ham']\n",
    "plt.figure(figsize=(10,10))\n",
    "words = ' '.join(ham_df['Clean_Text']).split()\n",
    "w_freq = pd.Series(words).value_counts()\n",
    "#print(w_freq.head(15))\n",
    "w_freq.head(15).plot(kind='bar')\n",
    "plt.title(\"Top 15 frequent words in the ham data\")\n",
    "plt.xticks(rotation = 45)\n",
    "plt.show()"
   ]
  },
  {
   "cell_type": "code",
   "execution_count": 29,
   "id": "30aa2fc3",
   "metadata": {},
   "outputs": [
    {
     "data": {
      "image/png": "[encoded data removed]",
      "text/plain": [
       "<Figure size 720x720 with 1 Axes>"
      ]
     },
     "metadata": {
      "needs_background": "light"
     },
     "output_type": "display_data"
    }
   ],
   "source": [
    "# Spam data frequency words plot\n",
    "spam_df = data[data['Label'] == 'spam']\n",
    "plt.figure(figsize=(10,10))\n",
    "words = ' '.join(spam_df['Clean_Text']).split()\n",
    "w_freq = pd.Series(words).value_counts()\n",
    "#print(w_freq.head(15))\n",
    "w_freq.head(15).plot(kind='bar')\n",
    "plt.title(\"Top 15 frequent words in the Spam data\")\n",
    "plt.xticks(rotation = 45)\n",
    "plt.show()"
   ]
  },
  {
   "cell_type": "markdown",
   "id": "82616e19",
   "metadata": {},
   "source": [
    "### Discussions: \n",
    "-  After preprocessing the data, we can now see the top frequent words in spam messages and ham messages in the above plots which will give us an idea of which words occur  more often  in spam messages. 'call', 'free' , 'claim', 'prize' are some of the words frequently occuring in spam messages."
   ]
  },
  {
   "cell_type": "markdown",
   "id": "c4b74256",
   "metadata": {},
   "source": [
    "## Data Split"
   ]
  },
  {
   "cell_type": "code",
   "execution_count": 30,
   "id": "ab98e0e6",
   "metadata": {},
   "outputs": [],
   "source": [
    "#! pip install imbalanced-learn"
   ]
  },
  {
   "cell_type": "code",
   "execution_count": 31,
   "id": "68c486ba",
   "metadata": {},
   "outputs": [],
   "source": [
    "# Split the data into 80/20 train and test sets.\n",
    "X = data['Clean_Text']\n",
    "y = data['Label'].values"
   ]
  },
  {
   "cell_type": "code",
   "execution_count": 32,
   "id": "90f80779",
   "metadata": {},
   "outputs": [
    {
     "name": "stdout",
     "output_type": "stream",
     "text": [
      "(4136,)\n",
      "(1035,)\n",
      "(4136,)\n",
      "(1035,)\n"
     ]
    }
   ],
   "source": [
    "X_train, X_test, y_train, y_test = train_test_split(X,y, test_size= 0.20 , random_state =1234, shuffle = True)\n",
    "print(X_train.shape)\n",
    "print(X_test.shape)\n",
    "print(y_train.shape)\n",
    "print(y_test.shape)"
   ]
  },
  {
   "cell_type": "markdown",
   "id": "f501b40a",
   "metadata": {},
   "source": [
    "## Feature Extraction\n",
    "-   After the data is cleaned, it should be converted into numerical fromat for machine to understand. This is called feature extraction of text data. Here we will be using TF-IDF vectorizer. \n",
    "-   By using TfidfVectorizer, we consider overall weightage of a word by measuring how often they appear in the sms messages.The words with higher scores of weight are deemed to be more significant. We will now apply tfidfvectorizer to the cleaned data."
   ]
  },
  {
   "cell_type": "code",
   "execution_count": 33,
   "id": "8d08bc3c",
   "metadata": {},
   "outputs": [
    {
     "name": "stdout",
     "output_type": "stream",
     "text": [
      "(4136, 3005)\n",
      "(1035, 3005)\n"
     ]
    }
   ],
   "source": [
    "# TFidf vectorizer \n",
    "tfidf = TfidfVectorizer(max_df = 0.95 ,min_df = 2, stop_words = 'english')\n",
    "#max_features= 2500  #max_features= 3000  #max_features= 4500\n",
    "\n",
    "# Vectorize the train data with tf-idf\n",
    "X_tr = tfidf.fit_transform(X_train).toarray()\n",
    "\n",
    "# Vectorize the test data with tf-idf\n",
    "X_te = tfidf.transform(X_test).toarray()\n",
    "print(X_tr.shape)\n",
    "print(X_te.shape)"
   ]
  },
  {
   "cell_type": "markdown",
   "id": "9a14045f",
   "metadata": {},
   "source": [
    "## 7. Model building and Evaluation"
   ]
  },
  {
   "cell_type": "markdown",
   "id": "0412b54d",
   "metadata": {},
   "source": [
    "-   Here we will focus on binary classification algorithmns such as:  \n",
    " **1. Logistic Regression**     \n",
    " **2.Support vector Classifier**  \n",
    " **3. Naive Bayes- Gaussian, Multinomila, Bernoulli and Complement**  "
   ]
  },
  {
   "cell_type": "code",
   "execution_count": 34,
   "id": "2bab3eb0",
   "metadata": {},
   "outputs": [],
   "source": [
    "# Train and evaluate different regression models \n",
    "\n",
    "def train_and_test_models(X_train, X_test, y_train, y_test):\n",
    "    \n",
    "    # Initialize different regression models\n",
    "    models = [\n",
    "               (\"Logistic Regression\",   LogisticRegression()),\n",
    "               (\"Support Vector Classifier\",  SVC()), \n",
    "               (\"Gaussian Naive Bayes\",  GaussianNB()),\n",
    "               (\"Multinomial Naive Bayes\",  MultinomialNB()),\n",
    "               (\"Bernoulli Naive Bayes\",  BernoulliNB()),\n",
    "               (\"Complement Naive Bayes\",  ComplementNB())\n",
    "              ]\n",
    "    \n",
    "    # Create lists to store the results\n",
    "    model_names = []\n",
    "    tr_acc_values=[]\n",
    "    accuracy_values = []\n",
    "    precision_values = []    \n",
    "    recall_values = []\n",
    "    f1_values = []\n",
    "    \n",
    "               \n",
    "    # Fit and evaluate each model\n",
    "    for model_name, model in models:\n",
    "        \n",
    "        # fit model on train data\n",
    "        model.fit(X_train, y_train)               \n",
    "        \n",
    "        #predict on test data\n",
    "        y_pred = model.predict(X_test)\n",
    "        \n",
    "        #print(model_name,\":\\n\",classification_report(y_test,y_pred))\n",
    "        #print(\"-------------------------------------------------------------\")\n",
    " \n",
    "        # compute performance scores of test set\n",
    "        acc =  accuracy_score(y_test, y_pred)\n",
    "        pre =  precision_score(y_test, y_pred, average='weighted')\n",
    "        rec =  recall_score(y_test, y_pred, average='weighted')\n",
    "        f1 =   f1_score(y_test, y_pred, average='weighted')\n",
    "       \n",
    "        \n",
    "        model_names.append(model_name)\n",
    "        tr_acc_values.append(model.score(X_train, y_train)) \n",
    "        accuracy_values .append(acc)\n",
    "        precision_values.append(pre)   \n",
    "        recall_values.append(rec)\n",
    "        f1_values.append(f1)\n",
    "                \n",
    "        metrics_df=pd.DataFrame({\n",
    "            'Model': model_names,\n",
    "            'Train_acc' :np.round(tr_acc_values,2) ,                    \n",
    "            'Accuracy' :np.round(accuracy_values,2),\n",
    "            'Precision': np.round(precision_values,2),\n",
    "            'Recall': np.round(recall_values,2),\n",
    "            'F1' : np.round(f1_values,2),\n",
    "           \n",
    "        })\n",
    "    return metrics_df"
   ]
  },
  {
   "cell_type": "code",
   "execution_count": 35,
   "id": "4f2b6c29",
   "metadata": {},
   "outputs": [
    {
     "data": {
      "text/html": [
       "<div>\n",
       "<style scoped>\n",
       "    .dataframe tbody tr th:only-of-type {\n",
       "        vertical-align: middle;\n",
       "    }\n",
       "\n",
       "    .dataframe tbody tr th {\n",
       "        vertical-align: top;\n",
       "    }\n",
       "\n",
       "    .dataframe thead th {\n",
       "        text-align: right;\n",
       "    }\n",
       "</style>\n",
       "<table border=\"1\" class=\"dataframe\">\n",
       "  <thead>\n",
       "    <tr style=\"text-align: right;\">\n",
       "      <th></th>\n",
       "      <th>Model</th>\n",
       "      <th>Train_acc</th>\n",
       "      <th>Accuracy</th>\n",
       "      <th>Precision</th>\n",
       "      <th>Recall</th>\n",
       "      <th>F1</th>\n",
       "    </tr>\n",
       "  </thead>\n",
       "  <tbody>\n",
       "    <tr>\n",
       "      <th>0</th>\n",
       "      <td>Logistic Regression</td>\n",
       "      <td>0.97</td>\n",
       "      <td>0.97</td>\n",
       "      <td>0.97</td>\n",
       "      <td>0.97</td>\n",
       "      <td>0.97</td>\n",
       "    </tr>\n",
       "    <tr>\n",
       "      <th>1</th>\n",
       "      <td>Support Vector Classifier</td>\n",
       "      <td>1.00</td>\n",
       "      <td>0.98</td>\n",
       "      <td>0.98</td>\n",
       "      <td>0.98</td>\n",
       "      <td>0.98</td>\n",
       "    </tr>\n",
       "    <tr>\n",
       "      <th>2</th>\n",
       "      <td>Gaussian Naive Bayes</td>\n",
       "      <td>0.90</td>\n",
       "      <td>0.85</td>\n",
       "      <td>0.93</td>\n",
       "      <td>0.85</td>\n",
       "      <td>0.87</td>\n",
       "    </tr>\n",
       "    <tr>\n",
       "      <th>3</th>\n",
       "      <td>Multinomial Naive Bayes</td>\n",
       "      <td>0.98</td>\n",
       "      <td>0.98</td>\n",
       "      <td>0.98</td>\n",
       "      <td>0.98</td>\n",
       "      <td>0.98</td>\n",
       "    </tr>\n",
       "    <tr>\n",
       "      <th>4</th>\n",
       "      <td>Bernoulli Naive Bayes</td>\n",
       "      <td>0.98</td>\n",
       "      <td>0.98</td>\n",
       "      <td>0.98</td>\n",
       "      <td>0.98</td>\n",
       "      <td>0.98</td>\n",
       "    </tr>\n",
       "    <tr>\n",
       "      <th>5</th>\n",
       "      <td>Complement Naive Bayes</td>\n",
       "      <td>0.97</td>\n",
       "      <td>0.94</td>\n",
       "      <td>0.96</td>\n",
       "      <td>0.94</td>\n",
       "      <td>0.95</td>\n",
       "    </tr>\n",
       "  </tbody>\n",
       "</table>\n",
       "</div>"
      ],
      "text/plain": [
       "                       Model  Train_acc  Accuracy  Precision  Recall    F1\n",
       "0        Logistic Regression       0.97      0.97       0.97    0.97  0.97\n",
       "1  Support Vector Classifier       1.00      0.98       0.98    0.98  0.98\n",
       "2       Gaussian Naive Bayes       0.90      0.85       0.93    0.85  0.87\n",
       "3    Multinomial Naive Bayes       0.98      0.98       0.98    0.98  0.98\n",
       "4      Bernoulli Naive Bayes       0.98      0.98       0.98    0.98  0.98\n",
       "5     Complement Naive Bayes       0.97      0.94       0.96    0.94  0.95"
      ]
     },
     "execution_count": 35,
     "metadata": {},
     "output_type": "execute_result"
    }
   ],
   "source": [
    "# Evaluate Performance Metrics of the models with imbalanced data\n",
    "a = train_and_test_models(X_tr, X_te, y_train,y_test)\n",
    "a"
   ]
  },
  {
   "cell_type": "markdown",
   "id": "f791da0e",
   "metadata": {},
   "source": [
    "### Analysis:\n",
    "-   We have used 6 supervised algorithms in model building.  \n",
    "-  Logistic Regression and SVC performed well with good scores as shown in the table above.\n",
    "-   Out of the 4 naive bayes models, gaussian model has a low performance with test score of 0.85.\n",
    "-  In the next step we will balance the data using SMOTE technique and check the results."
   ]
  },
  {
   "cell_type": "markdown",
   "id": "ff6890c3",
   "metadata": {},
   "source": [
    "## Synthetic Minority Oversampling Technique (SMOTE) for Imbalanced data\n",
    "-  Synthetic samples of minority class( in this dataset spam) are generated to address bias issues and improve  perfromance of the classifiers by making more accurate predictions. It helps to overcome overfitting problems."
   ]
  },
  {
   "cell_type": "code",
   "execution_count": 36,
   "id": "35becd74",
   "metadata": {},
   "outputs": [
    {
     "name": "stdout",
     "output_type": "stream",
     "text": [
      "before: Counter({'ham': 3594, 'spam': 542})\n",
      "after: Counter({'ham': 3594, 'spam': 3594})\n"
     ]
    }
   ],
   "source": [
    "import imblearn\n",
    "from imblearn.over_sampling import SMOTE\n",
    "from collections import Counter\n",
    "\n",
    "counter = Counter(y_train)\n",
    "print('before:' , counter)\n",
    "smt = SMOTE()\n",
    "X_bal, y_bal = smt.fit_resample(X_tr, y_train)\n",
    "counter = Counter(y_bal)\n",
    "print('after:', counter)"
   ]
  },
  {
   "cell_type": "code",
   "execution_count": 37,
   "id": "6fd59696",
   "metadata": {},
   "outputs": [
    {
     "data": {
      "text/html": [
       "<div>\n",
       "<style scoped>\n",
       "    .dataframe tbody tr th:only-of-type {\n",
       "        vertical-align: middle;\n",
       "    }\n",
       "\n",
       "    .dataframe tbody tr th {\n",
       "        vertical-align: top;\n",
       "    }\n",
       "\n",
       "    .dataframe thead th {\n",
       "        text-align: right;\n",
       "    }\n",
       "</style>\n",
       "<table border=\"1\" class=\"dataframe\">\n",
       "  <thead>\n",
       "    <tr style=\"text-align: right;\">\n",
       "      <th></th>\n",
       "      <th>Model</th>\n",
       "      <th>Train_acc</th>\n",
       "      <th>Accuracy</th>\n",
       "      <th>Precision</th>\n",
       "      <th>Recall</th>\n",
       "      <th>F1</th>\n",
       "    </tr>\n",
       "  </thead>\n",
       "  <tbody>\n",
       "    <tr>\n",
       "      <th>0</th>\n",
       "      <td>Logistic Regression</td>\n",
       "      <td>0.97</td>\n",
       "      <td>0.97</td>\n",
       "      <td>0.97</td>\n",
       "      <td>0.97</td>\n",
       "      <td>0.97</td>\n",
       "    </tr>\n",
       "    <tr>\n",
       "      <th>1</th>\n",
       "      <td>Support Vector Classifier</td>\n",
       "      <td>1.00</td>\n",
       "      <td>0.98</td>\n",
       "      <td>0.98</td>\n",
       "      <td>0.98</td>\n",
       "      <td>0.98</td>\n",
       "    </tr>\n",
       "    <tr>\n",
       "      <th>2</th>\n",
       "      <td>Gaussian Naive Bayes</td>\n",
       "      <td>0.90</td>\n",
       "      <td>0.85</td>\n",
       "      <td>0.93</td>\n",
       "      <td>0.85</td>\n",
       "      <td>0.87</td>\n",
       "    </tr>\n",
       "    <tr>\n",
       "      <th>3</th>\n",
       "      <td>Multinomial Naive Bayes</td>\n",
       "      <td>0.98</td>\n",
       "      <td>0.98</td>\n",
       "      <td>0.98</td>\n",
       "      <td>0.98</td>\n",
       "      <td>0.98</td>\n",
       "    </tr>\n",
       "    <tr>\n",
       "      <th>4</th>\n",
       "      <td>Bernoulli Naive Bayes</td>\n",
       "      <td>0.98</td>\n",
       "      <td>0.98</td>\n",
       "      <td>0.98</td>\n",
       "      <td>0.98</td>\n",
       "      <td>0.98</td>\n",
       "    </tr>\n",
       "    <tr>\n",
       "      <th>5</th>\n",
       "      <td>Complement Naive Bayes</td>\n",
       "      <td>0.97</td>\n",
       "      <td>0.94</td>\n",
       "      <td>0.96</td>\n",
       "      <td>0.94</td>\n",
       "      <td>0.95</td>\n",
       "    </tr>\n",
       "  </tbody>\n",
       "</table>\n",
       "</div>"
      ],
      "text/plain": [
       "                       Model  Train_acc  Accuracy  Precision  Recall    F1\n",
       "0        Logistic Regression       0.97      0.97       0.97    0.97  0.97\n",
       "1  Support Vector Classifier       1.00      0.98       0.98    0.98  0.98\n",
       "2       Gaussian Naive Bayes       0.90      0.85       0.93    0.85  0.87\n",
       "3    Multinomial Naive Bayes       0.98      0.98       0.98    0.98  0.98\n",
       "4      Bernoulli Naive Bayes       0.98      0.98       0.98    0.98  0.98\n",
       "5     Complement Naive Bayes       0.97      0.94       0.96    0.94  0.95"
      ]
     },
     "execution_count": 37,
     "metadata": {},
     "output_type": "execute_result"
    }
   ],
   "source": [
    "# Imbalanced data results\n",
    "a"
   ]
  },
  {
   "cell_type": "code",
   "execution_count": 38,
   "id": "7861e470",
   "metadata": {},
   "outputs": [
    {
     "data": {
      "text/html": [
       "<div>\n",
       "<style scoped>\n",
       "    .dataframe tbody tr th:only-of-type {\n",
       "        vertical-align: middle;\n",
       "    }\n",
       "\n",
       "    .dataframe tbody tr th {\n",
       "        vertical-align: top;\n",
       "    }\n",
       "\n",
       "    .dataframe thead th {\n",
       "        text-align: right;\n",
       "    }\n",
       "</style>\n",
       "<table border=\"1\" class=\"dataframe\">\n",
       "  <thead>\n",
       "    <tr style=\"text-align: right;\">\n",
       "      <th></th>\n",
       "      <th>Model</th>\n",
       "      <th>Train_acc</th>\n",
       "      <th>Accuracy</th>\n",
       "      <th>Precision</th>\n",
       "      <th>Recall</th>\n",
       "      <th>F1</th>\n",
       "    </tr>\n",
       "  </thead>\n",
       "  <tbody>\n",
       "    <tr>\n",
       "      <th>0</th>\n",
       "      <td>Logistic Regression</td>\n",
       "      <td>0.97</td>\n",
       "      <td>0.98</td>\n",
       "      <td>0.98</td>\n",
       "      <td>0.98</td>\n",
       "      <td>0.98</td>\n",
       "    </tr>\n",
       "    <tr>\n",
       "      <th>1</th>\n",
       "      <td>Support Vector Classifier</td>\n",
       "      <td>0.99</td>\n",
       "      <td>0.97</td>\n",
       "      <td>0.97</td>\n",
       "      <td>0.97</td>\n",
       "      <td>0.97</td>\n",
       "    </tr>\n",
       "    <tr>\n",
       "      <th>2</th>\n",
       "      <td>Gaussian Naive Bayes</td>\n",
       "      <td>0.94</td>\n",
       "      <td>0.85</td>\n",
       "      <td>0.93</td>\n",
       "      <td>0.85</td>\n",
       "      <td>0.88</td>\n",
       "    </tr>\n",
       "    <tr>\n",
       "      <th>3</th>\n",
       "      <td>Multinomial Naive Bayes</td>\n",
       "      <td>0.98</td>\n",
       "      <td>0.96</td>\n",
       "      <td>0.97</td>\n",
       "      <td>0.96</td>\n",
       "      <td>0.96</td>\n",
       "    </tr>\n",
       "    <tr>\n",
       "      <th>4</th>\n",
       "      <td>Bernoulli Naive Bayes</td>\n",
       "      <td>0.98</td>\n",
       "      <td>0.98</td>\n",
       "      <td>0.98</td>\n",
       "      <td>0.98</td>\n",
       "      <td>0.98</td>\n",
       "    </tr>\n",
       "    <tr>\n",
       "      <th>5</th>\n",
       "      <td>Complement Naive Bayes</td>\n",
       "      <td>0.98</td>\n",
       "      <td>0.96</td>\n",
       "      <td>0.97</td>\n",
       "      <td>0.96</td>\n",
       "      <td>0.96</td>\n",
       "    </tr>\n",
       "  </tbody>\n",
       "</table>\n",
       "</div>"
      ],
      "text/plain": [
       "                       Model  Train_acc  Accuracy  Precision  Recall    F1\n",
       "0        Logistic Regression       0.97      0.98       0.98    0.98  0.98\n",
       "1  Support Vector Classifier       0.99      0.97       0.97    0.97  0.97\n",
       "2       Gaussian Naive Bayes       0.94      0.85       0.93    0.85  0.88\n",
       "3    Multinomial Naive Bayes       0.98      0.96       0.97    0.96  0.96\n",
       "4      Bernoulli Naive Bayes       0.98      0.98       0.98    0.98  0.98\n",
       "5     Complement Naive Bayes       0.98      0.96       0.97    0.96  0.96"
      ]
     },
     "execution_count": 38,
     "metadata": {},
     "output_type": "execute_result"
    }
   ],
   "source": [
    "# Balanced data results\n",
    "train_and_test_models(X_bal, X_te, y_bal,y_test)"
   ]
  },
  {
   "cell_type": "markdown",
   "id": "82b67750",
   "metadata": {},
   "source": [
    "## Analysis\n",
    "-  Balancing the data and model evaluation only improved the train score of gaussian naive bayes classifier from 0.90 to 0.94. \n",
    "-  There is no significant change in other models scores.\n",
    "-   Next step is to perform hyperparameter tuning using grid search on gaussian naive bayes to see if there is an improvement in model perfromance"
   ]
  },
  {
   "cell_type": "markdown",
   "id": "a1c26b10",
   "metadata": {},
   "source": [
    "## Hyperparameter Tune Gaussian Naive Bayes using GridSearchCV"
   ]
  },
  {
   "cell_type": "code",
   "execution_count": 39,
   "id": "c937aff4",
   "metadata": {},
   "outputs": [
    {
     "name": "stdout",
     "output_type": "stream",
     "text": [
      "Fitting 5 folds for each of 100 candidates, totalling 500 fits\n"
     ]
    },
    {
     "data": {
      "text/plain": [
       "{'var_smoothing': 0.008111308307896872}"
      ]
     },
     "execution_count": 39,
     "metadata": {},
     "output_type": "execute_result"
    }
   ],
   "source": [
    "# Grid Search Cv\n",
    "nb_classifier = GaussianNB()\n",
    "\n",
    "params_NB = {'var_smoothing': np.logspace(0,-9, num=100)}\n",
    "gs_NB = GridSearchCV(estimator=nb_classifier, \n",
    "                 param_grid=params_NB, \n",
    "                 cv=5,   \n",
    "                 verbose=1, \n",
    "                 scoring='accuracy') \n",
    "gs_NB.fit(X_bal, y_bal)\n",
    "\n",
    "gs_NB.best_params_"
   ]
  },
  {
   "cell_type": "code",
   "execution_count": 40,
   "id": "21b6950a",
   "metadata": {},
   "outputs": [
    {
     "data": {
      "text/plain": [
       "0.9599335270997085"
      ]
     },
     "execution_count": 40,
     "metadata": {},
     "output_type": "execute_result"
    }
   ],
   "source": [
    "gs_NB.best_score_"
   ]
  },
  {
   "cell_type": "code",
   "execution_count": 41,
   "id": "d7861608",
   "metadata": {},
   "outputs": [
    {
     "name": "stdout",
     "output_type": "stream",
     "text": [
      "train_score =  0.98\n",
      "test_score =  0.92\n",
      "              precision    recall  f1-score   support\n",
      "\n",
      "         ham       0.99      0.92      0.96       924\n",
      "        spam       0.59      0.95      0.73       111\n",
      "\n",
      "    accuracy                           0.92      1035\n",
      "   macro avg       0.79      0.93      0.84      1035\n",
      "weighted avg       0.95      0.92      0.93      1035\n",
      "\n"
     ]
    }
   ],
   "source": [
    "gnb = GaussianNB(var_smoothing = 0.01)\n",
    "model_gnb = gnb.fit(X_bal, y_bal)\n",
    "y_pred = model_gnb.predict(X_te)\n",
    "print('train_score = ', np.round(model_gnb.score(X_bal, y_bal),2))\n",
    "print('test_score = ' , np.round(model_gnb.score(X_te, y_test),2))\n",
    "print(classification_report(y_test,y_pred))"
   ]
  },
  {
   "cell_type": "markdown",
   "id": "ab7b9a9d",
   "metadata": {},
   "source": [
    "## Let's try with a random text"
   ]
  },
  {
   "cell_type": "code",
   "execution_count": 56,
   "id": "601028be",
   "metadata": {},
   "outputs": [],
   "source": [
    "demo = [\" Congrats! You have won $1000,the IRS is trying to contact you to claim your prize, you have a refund coming or asking you to verify your bank account.\",\n",
    "        \"Hey Buddy! Let's have dinner at chipotle this weekend.I want you to pay the bill this time\"]"
   ]
  },
  {
   "cell_type": "code",
   "execution_count": 57,
   "id": "fd651595",
   "metadata": {},
   "outputs": [
    {
     "data": {
      "text/plain": [
       "array(['spam', 'ham'], dtype='<U4')"
      ]
     },
     "execution_count": 57,
     "metadata": {},
     "output_type": "execute_result"
    }
   ],
   "source": [
    "demo_fe = tfidf.transform(demo).toarray()\n",
    "model_gnb.predict(demo_fe)"
   ]
  },
  {
   "cell_type": "code",
   "execution_count": 58,
   "id": "ccacd98e",
   "metadata": {},
   "outputs": [
    {
     "data": {
      "text/plain": [
       "array(['spam', 'ham'], dtype=object)"
      ]
     },
     "execution_count": 58,
     "metadata": {},
     "output_type": "execute_result"
    }
   ],
   "source": [
    "lg = LogisticRegression()\n",
    "model_lg = lg.fit(X_bal, y_bal)\n",
    "model_lg.predict(demo_fe)"
   ]
  },
  {
   "cell_type": "code",
   "execution_count": 59,
   "id": "d130330f",
   "metadata": {},
   "outputs": [
    {
     "data": {
      "text/plain": [
       "array(['spam', 'ham'], dtype=object)"
      ]
     },
     "execution_count": 59,
     "metadata": {},
     "output_type": "execute_result"
    }
   ],
   "source": [
    "svc= SVC()\n",
    "model_svc = svc.fit(X_bal, y_bal)\n",
    "model_svc.predict(demo_fe)"
   ]
  },
  {
   "cell_type": "code",
   "execution_count": 60,
   "id": "4b3bdc91",
   "metadata": {},
   "outputs": [
    {
     "data": {
      "text/plain": [
       "array(['spam', 'ham'], dtype='<U4')"
      ]
     },
     "execution_count": 60,
     "metadata": {},
     "output_type": "execute_result"
    }
   ],
   "source": [
    "mnb= MultinomialNB()\n",
    "model_mnb = mnb.fit(X_bal, y_bal)\n",
    "model_mnb.predict(demo_fe)"
   ]
  },
  {
   "cell_type": "code",
   "execution_count": 61,
   "id": "b6ab401b",
   "metadata": {},
   "outputs": [
    {
     "data": {
      "text/plain": [
       "array(['spam', 'ham'], dtype='<U4')"
      ]
     },
     "execution_count": 61,
     "metadata": {},
     "output_type": "execute_result"
    }
   ],
   "source": [
    "bnb = BernoulliNB()\n",
    "model_bnb = bnb.fit(X_bal, y_bal)\n",
    "model_bnb.predict(demo_fe)"
   ]
  },
  {
   "cell_type": "code",
   "execution_count": 62,
   "id": "d59b1f79",
   "metadata": {},
   "outputs": [
    {
     "data": {
      "text/plain": [
       "array(['spam', 'ham'], dtype='<U4')"
      ]
     },
     "execution_count": 62,
     "metadata": {},
     "output_type": "execute_result"
    }
   ],
   "source": [
    "cnb =ComplementNB()\n",
    "model_cnb = cnb.fit(X_bal, y_bal)\n",
    "model_cnb.predict(demo_fe)"
   ]
  },
  {
   "cell_type": "markdown",
   "id": "a8ae24c1",
   "metadata": {},
   "source": [
    "## 8. Results & Analysis\n",
    "-   The scores of gaussian naive bayes model improved significantly after parameter tuning.\n",
    "\n",
    "\n",
    " |Model| train_acc | test_acc | Precision |Recall  |   F1     |\n",
    "|:-------: |:--------:|:--------:|:--------:|:--------:|:--------:|\n",
    "|Imbalanced  |0.90   | 0.85   |  0.93   |0.85|0.87|\n",
    "|Balanced  |0.94\t|0.85|\t0.93|\t0.85\t|0.88|\n",
    "|Tuned model |  0.98   |  0.93   |  0.95   |   0.93  |    0.93|\n",
    "\t\t\t\t\n",
    "                \n",
    "-  Final comparison of model scores\n",
    "|Model| train_acc | test_acc | Precision |Recall  |   F1     |\n",
    "|:-------: |:--------:|:--------:|:--------:|:--------:|:--------:|\n",
    "|Logistic regression  |0.97\t|0.98|\t0.98\t|0.98\t|0.98|\n",
    "|SVC |0.99|\t0.97|\t0.97|\t0.97\t|0.97|\n",
    "|Gaussian NB |  0.98   |  0.93   |  0.95   |   0.93  |    0.93|\n",
    "|Multinomial NB|\t0.98|\t0.96|\t0.96|\t0.96\t|0.96|\n",
    "|Bernoulli NB|\t0.98|\t0.99\t|0.99\t|0.99\t|0.99|\n",
    "|Complement NB|\t0.98|\t0.96|\t0.96|\t0.96\t|0.96|"
   ]
  },
  {
   "cell_type": "markdown",
   "id": "b2ccd486",
   "metadata": {},
   "source": [
    "## 9. Discussions and Conclusions\n",
    "\n",
    "-   The data is trained and tested using supervised models.\n",
    "-   Used smote technique to address data imbalance.\n",
    "-   Compared the results of the models.\n",
    "-   For imbalanced data accuracy scores may not be a good choice of metric due to bias.\n",
    "-   Hence Precision, recall and F1 scores are chosen to evalute the models performance. \n",
    "-   Over all SVC, Naive Bayes performed better.\n",
    "\n",
    "-   Ways to improve\n",
    " -   Time complexity of machine learning models should also be considered an evaluation metric.\n",
    " -  Clustering techniques can be used which may increase spam filtering efficiency."
   ]
  },
  {
   "cell_type": "markdown",
   "id": "905c75cf",
   "metadata": {},
   "source": [
    "### GitHub Repository Link\n",
    "https://github.com/ShravaniNK/MachineLearning/blob/main/SpamClassification"
   ]
  },
  {
   "cell_type": "code",
   "execution_count": null,
   "id": "eeb88d53",
   "metadata": {},
   "outputs": [],
   "source": []
  },
  {
   "cell_type": "code",
   "execution_count": null,
   "id": "80c467e1",
   "metadata": {},
   "outputs": [],
   "source": []
  }
 ],
 "metadata": {
  "kernelspec": {
   "display_name": "Python 3 (ipykernel)",
   "language": "python",
   "name": "python3"
  },
  "language_info": {
   "codemirror_mode": {
    "name": "ipython",
    "version": 3
   },
   "file_extension": ".py",
   "mimetype": "text/x-python",
   "name": "python",
   "nbconvert_exporter": "python",
   "pygments_lexer": "ipython3",
   "version": "3.9.2"
  }
 },
 "nbformat": 4,
 "nbformat_minor": 5
}
