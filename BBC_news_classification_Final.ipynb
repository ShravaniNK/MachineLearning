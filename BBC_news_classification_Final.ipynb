{
 "cells": [
  {
   "cell_type": "markdown",
   "metadata": {},
   "source": [
    "# BBC News Classification using NMF \n",
    "\n",
    "### Kaggle link: https://www.kaggle.com/code/venkatabotta/bbc-news-classification"
   ]
  },
  {
   "cell_type": "markdown",
   "metadata": {},
   "source": [
    "## Import libraries"
   ]
  },
  {
   "cell_type": "code",
   "execution_count": 1,
   "metadata": {},
   "outputs": [],
   "source": [
    "import pandas as pd\n",
    "import numpy as np\n",
    "import matplotlib.pyplot as plt\n",
    "import seaborn as sns\n",
    "import re\n",
    "import itertools\n",
    "import operator\n",
    "import random\n",
    "import sklearn\n",
    "import sklearn.linear_model\n",
    "import sklearn.model_selection\n",
    "from time import time\n",
    "from sklearn.feature_extraction.text import TfidfVectorizer,ENGLISH_STOP_WORDS\n",
    "from sklearn.decomposition import NMF\n",
    "from sklearn.linear_model import LogisticRegression\n",
    "from sklearn.ensemble import RandomForestClassifier\n",
    "from sklearn.metrics import confusion_matrix,classification_report, make_scorer, accuracy_score\n",
    "from sklearn.model_selection import GridSearchCV\n",
    "from sklearn.pipeline import Pipeline\n",
    "from sklearn.preprocessing import LabelEncoder\n",
    "from sklearn.model_selection import train_test_split"
   ]
  },
  {
   "cell_type": "markdown",
   "metadata": {},
   "source": [
    "## Introduction\n",
    "\n",
    "### For this project, we will use NMF method to classify the various articles present the dataset into 5 main categories/clusters. \n",
    "\n",
    "### We will first import the train and test set data for our basic explanatroy data analysis procedure and to get insights from by extracting important variables from our train dataset.\n"
   ]
  },
  {
   "cell_type": "code",
   "execution_count": 2,
   "metadata": {},
   "outputs": [],
   "source": [
    "bbc_train = pd.read_csv('bbc_train.csv')\n",
    "bbc_test = pd.read_csv('bbc_test.csv')"
   ]
  },
  {
   "cell_type": "markdown",
   "metadata": {},
   "source": [
    "## Step 1 : Extracting word features and show Exploratory Data Analysis (EDA) — Inspect, Visualize and Clean the Data "
   ]
  },
  {
   "cell_type": "markdown",
   "metadata": {},
   "source": [
    "### Inspect the train dataset"
   ]
  },
  {
   "cell_type": "code",
   "execution_count": 3,
   "metadata": {},
   "outputs": [
    {
     "data": {
      "text/html": [
       "<div>\n",
       "<style scoped>\n",
       "    .dataframe tbody tr th:only-of-type {\n",
       "        vertical-align: middle;\n",
       "    }\n",
       "\n",
       "    .dataframe tbody tr th {\n",
       "        vertical-align: top;\n",
       "    }\n",
       "\n",
       "    .dataframe thead th {\n",
       "        text-align: right;\n",
       "    }\n",
       "</style>\n",
       "<table border=\"1\" class=\"dataframe\">\n",
       "  <thead>\n",
       "    <tr style=\"text-align: right;\">\n",
       "      <th></th>\n",
       "      <th>ArticleId</th>\n",
       "      <th>Text</th>\n",
       "      <th>Category</th>\n",
       "    </tr>\n",
       "  </thead>\n",
       "  <tbody>\n",
       "    <tr>\n",
       "      <th>0</th>\n",
       "      <td>1833</td>\n",
       "      <td>worldcom ex-boss launches defence lawyers defe...</td>\n",
       "      <td>business</td>\n",
       "    </tr>\n",
       "    <tr>\n",
       "      <th>1</th>\n",
       "      <td>154</td>\n",
       "      <td>german business confidence slides german busin...</td>\n",
       "      <td>business</td>\n",
       "    </tr>\n",
       "    <tr>\n",
       "      <th>2</th>\n",
       "      <td>1101</td>\n",
       "      <td>bbc poll indicates economic gloom citizens in ...</td>\n",
       "      <td>business</td>\n",
       "    </tr>\n",
       "    <tr>\n",
       "      <th>3</th>\n",
       "      <td>1976</td>\n",
       "      <td>lifestyle  governs mobile choice  faster  bett...</td>\n",
       "      <td>tech</td>\n",
       "    </tr>\n",
       "    <tr>\n",
       "      <th>4</th>\n",
       "      <td>917</td>\n",
       "      <td>enron bosses in $168m payout eighteen former e...</td>\n",
       "      <td>business</td>\n",
       "    </tr>\n",
       "  </tbody>\n",
       "</table>\n",
       "</div>"
      ],
      "text/plain": [
       "   ArticleId                                               Text  Category\n",
       "0       1833  worldcom ex-boss launches defence lawyers defe...  business\n",
       "1        154  german business confidence slides german busin...  business\n",
       "2       1101  bbc poll indicates economic gloom citizens in ...  business\n",
       "3       1976  lifestyle  governs mobile choice  faster  bett...      tech\n",
       "4        917  enron bosses in $168m payout eighteen former e...  business"
      ]
     },
     "execution_count": 3,
     "metadata": {},
     "output_type": "execute_result"
    }
   ],
   "source": [
    "bbc_train.head()"
   ]
  },
  {
   "cell_type": "markdown",
   "metadata": {},
   "source": [
    "### Word count of each article in the train data."
   ]
  },
  {
   "cell_type": "code",
   "execution_count": 4,
   "metadata": {},
   "outputs": [],
   "source": [
    "bbc_train['word_count'] = bbc_train['Text'].apply(lambda n: len(n.split()))"
   ]
  },
  {
   "cell_type": "code",
   "execution_count": 5,
   "metadata": {},
   "outputs": [
    {
     "data": {
      "text/html": [
       "<div>\n",
       "<style scoped>\n",
       "    .dataframe tbody tr th:only-of-type {\n",
       "        vertical-align: middle;\n",
       "    }\n",
       "\n",
       "    .dataframe tbody tr th {\n",
       "        vertical-align: top;\n",
       "    }\n",
       "\n",
       "    .dataframe thead th {\n",
       "        text-align: right;\n",
       "    }\n",
       "</style>\n",
       "<table border=\"1\" class=\"dataframe\">\n",
       "  <thead>\n",
       "    <tr style=\"text-align: right;\">\n",
       "      <th></th>\n",
       "      <th>ArticleId</th>\n",
       "      <th>Text</th>\n",
       "      <th>Category</th>\n",
       "      <th>word_count</th>\n",
       "    </tr>\n",
       "  </thead>\n",
       "  <tbody>\n",
       "    <tr>\n",
       "      <th>0</th>\n",
       "      <td>1833</td>\n",
       "      <td>worldcom ex-boss launches defence lawyers defe...</td>\n",
       "      <td>business</td>\n",
       "      <td>301</td>\n",
       "    </tr>\n",
       "    <tr>\n",
       "      <th>1</th>\n",
       "      <td>154</td>\n",
       "      <td>german business confidence slides german busin...</td>\n",
       "      <td>business</td>\n",
       "      <td>325</td>\n",
       "    </tr>\n",
       "    <tr>\n",
       "      <th>2</th>\n",
       "      <td>1101</td>\n",
       "      <td>bbc poll indicates economic gloom citizens in ...</td>\n",
       "      <td>business</td>\n",
       "      <td>514</td>\n",
       "    </tr>\n",
       "    <tr>\n",
       "      <th>3</th>\n",
       "      <td>1976</td>\n",
       "      <td>lifestyle  governs mobile choice  faster  bett...</td>\n",
       "      <td>tech</td>\n",
       "      <td>634</td>\n",
       "    </tr>\n",
       "    <tr>\n",
       "      <th>4</th>\n",
       "      <td>917</td>\n",
       "      <td>enron bosses in $168m payout eighteen former e...</td>\n",
       "      <td>business</td>\n",
       "      <td>355</td>\n",
       "    </tr>\n",
       "  </tbody>\n",
       "</table>\n",
       "</div>"
      ],
      "text/plain": [
       "   ArticleId                                               Text  Category  \\\n",
       "0       1833  worldcom ex-boss launches defence lawyers defe...  business   \n",
       "1        154  german business confidence slides german busin...  business   \n",
       "2       1101  bbc poll indicates economic gloom citizens in ...  business   \n",
       "3       1976  lifestyle  governs mobile choice  faster  bett...      tech   \n",
       "4        917  enron bosses in $168m payout eighteen former e...  business   \n",
       "\n",
       "   word_count  \n",
       "0         301  \n",
       "1         325  \n",
       "2         514  \n",
       "3         634  \n",
       "4         355  "
      ]
     },
     "execution_count": 5,
     "metadata": {},
     "output_type": "execute_result"
    }
   ],
   "source": [
    "bbc_train.head()"
   ]
  },
  {
   "cell_type": "markdown",
   "metadata": {},
   "source": [
    "### Locate missing data in the train dataset. "
   ]
  },
  {
   "cell_type": "code",
   "execution_count": 6,
   "metadata": {},
   "outputs": [
    {
     "data": {
      "text/plain": [
       "ArticleId     0\n",
       "Text          0\n",
       "Category      0\n",
       "word_count    0\n",
       "dtype: int64"
      ]
     },
     "execution_count": 6,
     "metadata": {},
     "output_type": "execute_result"
    }
   ],
   "source": [
    "bbc_train.isnull().sum()"
   ]
  },
  {
   "cell_type": "markdown",
   "metadata": {},
   "source": [
    "### Check for duplicates in the train dataset"
   ]
  },
  {
   "cell_type": "code",
   "execution_count": 7,
   "metadata": {},
   "outputs": [
    {
     "data": {
      "text/plain": [
       "0"
      ]
     },
     "execution_count": 7,
     "metadata": {},
     "output_type": "execute_result"
    }
   ],
   "source": [
    "bbc_train.duplicated().sum()"
   ]
  },
  {
   "cell_type": "markdown",
   "metadata": {},
   "source": [
    "### Information about train dataset"
   ]
  },
  {
   "cell_type": "code",
   "execution_count": 8,
   "metadata": {},
   "outputs": [
    {
     "name": "stdout",
     "output_type": "stream",
     "text": [
      "<class 'pandas.core.frame.DataFrame'>\n",
      "RangeIndex: 1490 entries, 0 to 1489\n",
      "Data columns (total 4 columns):\n",
      " #   Column      Non-Null Count  Dtype \n",
      "---  ------      --------------  ----- \n",
      " 0   ArticleId   1490 non-null   int64 \n",
      " 1   Text        1490 non-null   object\n",
      " 2   Category    1490 non-null   object\n",
      " 3   word_count  1490 non-null   int64 \n",
      "dtypes: int64(2), object(2)\n",
      "memory usage: 46.7+ KB\n"
     ]
    }
   ],
   "source": [
    "bbc_train.info()"
   ]
  },
  {
   "cell_type": "markdown",
   "metadata": {},
   "source": [
    "### Displaying all categories in the train dataset"
   ]
  },
  {
   "cell_type": "code",
   "execution_count": 9,
   "metadata": {},
   "outputs": [
    {
     "data": {
      "text/plain": [
       "array(['business', 'tech', 'politics', 'sport', 'entertainment'],\n",
       "      dtype=object)"
      ]
     },
     "execution_count": 9,
     "metadata": {},
     "output_type": "execute_result"
    }
   ],
   "source": [
    "bbc_train.Category.unique()\n",
    "#pd.unique(bbc_train['Category'])"
   ]
  },
  {
   "cell_type": "markdown",
   "metadata": {},
   "source": [
    "### Summary statistics of train data word_count"
   ]
  },
  {
   "cell_type": "code",
   "execution_count": 10,
   "metadata": {},
   "outputs": [
    {
     "data": {
      "text/html": [
       "<div>\n",
       "<style scoped>\n",
       "    .dataframe tbody tr th:only-of-type {\n",
       "        vertical-align: middle;\n",
       "    }\n",
       "\n",
       "    .dataframe tbody tr th {\n",
       "        vertical-align: top;\n",
       "    }\n",
       "\n",
       "    .dataframe thead th {\n",
       "        text-align: right;\n",
       "    }\n",
       "</style>\n",
       "<table border=\"1\" class=\"dataframe\">\n",
       "  <thead>\n",
       "    <tr style=\"text-align: right;\">\n",
       "      <th></th>\n",
       "      <th>ArticleId</th>\n",
       "      <th>word_count</th>\n",
       "    </tr>\n",
       "  </thead>\n",
       "  <tbody>\n",
       "    <tr>\n",
       "      <th>count</th>\n",
       "      <td>1490.000000</td>\n",
       "      <td>1490.000000</td>\n",
       "    </tr>\n",
       "    <tr>\n",
       "      <th>mean</th>\n",
       "      <td>1119.696644</td>\n",
       "      <td>385.012752</td>\n",
       "    </tr>\n",
       "    <tr>\n",
       "      <th>std</th>\n",
       "      <td>641.826283</td>\n",
       "      <td>210.898616</td>\n",
       "    </tr>\n",
       "    <tr>\n",
       "      <th>min</th>\n",
       "      <td>2.000000</td>\n",
       "      <td>90.000000</td>\n",
       "    </tr>\n",
       "    <tr>\n",
       "      <th>25%</th>\n",
       "      <td>565.250000</td>\n",
       "      <td>253.000000</td>\n",
       "    </tr>\n",
       "    <tr>\n",
       "      <th>50%</th>\n",
       "      <td>1112.500000</td>\n",
       "      <td>337.000000</td>\n",
       "    </tr>\n",
       "    <tr>\n",
       "      <th>75%</th>\n",
       "      <td>1680.750000</td>\n",
       "      <td>468.750000</td>\n",
       "    </tr>\n",
       "    <tr>\n",
       "      <th>max</th>\n",
       "      <td>2224.000000</td>\n",
       "      <td>3345.000000</td>\n",
       "    </tr>\n",
       "  </tbody>\n",
       "</table>\n",
       "</div>"
      ],
      "text/plain": [
       "         ArticleId   word_count\n",
       "count  1490.000000  1490.000000\n",
       "mean   1119.696644   385.012752\n",
       "std     641.826283   210.898616\n",
       "min       2.000000    90.000000\n",
       "25%     565.250000   253.000000\n",
       "50%    1112.500000   337.000000\n",
       "75%    1680.750000   468.750000\n",
       "max    2224.000000  3345.000000"
      ]
     },
     "execution_count": 10,
     "metadata": {},
     "output_type": "execute_result"
    }
   ],
   "source": [
    "bbc_train.describe()"
   ]
  },
  {
   "cell_type": "markdown",
   "metadata": {},
   "source": [
    "### Inspect the test dataset"
   ]
  },
  {
   "cell_type": "code",
   "execution_count": 11,
   "metadata": {},
   "outputs": [
    {
     "data": {
      "text/html": [
       "<div>\n",
       "<style scoped>\n",
       "    .dataframe tbody tr th:only-of-type {\n",
       "        vertical-align: middle;\n",
       "    }\n",
       "\n",
       "    .dataframe tbody tr th {\n",
       "        vertical-align: top;\n",
       "    }\n",
       "\n",
       "    .dataframe thead th {\n",
       "        text-align: right;\n",
       "    }\n",
       "</style>\n",
       "<table border=\"1\" class=\"dataframe\">\n",
       "  <thead>\n",
       "    <tr style=\"text-align: right;\">\n",
       "      <th></th>\n",
       "      <th>ArticleId</th>\n",
       "      <th>Text</th>\n",
       "    </tr>\n",
       "  </thead>\n",
       "  <tbody>\n",
       "    <tr>\n",
       "      <th>0</th>\n",
       "      <td>1018</td>\n",
       "      <td>qpr keeper day heads for preston queens park r...</td>\n",
       "    </tr>\n",
       "    <tr>\n",
       "      <th>1</th>\n",
       "      <td>1319</td>\n",
       "      <td>software watching while you work software that...</td>\n",
       "    </tr>\n",
       "    <tr>\n",
       "      <th>2</th>\n",
       "      <td>1138</td>\n",
       "      <td>d arcy injury adds to ireland woe gordon d arc...</td>\n",
       "    </tr>\n",
       "    <tr>\n",
       "      <th>3</th>\n",
       "      <td>459</td>\n",
       "      <td>india s reliance family feud heats up the ongo...</td>\n",
       "    </tr>\n",
       "    <tr>\n",
       "      <th>4</th>\n",
       "      <td>1020</td>\n",
       "      <td>boro suffer morrison injury blow middlesbrough...</td>\n",
       "    </tr>\n",
       "  </tbody>\n",
       "</table>\n",
       "</div>"
      ],
      "text/plain": [
       "   ArticleId                                               Text\n",
       "0       1018  qpr keeper day heads for preston queens park r...\n",
       "1       1319  software watching while you work software that...\n",
       "2       1138  d arcy injury adds to ireland woe gordon d arc...\n",
       "3        459  india s reliance family feud heats up the ongo...\n",
       "4       1020  boro suffer morrison injury blow middlesbrough..."
      ]
     },
     "execution_count": 11,
     "metadata": {},
     "output_type": "execute_result"
    }
   ],
   "source": [
    "bbc_test.head()"
   ]
  },
  {
   "cell_type": "markdown",
   "metadata": {},
   "source": [
    "### Word count of each article in the test data"
   ]
  },
  {
   "cell_type": "code",
   "execution_count": 12,
   "metadata": {},
   "outputs": [],
   "source": [
    "bbc_test['word_count'] = bbc_test['Text'].apply(lambda n: len(n.split()))"
   ]
  },
  {
   "cell_type": "code",
   "execution_count": 13,
   "metadata": {},
   "outputs": [
    {
     "data": {
      "text/html": [
       "<div>\n",
       "<style scoped>\n",
       "    .dataframe tbody tr th:only-of-type {\n",
       "        vertical-align: middle;\n",
       "    }\n",
       "\n",
       "    .dataframe tbody tr th {\n",
       "        vertical-align: top;\n",
       "    }\n",
       "\n",
       "    .dataframe thead th {\n",
       "        text-align: right;\n",
       "    }\n",
       "</style>\n",
       "<table border=\"1\" class=\"dataframe\">\n",
       "  <thead>\n",
       "    <tr style=\"text-align: right;\">\n",
       "      <th></th>\n",
       "      <th>ArticleId</th>\n",
       "      <th>Text</th>\n",
       "      <th>word_count</th>\n",
       "    </tr>\n",
       "  </thead>\n",
       "  <tbody>\n",
       "    <tr>\n",
       "      <th>0</th>\n",
       "      <td>1018</td>\n",
       "      <td>qpr keeper day heads for preston queens park r...</td>\n",
       "      <td>156</td>\n",
       "    </tr>\n",
       "    <tr>\n",
       "      <th>1</th>\n",
       "      <td>1319</td>\n",
       "      <td>software watching while you work software that...</td>\n",
       "      <td>435</td>\n",
       "    </tr>\n",
       "    <tr>\n",
       "      <th>2</th>\n",
       "      <td>1138</td>\n",
       "      <td>d arcy injury adds to ireland woe gordon d arc...</td>\n",
       "      <td>237</td>\n",
       "    </tr>\n",
       "    <tr>\n",
       "      <th>3</th>\n",
       "      <td>459</td>\n",
       "      <td>india s reliance family feud heats up the ongo...</td>\n",
       "      <td>309</td>\n",
       "    </tr>\n",
       "    <tr>\n",
       "      <th>4</th>\n",
       "      <td>1020</td>\n",
       "      <td>boro suffer morrison injury blow middlesbrough...</td>\n",
       "      <td>135</td>\n",
       "    </tr>\n",
       "  </tbody>\n",
       "</table>\n",
       "</div>"
      ],
      "text/plain": [
       "   ArticleId                                               Text  word_count\n",
       "0       1018  qpr keeper day heads for preston queens park r...         156\n",
       "1       1319  software watching while you work software that...         435\n",
       "2       1138  d arcy injury adds to ireland woe gordon d arc...         237\n",
       "3        459  india s reliance family feud heats up the ongo...         309\n",
       "4       1020  boro suffer morrison injury blow middlesbrough...         135"
      ]
     },
     "execution_count": 13,
     "metadata": {},
     "output_type": "execute_result"
    }
   ],
   "source": [
    "bbc_test.head()"
   ]
  },
  {
   "cell_type": "markdown",
   "metadata": {},
   "source": [
    "### Locate missing data in the test dataset"
   ]
  },
  {
   "cell_type": "code",
   "execution_count": 14,
   "metadata": {},
   "outputs": [
    {
     "data": {
      "text/plain": [
       "ArticleId     0\n",
       "Text          0\n",
       "word_count    0\n",
       "dtype: int64"
      ]
     },
     "execution_count": 14,
     "metadata": {},
     "output_type": "execute_result"
    }
   ],
   "source": [
    "bbc_test.isnull().sum()"
   ]
  },
  {
   "cell_type": "markdown",
   "metadata": {},
   "source": [
    "### Check for duplicates in the test dataset"
   ]
  },
  {
   "cell_type": "code",
   "execution_count": 15,
   "metadata": {},
   "outputs": [
    {
     "data": {
      "text/plain": [
       "0"
      ]
     },
     "execution_count": 15,
     "metadata": {},
     "output_type": "execute_result"
    }
   ],
   "source": [
    "bbc_test.duplicated().sum()"
   ]
  },
  {
   "cell_type": "markdown",
   "metadata": {},
   "source": [
    "### Information about test dataset"
   ]
  },
  {
   "cell_type": "code",
   "execution_count": 16,
   "metadata": {},
   "outputs": [
    {
     "name": "stdout",
     "output_type": "stream",
     "text": [
      "<class 'pandas.core.frame.DataFrame'>\n",
      "RangeIndex: 735 entries, 0 to 734\n",
      "Data columns (total 3 columns):\n",
      " #   Column      Non-Null Count  Dtype \n",
      "---  ------      --------------  ----- \n",
      " 0   ArticleId   735 non-null    int64 \n",
      " 1   Text        735 non-null    object\n",
      " 2   word_count  735 non-null    int64 \n",
      "dtypes: int64(2), object(1)\n",
      "memory usage: 17.4+ KB\n"
     ]
    }
   ],
   "source": [
    "bbc_test.info()"
   ]
  },
  {
   "cell_type": "markdown",
   "metadata": {},
   "source": [
    "### Summary statistics of  test data word_count"
   ]
  },
  {
   "cell_type": "code",
   "execution_count": 17,
   "metadata": {},
   "outputs": [
    {
     "data": {
      "text/html": [
       "<div>\n",
       "<style scoped>\n",
       "    .dataframe tbody tr th:only-of-type {\n",
       "        vertical-align: middle;\n",
       "    }\n",
       "\n",
       "    .dataframe tbody tr th {\n",
       "        vertical-align: top;\n",
       "    }\n",
       "\n",
       "    .dataframe thead th {\n",
       "        text-align: right;\n",
       "    }\n",
       "</style>\n",
       "<table border=\"1\" class=\"dataframe\">\n",
       "  <thead>\n",
       "    <tr style=\"text-align: right;\">\n",
       "      <th></th>\n",
       "      <th>ArticleId</th>\n",
       "      <th>word_count</th>\n",
       "    </tr>\n",
       "  </thead>\n",
       "  <tbody>\n",
       "    <tr>\n",
       "      <th>count</th>\n",
       "      <td>735.000000</td>\n",
       "      <td>735.000000</td>\n",
       "    </tr>\n",
       "    <tr>\n",
       "      <th>mean</th>\n",
       "      <td>1099.424490</td>\n",
       "      <td>401.004082</td>\n",
       "    </tr>\n",
       "    <tr>\n",
       "      <th>std</th>\n",
       "      <td>643.925514</td>\n",
       "      <td>294.423163</td>\n",
       "    </tr>\n",
       "    <tr>\n",
       "      <th>min</th>\n",
       "      <td>1.000000</td>\n",
       "      <td>126.000000</td>\n",
       "    </tr>\n",
       "    <tr>\n",
       "      <th>25%</th>\n",
       "      <td>545.500000</td>\n",
       "      <td>246.500000</td>\n",
       "    </tr>\n",
       "    <tr>\n",
       "      <th>50%</th>\n",
       "      <td>1116.000000</td>\n",
       "      <td>337.000000</td>\n",
       "    </tr>\n",
       "    <tr>\n",
       "      <th>75%</th>\n",
       "      <td>1657.500000</td>\n",
       "      <td>491.000000</td>\n",
       "    </tr>\n",
       "    <tr>\n",
       "      <th>max</th>\n",
       "      <td>2225.000000</td>\n",
       "      <td>4492.000000</td>\n",
       "    </tr>\n",
       "  </tbody>\n",
       "</table>\n",
       "</div>"
      ],
      "text/plain": [
       "         ArticleId   word_count\n",
       "count   735.000000   735.000000\n",
       "mean   1099.424490   401.004082\n",
       "std     643.925514   294.423163\n",
       "min       1.000000   126.000000\n",
       "25%     545.500000   246.500000\n",
       "50%    1116.000000   337.000000\n",
       "75%    1657.500000   491.000000\n",
       "max    2225.000000  4492.000000"
      ]
     },
     "execution_count": 17,
     "metadata": {},
     "output_type": "execute_result"
    }
   ],
   "source": [
    "bbc_test.describe()"
   ]
  },
  {
   "cell_type": "markdown",
   "metadata": {},
   "source": [
    "### There are no missing values and duplicates in both the train and test datasets. "
   ]
  },
  {
   "cell_type": "markdown",
   "metadata": {},
   "source": [
    "### Visualize a barplot of the no. of articles in each category in the train dataset "
   ]
  },
  {
   "cell_type": "code",
   "execution_count": 18,
   "metadata": {},
   "outputs": [
    {
     "data": {
      "image/png": "[encoded data removed]",
      "text/plain": [
       "<Figure size 720x720 with 1 Axes>"
      ]
     },
     "metadata": {
      "needs_background": "light"
     },
     "output_type": "display_data"
    }
   ],
   "source": [
    "plt.figure(figsize=(10,10))\n",
    "sns.barplot(x= bbc_train['Category'].value_counts().index, y = bbc_train['Category'].value_counts().values)\n",
    "plt.title(\"Distribution of articles by category\")\n",
    "plt.xlabel(\"Categories\")\n",
    "plt.ylabel('No. of Articles')\n",
    "plt.show()"
   ]
  },
  {
   "cell_type": "markdown",
   "metadata": {},
   "source": [
    "### Visualize most frequent words in the train and test dataset that are unimformative and can be discarded in the cleaning stage"
   ]
  },
  {
   "cell_type": "code",
   "execution_count": 19,
   "metadata": {},
   "outputs": [
    {
     "name": "stdout",
     "output_type": "stream",
     "text": [
      "the     34992\n",
      "to      16568\n",
      "of      12970\n",
      "and     12366\n",
      "a       12102\n",
      "in      11696\n",
      "s        5899\n",
      "for      5773\n",
      "is       5478\n",
      "that     5207\n",
      "it       5000\n",
      "on       4991\n",
      "was      4019\n",
      "he       3866\n",
      "be       3803\n",
      "with     3482\n",
      "said     3401\n",
      "has      3250\n",
      "as       3245\n",
      "have     3133\n",
      "dtype: int64\n"
     ]
    },
    {
     "data": {
      "image/png": "[encoded data removed]",
      "text/plain": [
       "<Figure size 720x720 with 1 Axes>"
      ]
     },
     "metadata": {
      "needs_background": "light"
     },
     "output_type": "display_data"
    }
   ],
   "source": [
    "plt.figure(figsize=(10,10))\n",
    "words = ' '.join(bbc_train[\"Text\"]).split()\n",
    "w_freq = pd.Series(words).value_counts()\n",
    "print(w_freq.head(20))\n",
    "w_freq.head(20).plot(kind='bar')\n",
    "plt.title(\"Top 20 frequent words in the train data\")\n",
    "plt.xticks(rotation = 45)\n",
    "plt.show()"
   ]
  },
  {
   "cell_type": "code",
   "execution_count": 20,
   "metadata": {},
   "outputs": [
    {
     "name": "stdout",
     "output_type": "stream",
     "text": [
      "the     17575\n",
      "to       8387\n",
      "of       6977\n",
      "and      6195\n",
      "a        6149\n",
      "in       5874\n",
      "for      3111\n",
      "s        3108\n",
      "is       3037\n",
      "that     2928\n",
      "it       2584\n",
      "on       2469\n",
      "he       2067\n",
      "was      1997\n",
      "be       1962\n",
      "with     1831\n",
      "as       1731\n",
      "has      1702\n",
      "said     1671\n",
      "have     1612\n",
      "dtype: int64\n"
     ]
    },
    {
     "data": {
      "image/png": "[encoded data removed]",
      "text/plain": [
       "<Figure size 720x720 with 1 Axes>"
      ]
     },
     "metadata": {
      "needs_background": "light"
     },
     "output_type": "display_data"
    }
   ],
   "source": [
    "plt.figure(figsize=(10,10))\n",
    "words = ' '.join(bbc_test[\"Text\"]).split()\n",
    "w_freq2 = pd.Series(words).value_counts()\n",
    "print(w_freq2.head(20))\n",
    "w_freq2.head(20).plot(kind='bar')\n",
    "plt.title(\"Top 20 frequent words in the test data\")\n",
    "plt.xticks(rotation = 45)\n",
    "plt.show()"
   ]
  },
  {
   "cell_type": "markdown",
   "metadata": {},
   "source": [
    "### Visualize histogram of word count of the documents from train and test data. It is important to count number of words in each article because a low word count article may or may not provide enough imformation."
   ]
  },
  {
   "cell_type": "code",
   "execution_count": 21,
   "metadata": {},
   "outputs": [
    {
     "data": {
      "text/plain": [
       "<Figure size 864x720 with 0 Axes>"
      ]
     },
     "metadata": {},
     "output_type": "display_data"
    },
    {
     "data": {
      "image/png": "[encoded data removed]",
      "text/plain": [
       "<Figure size 432x288 with 1 Axes>"
      ]
     },
     "metadata": {
      "needs_background": "light"
     },
     "output_type": "display_data"
    }
   ],
   "source": [
    "plt.figure(figsize=(12,10))\n",
    "bbc_train.hist('word_count')\n",
    "plt.title(\"Train Data\" )\n",
    "plt.xlabel(\"Word Count\")\n",
    "plt.ylabel(\"No. of Articles\")\n",
    "plt.show()"
   ]
  },
  {
   "cell_type": "code",
   "execution_count": 22,
   "metadata": {},
   "outputs": [
    {
     "data": {
      "text/plain": [
       "<Figure size 864x720 with 0 Axes>"
      ]
     },
     "metadata": {},
     "output_type": "display_data"
    },
    {
     "data": {
      "image/png": "[encoded data removed]",
      "text/plain": [
       "<Figure size 432x288 with 1 Axes>"
      ]
     },
     "metadata": {
      "needs_background": "light"
     },
     "output_type": "display_data"
    }
   ],
   "source": [
    "plt.figure(figsize=(12,10))\n",
    "bbc_test.hist('word_count')\n",
    "plt.title('Test Data')\n",
    "plt.xlabel(\"Word Count\")\n",
    "plt.ylabel(\"No. of Articles\")\n",
    "plt.show()"
   ]
  },
  {
   "cell_type": "markdown",
   "metadata": {},
   "source": [
    "### Data Cleaning"
   ]
  },
  {
   "cell_type": "markdown",
   "metadata": {},
   "source": [
    "### Pre-Processing is an important phase in text processing. The documents extracted from BBC website contains lot of special characters, numbers, urls, hastags and other text which are not necessary for analysis purpose. The quality of the data should be checked before we apply machine learning algorithms to improve computational time. If the text contains a mix of uppercase and lowercase words data analysis becomes difficult. To avoid that we will convert all the text into lowercase. Punctuation or special characters which confuse the ML models should be removed. Numbers can also be removed from the text as they are not important in category classification. A lot of common words calles \"stopwords\"  such as \"a, an, the, is, at,on, my, etc\"  which appear within the document sentences would not contribute much to data analysis and thus can be removed. \n"
   ]
  },
  {
   "cell_type": "code",
   "execution_count": 23,
   "metadata": {},
   "outputs": [],
   "source": [
    "def to_lower(text):\n",
    "   return text.lower()\n",
    "\n",
    "bbc_train['Clean_Text'] = bbc_train['Text'].apply(to_lower)\n",
    "\n",
    "bbc_test['Clean_Text'] = bbc_test['Text'].apply(to_lower)"
   ]
  },
  {
   "cell_type": "code",
   "execution_count": 24,
   "metadata": {},
   "outputs": [],
   "source": [
    "def rem_spec_char(text):\n",
    "    string = re.sub(r\"(@\\[A-Za-z0-9]+)|([^0-9A-Za-z \\t])|(\\w+:\\/\\/\\S+)|^rt|http.+?\", \"\", text)\n",
    "    \n",
    "    return string \n",
    "\n",
    "bbc_train['Clean_Text'] = bbc_train['Clean_Text'].apply(rem_spec_char)\n",
    "bbc_test['Clean_Text'] = bbc_test['Clean_Text'].apply(rem_spec_char)"
   ]
  },
  {
   "cell_type": "code",
   "execution_count": 25,
   "metadata": {},
   "outputs": [],
   "source": [
    "def rem_num(text):\n",
    "    res = re.sub(r'\\d+', '', text)\n",
    "    return res\n",
    "\n",
    "bbc_train['Clean_Text'] = bbc_train['Clean_Text'].apply(rem_num)\n",
    "bbc_test['Clean_Text'] = bbc_test['Clean_Text'].apply(rem_num)"
   ]
  },
  {
   "cell_type": "code",
   "execution_count": 26,
   "metadata": {},
   "outputs": [
    {
     "name": "stdout",
     "output_type": "stream",
     "text": [
      "Collecting nltk\n",
      "  Downloading nltk-3.8.1-py3-none-any.whl (1.5 MB)\n",
      "\u001b[2K     \u001b[90m━━━━━━━━━━━━━━━━━━━━━━━━━━━━━━━━━━━━━━━━\u001b[0m \u001b[32m1.5/1.5 MB\u001b[0m \u001b[31m94.4 MB/s\u001b[0m eta \u001b[36m0:00:00\u001b[0m\n",
      "\u001b[?25hRequirement already satisfied: click in /opt/conda/lib/python3.7/site-packages (from nltk) (7.1.2)\n",
      "Requirement already satisfied: tqdm in /opt/conda/lib/python3.7/site-packages (from nltk) (4.45.0)\n",
      "Requirement already satisfied: joblib in /opt/conda/lib/python3.7/site-packages (from nltk) (0.14.1)\n",
      "Collecting regex>=2021.8.3\n",
      "  Downloading regex-2023.10.3-cp37-cp37m-manylinux_2_17_x86_64.manylinux2014_x86_64.whl (761 kB)\n",
      "\u001b[2K     \u001b[90m━━━━━━━━━━━━━━━━━━━━━━━━━━━━━━━━━━━━━\u001b[0m \u001b[32m761.6/761.6 kB\u001b[0m \u001b[31m124.2 MB/s\u001b[0m eta \u001b[36m0:00:00\u001b[0m\n",
      "\u001b[?25hInstalling collected packages: regex, nltk\n",
      "Successfully installed nltk-3.8.1 regex-2023.10.3\n",
      "\n",
      "\u001b[1m[\u001b[0m\u001b[34;49mnotice\u001b[0m\u001b[1;39;49m]\u001b[0m\u001b[39;49m A new release of pip available: \u001b[0m\u001b[31;49m22.3\u001b[0m\u001b[39;49m -> \u001b[0m\u001b[32;49m23.3.1\u001b[0m\n",
      "\u001b[1m[\u001b[0m\u001b[34;49mnotice\u001b[0m\u001b[1;39;49m]\u001b[0m\u001b[39;49m To update, run: \u001b[0m\u001b[32;49mpip install --upgrade pip\u001b[0m\n"
     ]
    },
    {
     "name": "stderr",
     "output_type": "stream",
     "text": [
      "[nltk_data] Downloading package punkt to /home/jovyan/nltk_data...\n",
      "[nltk_data]   Unzipping tokenizers/punkt.zip.\n",
      "[nltk_data] Downloading package stopwords to /home/jovyan/nltk_data...\n",
      "[nltk_data]   Unzipping corpora/stopwords.zip.\n"
     ]
    }
   ],
   "source": [
    "!pip install nltk\n",
    "\n",
    "import nltk\n",
    "nltk.download('punkt')\n",
    "import nltk.corpus\n",
    "nltk.download('stopwords')\n",
    "from nltk.corpus import stopwords\n",
    "from nltk.tokenize import sent_tokenize, word_tokenize\n",
    "from nltk.stem import WordNetLemmatizer\n"
   ]
  },
  {
   "cell_type": "code",
   "execution_count": 27,
   "metadata": {},
   "outputs": [],
   "source": [
    "stop_words = stopwords.words('english')\n",
    "\n",
    "def rem_stop_words(text):\n",
    "    string = \" \".join([w for w in text.split() if w not in stop_words] )\n",
    "    \n",
    "    return string\n",
    "\n",
    "bbc_train['Clean_Text'] = bbc_train['Clean_Text'].apply(rem_stop_words)\n",
    "bbc_test['Clean_Text'] = bbc_test['Clean_Text'].apply(rem_stop_words)\n",
    "\n"
   ]
  },
  {
   "cell_type": "code",
   "execution_count": 28,
   "metadata": {},
   "outputs": [
    {
     "data": {
      "text/html": [
       "<div>\n",
       "<style scoped>\n",
       "    .dataframe tbody tr th:only-of-type {\n",
       "        vertical-align: middle;\n",
       "    }\n",
       "\n",
       "    .dataframe tbody tr th {\n",
       "        vertical-align: top;\n",
       "    }\n",
       "\n",
       "    .dataframe thead th {\n",
       "        text-align: right;\n",
       "    }\n",
       "</style>\n",
       "<table border=\"1\" class=\"dataframe\">\n",
       "  <thead>\n",
       "    <tr style=\"text-align: right;\">\n",
       "      <th></th>\n",
       "      <th>ArticleId</th>\n",
       "      <th>Text</th>\n",
       "      <th>Category</th>\n",
       "      <th>word_count</th>\n",
       "      <th>Clean_Text</th>\n",
       "    </tr>\n",
       "  </thead>\n",
       "  <tbody>\n",
       "    <tr>\n",
       "      <th>0</th>\n",
       "      <td>1833</td>\n",
       "      <td>worldcom ex-boss launches defence lawyers defe...</td>\n",
       "      <td>business</td>\n",
       "      <td>301</td>\n",
       "      <td>worldcom exboss launches defence lawyers defen...</td>\n",
       "    </tr>\n",
       "    <tr>\n",
       "      <th>1</th>\n",
       "      <td>154</td>\n",
       "      <td>german business confidence slides german busin...</td>\n",
       "      <td>business</td>\n",
       "      <td>325</td>\n",
       "      <td>german business confidence slides german busin...</td>\n",
       "    </tr>\n",
       "    <tr>\n",
       "      <th>2</th>\n",
       "      <td>1101</td>\n",
       "      <td>bbc poll indicates economic gloom citizens in ...</td>\n",
       "      <td>business</td>\n",
       "      <td>514</td>\n",
       "      <td>bbc poll indicates economic gloom citizens maj...</td>\n",
       "    </tr>\n",
       "    <tr>\n",
       "      <th>3</th>\n",
       "      <td>1976</td>\n",
       "      <td>lifestyle  governs mobile choice  faster  bett...</td>\n",
       "      <td>tech</td>\n",
       "      <td>634</td>\n",
       "      <td>lifestyle governs mobile choice faster better ...</td>\n",
       "    </tr>\n",
       "    <tr>\n",
       "      <th>4</th>\n",
       "      <td>917</td>\n",
       "      <td>enron bosses in $168m payout eighteen former e...</td>\n",
       "      <td>business</td>\n",
       "      <td>355</td>\n",
       "      <td>enron bosses payout eighteen former enron dire...</td>\n",
       "    </tr>\n",
       "  </tbody>\n",
       "</table>\n",
       "</div>"
      ],
      "text/plain": [
       "   ArticleId                                               Text  Category  \\\n",
       "0       1833  worldcom ex-boss launches defence lawyers defe...  business   \n",
       "1        154  german business confidence slides german busin...  business   \n",
       "2       1101  bbc poll indicates economic gloom citizens in ...  business   \n",
       "3       1976  lifestyle  governs mobile choice  faster  bett...      tech   \n",
       "4        917  enron bosses in $168m payout eighteen former e...  business   \n",
       "\n",
       "   word_count                                         Clean_Text  \n",
       "0         301  worldcom exboss launches defence lawyers defen...  \n",
       "1         325  german business confidence slides german busin...  \n",
       "2         514  bbc poll indicates economic gloom citizens maj...  \n",
       "3         634  lifestyle governs mobile choice faster better ...  \n",
       "4         355  enron bosses payout eighteen former enron dire...  "
      ]
     },
     "execution_count": 28,
     "metadata": {},
     "output_type": "execute_result"
    }
   ],
   "source": [
    "bbc_train.head()"
   ]
  },
  {
   "cell_type": "code",
   "execution_count": 29,
   "metadata": {},
   "outputs": [
    {
     "name": "stdout",
     "output_type": "stream",
     "text": [
      "said      4838\n",
      "mr        1973\n",
      "would     1711\n",
      "also      1426\n",
      "new       1334\n",
      "people    1322\n",
      "us        1232\n",
      "year      1228\n",
      "one       1158\n",
      "could     1032\n",
      "dtype: int64\n"
     ]
    }
   ],
   "source": [
    "words = ' '.join(bbc_train[\"Clean_Text\"]).split()\n",
    "w_freq = pd.Series(words).value_counts()\n",
    "w_freq_list= w_freq[:10]\n",
    "print(w_freq_list)\n",
    "\n",
    "def rem_freq_words(text):\n",
    "    string = \" \".join([w for w in text.split() if w not in w_freq_list] )\n",
    "    \n",
    "    return string\n",
    "\n",
    "bbc_train['Clean_Text'] = bbc_train['Clean_Text'].apply(rem_freq_words)\n",
    "bbc_test['Clean_Text'] = bbc_test['Clean_Text'].apply(rem_freq_words)\n",
    "\n"
   ]
  },
  {
   "cell_type": "code",
   "execution_count": 30,
   "metadata": {},
   "outputs": [],
   "source": [
    "bbc_train['new_word_count'] = bbc_train['Clean_Text'].apply(lambda n: len(n.split()))\n",
    "bbc_test['new_word_count'] = bbc_test['Clean_Text'].apply(lambda n: len(n.split()))"
   ]
  },
  {
   "cell_type": "code",
   "execution_count": 31,
   "metadata": {},
   "outputs": [
    {
     "data": {
      "text/html": [
       "<div>\n",
       "<style scoped>\n",
       "    .dataframe tbody tr th:only-of-type {\n",
       "        vertical-align: middle;\n",
       "    }\n",
       "\n",
       "    .dataframe tbody tr th {\n",
       "        vertical-align: top;\n",
       "    }\n",
       "\n",
       "    .dataframe thead th {\n",
       "        text-align: right;\n",
       "    }\n",
       "</style>\n",
       "<table border=\"1\" class=\"dataframe\">\n",
       "  <thead>\n",
       "    <tr style=\"text-align: right;\">\n",
       "      <th></th>\n",
       "      <th>ArticleId</th>\n",
       "      <th>Text</th>\n",
       "      <th>Category</th>\n",
       "      <th>word_count</th>\n",
       "      <th>Clean_Text</th>\n",
       "      <th>new_word_count</th>\n",
       "    </tr>\n",
       "  </thead>\n",
       "  <tbody>\n",
       "    <tr>\n",
       "      <th>0</th>\n",
       "      <td>1833</td>\n",
       "      <td>worldcom ex-boss launches defence lawyers defe...</td>\n",
       "      <td>business</td>\n",
       "      <td>301</td>\n",
       "      <td>worldcom exboss launches defence lawyers defen...</td>\n",
       "      <td>169</td>\n",
       "    </tr>\n",
       "    <tr>\n",
       "      <th>1</th>\n",
       "      <td>154</td>\n",
       "      <td>german business confidence slides german busin...</td>\n",
       "      <td>business</td>\n",
       "      <td>325</td>\n",
       "      <td>german business confidence slides german busin...</td>\n",
       "      <td>187</td>\n",
       "    </tr>\n",
       "    <tr>\n",
       "      <th>2</th>\n",
       "      <td>1101</td>\n",
       "      <td>bbc poll indicates economic gloom citizens in ...</td>\n",
       "      <td>business</td>\n",
       "      <td>514</td>\n",
       "      <td>bbc poll indicates economic gloom citizens maj...</td>\n",
       "      <td>249</td>\n",
       "    </tr>\n",
       "    <tr>\n",
       "      <th>3</th>\n",
       "      <td>1976</td>\n",
       "      <td>lifestyle  governs mobile choice  faster  bett...</td>\n",
       "      <td>tech</td>\n",
       "      <td>634</td>\n",
       "      <td>lifestyle governs mobile choice faster better ...</td>\n",
       "      <td>312</td>\n",
       "    </tr>\n",
       "    <tr>\n",
       "      <th>4</th>\n",
       "      <td>917</td>\n",
       "      <td>enron bosses in $168m payout eighteen former e...</td>\n",
       "      <td>business</td>\n",
       "      <td>355</td>\n",
       "      <td>enron bosses payout eighteen former enron dire...</td>\n",
       "      <td>195</td>\n",
       "    </tr>\n",
       "  </tbody>\n",
       "</table>\n",
       "</div>"
      ],
      "text/plain": [
       "   ArticleId                                               Text  Category  \\\n",
       "0       1833  worldcom ex-boss launches defence lawyers defe...  business   \n",
       "1        154  german business confidence slides german busin...  business   \n",
       "2       1101  bbc poll indicates economic gloom citizens in ...  business   \n",
       "3       1976  lifestyle  governs mobile choice  faster  bett...      tech   \n",
       "4        917  enron bosses in $168m payout eighteen former e...  business   \n",
       "\n",
       "   word_count                                         Clean_Text  \\\n",
       "0         301  worldcom exboss launches defence lawyers defen...   \n",
       "1         325  german business confidence slides german busin...   \n",
       "2         514  bbc poll indicates economic gloom citizens maj...   \n",
       "3         634  lifestyle governs mobile choice faster better ...   \n",
       "4         355  enron bosses payout eighteen former enron dire...   \n",
       "\n",
       "   new_word_count  \n",
       "0             169  \n",
       "1             187  \n",
       "2             249  \n",
       "3             312  \n",
       "4             195  "
      ]
     },
     "execution_count": 31,
     "metadata": {},
     "output_type": "execute_result"
    }
   ],
   "source": [
    "bbc_train.head()"
   ]
  },
  {
   "cell_type": "code",
   "execution_count": 32,
   "metadata": {},
   "outputs": [
    {
     "data": {
      "text/html": [
       "<div>\n",
       "<style scoped>\n",
       "    .dataframe tbody tr th:only-of-type {\n",
       "        vertical-align: middle;\n",
       "    }\n",
       "\n",
       "    .dataframe tbody tr th {\n",
       "        vertical-align: top;\n",
       "    }\n",
       "\n",
       "    .dataframe thead th {\n",
       "        text-align: right;\n",
       "    }\n",
       "</style>\n",
       "<table border=\"1\" class=\"dataframe\">\n",
       "  <thead>\n",
       "    <tr style=\"text-align: right;\">\n",
       "      <th></th>\n",
       "      <th>ArticleId</th>\n",
       "      <th>Text</th>\n",
       "      <th>word_count</th>\n",
       "      <th>Clean_Text</th>\n",
       "      <th>new_word_count</th>\n",
       "    </tr>\n",
       "  </thead>\n",
       "  <tbody>\n",
       "    <tr>\n",
       "      <th>0</th>\n",
       "      <td>1018</td>\n",
       "      <td>qpr keeper day heads for preston queens park r...</td>\n",
       "      <td>156</td>\n",
       "      <td>qpr keeper day heads preston queens park range...</td>\n",
       "      <td>83</td>\n",
       "    </tr>\n",
       "    <tr>\n",
       "      <th>1</th>\n",
       "      <td>1319</td>\n",
       "      <td>software watching while you work software that...</td>\n",
       "      <td>435</td>\n",
       "      <td>software watching work software monitor every ...</td>\n",
       "      <td>226</td>\n",
       "    </tr>\n",
       "    <tr>\n",
       "      <th>2</th>\n",
       "      <td>1138</td>\n",
       "      <td>d arcy injury adds to ireland woe gordon d arc...</td>\n",
       "      <td>237</td>\n",
       "      <td>arcy injury adds ireland woe gordon arcy ruled...</td>\n",
       "      <td>134</td>\n",
       "    </tr>\n",
       "    <tr>\n",
       "      <th>3</th>\n",
       "      <td>459</td>\n",
       "      <td>india s reliance family feud heats up the ongo...</td>\n",
       "      <td>309</td>\n",
       "      <td>india reliance family feud heats ongoing publi...</td>\n",
       "      <td>172</td>\n",
       "    </tr>\n",
       "    <tr>\n",
       "      <th>4</th>\n",
       "      <td>1020</td>\n",
       "      <td>boro suffer morrison injury blow middlesbrough...</td>\n",
       "      <td>135</td>\n",
       "      <td>boro suffer morrison injury blow middlesbrough...</td>\n",
       "      <td>71</td>\n",
       "    </tr>\n",
       "  </tbody>\n",
       "</table>\n",
       "</div>"
      ],
      "text/plain": [
       "   ArticleId                                               Text  word_count  \\\n",
       "0       1018  qpr keeper day heads for preston queens park r...         156   \n",
       "1       1319  software watching while you work software that...         435   \n",
       "2       1138  d arcy injury adds to ireland woe gordon d arc...         237   \n",
       "3        459  india s reliance family feud heats up the ongo...         309   \n",
       "4       1020  boro suffer morrison injury blow middlesbrough...         135   \n",
       "\n",
       "                                          Clean_Text  new_word_count  \n",
       "0  qpr keeper day heads preston queens park range...              83  \n",
       "1  software watching work software monitor every ...             226  \n",
       "2  arcy injury adds ireland woe gordon arcy ruled...             134  \n",
       "3  india reliance family feud heats ongoing publi...             172  \n",
       "4  boro suffer morrison injury blow middlesbrough...              71  "
      ]
     },
     "execution_count": 32,
     "metadata": {},
     "output_type": "execute_result"
    }
   ],
   "source": [
    "bbc_test.head()"
   ]
  },
  {
   "cell_type": "markdown",
   "metadata": {},
   "source": [
    "### Visualize histogram of new word count of the documents from train and test data after Cleaning. "
   ]
  },
  {
   "cell_type": "code",
   "execution_count": 33,
   "metadata": {},
   "outputs": [
    {
     "data": {
      "text/plain": [
       "<Figure size 864x720 with 0 Axes>"
      ]
     },
     "metadata": {},
     "output_type": "display_data"
    },
    {
     "data": {
      "image/png": "[encoded data removed]",
      "text/plain": [
       "<Figure size 432x288 with 1 Axes>"
      ]
     },
     "metadata": {
      "needs_background": "light"
     },
     "output_type": "display_data"
    }
   ],
   "source": [
    "plt.figure(figsize=(12,10))\n",
    "bbc_train.hist('new_word_count')\n",
    "plt.title(\"Train Data new word count\" )\n",
    "plt.xlabel(\"Word Count\")\n",
    "plt.ylabel(\"No. of Articles\")\n",
    "plt.show()"
   ]
  },
  {
   "cell_type": "code",
   "execution_count": 34,
   "metadata": {},
   "outputs": [
    {
     "data": {
      "text/plain": [
       "count    1490.000000\n",
       "mean      201.335570\n",
       "std       106.244501\n",
       "min        46.000000\n",
       "25%       132.000000\n",
       "50%       177.500000\n",
       "75%       245.000000\n",
       "max      1548.000000\n",
       "Name: new_word_count, dtype: float64"
      ]
     },
     "execution_count": 34,
     "metadata": {},
     "output_type": "execute_result"
    }
   ],
   "source": [
    "bbc_train['new_word_count'].describe()"
   ]
  },
  {
   "cell_type": "code",
   "execution_count": 35,
   "metadata": {},
   "outputs": [
    {
     "data": {
      "text/plain": [
       "<Figure size 864x720 with 0 Axes>"
      ]
     },
     "metadata": {},
     "output_type": "display_data"
    },
    {
     "data": {
      "image/png": "[encoded data removed]",
      "text/plain": [
       "<Figure size 432x288 with 1 Axes>"
      ]
     },
     "metadata": {
      "needs_background": "light"
     },
     "output_type": "display_data"
    }
   ],
   "source": [
    "plt.figure(figsize=(12,10))\n",
    "bbc_test.hist('new_word_count')\n",
    "plt.title(\"Train Data new word count\" )\n",
    "plt.xlabel(\"Word Count\")\n",
    "plt.ylabel(\"No. of Articles\")\n",
    "plt.show()"
   ]
  },
  {
   "cell_type": "code",
   "execution_count": 36,
   "metadata": {},
   "outputs": [
    {
     "data": {
      "text/plain": [
       "count     735.000000\n",
       "mean      208.395918\n",
       "std       139.798443\n",
       "min        68.000000\n",
       "25%       131.500000\n",
       "50%       179.000000\n",
       "75%       255.000000\n",
       "max      2070.000000\n",
       "Name: new_word_count, dtype: float64"
      ]
     },
     "execution_count": 36,
     "metadata": {},
     "output_type": "execute_result"
    }
   ],
   "source": [
    "bbc_test['new_word_count'].describe()"
   ]
  },
  {
   "cell_type": "markdown",
   "metadata": {},
   "source": [
    "## Feature Extraction\n",
    "### After the data is cleaned, it should be converted into numerical fromat for machine to understand. This is called feature extraction of document data. Here we will be using one of the many feature extraction techniques:TF-IDF\n",
    "### TF-IDF (term frequency-inverse document frequency) is a statistical measure that evaluates how relevant a word is to a document in a collection of documents. Normalizing the word counts reduces the importance of frequent words. A common way is to divide each word count by the log of the total number of instances in which the word appears. If a word appears often in a document, but not in all other documents in the dataset, it is likely to be an important content of that document. By using TfidfVectorizer, we consider overall document weightage of a word by measuring how often they appear in the documents.The words with higher scores of weight are deemed to be more significant. We will now apply tfidfvectorizer to the cleaned train data.\n"
   ]
  },
  {
   "cell_type": "code",
   "execution_count": 37,
   "metadata": {},
   "outputs": [
    {
     "data": {
      "text/plain": [
       "TfidfVectorizer(analyzer='word', binary=False, decode_error='strict',\n",
       "                dtype=<class 'numpy.float64'>, encoding='utf-8',\n",
       "                input='content', lowercase=True, max_df=0.95, max_features=None,\n",
       "                min_df=5, ngram_range=(1, 1), norm='l2', preprocessor=None,\n",
       "                smooth_idf=True, stop_words='english', strip_accents=None,\n",
       "                sublinear_tf=False, token_pattern='(?u)\\\\b\\\\w\\\\w+\\\\b',\n",
       "                tokenizer=None, use_idf=True, vocabulary=None)"
      ]
     },
     "execution_count": 37,
     "metadata": {},
     "output_type": "execute_result"
    }
   ],
   "source": [
    "# vectorizer \n",
    "tfidf = TfidfVectorizer(max_df= 0.95,min_df= 5,stop_words = 'english')\n",
    "tfidf"
   ]
  },
  {
   "cell_type": "code",
   "execution_count": 38,
   "metadata": {},
   "outputs": [
    {
     "data": {
      "text/plain": [
       "<1490x6907 sparse matrix of type '<class 'numpy.float64'>'\n",
       "\twith 169355 stored elements in Compressed Sparse Row format>"
      ]
     },
     "execution_count": 38,
     "metadata": {},
     "output_type": "execute_result"
    }
   ],
   "source": [
    "# vectors\n",
    "train_mat = tfidf.fit_transform(bbc_train['Clean_Text'])\n",
    "train_mat"
   ]
  },
  {
   "cell_type": "markdown",
   "metadata": {},
   "source": [
    "## Step 2 : Building and training models(Unsupervised)"
   ]
  },
  {
   "cell_type": "markdown",
   "metadata": {},
   "source": [
    "###  Now we will build our  model using an unsupervised approach called non-negative matrix factorization(NMF) method on the train data to predict the labels, and then test our model performance by feeding it to the test data. Training the model on the test data with lead to overfitting and results will be biased. "
   ]
  },
  {
   "cell_type": "code",
   "execution_count": 39,
   "metadata": {},
   "outputs": [
    {
     "data": {
      "text/plain": [
       "NMF(alpha=0.0, beta_loss='frobenius', init=None, l1_ratio=0.0, max_iter=200,\n",
       "    n_components=5, random_state=1234, shuffle=False, solver='cd', tol=0.0001,\n",
       "    verbose=0)"
      ]
     },
     "execution_count": 39,
     "metadata": {},
     "output_type": "execute_result"
    }
   ],
   "source": [
    "num = len(bbc_train.Category.unique()) #5\n",
    "y_train =bbc_train['Category']\n",
    "# Let's build the nmf model on train data\n",
    "nmf_model = NMF(n_components = num,random_state=1234).fit(train_mat,y_train)\n",
    "nmf_model"
   ]
  },
  {
   "cell_type": "code",
   "execution_count": 40,
   "metadata": {},
   "outputs": [],
   "source": [
    "# W & H matrices\n",
    "W = nmf_model.transform(train_mat)\n",
    "#(1490, 5)\n",
    "H = nmf_model.components_\n",
    "#(5, 7055)\n",
    "\n",
    "# predicted categories\n",
    "y_pred = np.argmax(W,axis=1)\n",
    "\n",
    "bbc_train['pred_cat'] = y_pred"
   ]
  },
  {
   "cell_type": "code",
   "execution_count": 41,
   "metadata": {
    "scrolled": true
   },
   "outputs": [
    {
     "name": "stdout",
     "output_type": "stream",
     "text": [
      "Collecting mglearn\n",
      "  Downloading mglearn-0.2.0-py2.py3-none-any.whl (581 kB)\n",
      "\u001b[2K     \u001b[90m━━━━━━━━━━━━━━━━━━━━━━━━━━━━━━━━━━━━━\u001b[0m \u001b[32m581.4/581.4 kB\u001b[0m \u001b[31m101.4 MB/s\u001b[0m eta \u001b[36m0:00:00\u001b[0m\n",
      "\u001b[?25hRequirement already satisfied: joblib in /opt/conda/lib/python3.7/site-packages (from mglearn) (0.14.1)\n",
      "Requirement already satisfied: pillow in /opt/conda/lib/python3.7/site-packages (from mglearn) (7.1.2)\n",
      "Requirement already satisfied: scikit-learn in /opt/conda/lib/python3.7/site-packages (from mglearn) (0.22.2.post1)\n",
      "Requirement already satisfied: imageio in /opt/conda/lib/python3.7/site-packages (from mglearn) (2.8.0)\n",
      "Requirement already satisfied: pandas in /opt/conda/lib/python3.7/site-packages (from mglearn) (1.0.3)\n",
      "Requirement already satisfied: matplotlib in /opt/conda/lib/python3.7/site-packages (from mglearn) (3.2.1)\n",
      "Requirement already satisfied: cycler in /opt/conda/lib/python3.7/site-packages (from mglearn) (0.10.0)\n",
      "Requirement already satisfied: numpy in /opt/conda/lib/python3.7/site-packages (from mglearn) (1.18.4)\n",
      "Requirement already satisfied: six in /opt/conda/lib/python3.7/site-packages (from cycler->mglearn) (1.14.0)\n",
      "Requirement already satisfied: kiwisolver>=1.0.1 in /opt/conda/lib/python3.7/site-packages (from matplotlib->mglearn) (1.2.0)\n",
      "Requirement already satisfied: pyparsing!=2.0.4,!=2.1.2,!=2.1.6,>=2.0.1 in /opt/conda/lib/python3.7/site-packages (from matplotlib->mglearn) (2.4.7)\n",
      "Requirement already satisfied: python-dateutil>=2.1 in /opt/conda/lib/python3.7/site-packages (from matplotlib->mglearn) (2.8.1)\n",
      "Requirement already satisfied: pytz>=2017.2 in /opt/conda/lib/python3.7/site-packages (from pandas->mglearn) (2020.1)\n",
      "Requirement already satisfied: scipy>=0.17.0 in /opt/conda/lib/python3.7/site-packages (from scikit-learn->mglearn) (1.4.1)\n",
      "Installing collected packages: mglearn\n",
      "Successfully installed mglearn-0.2.0\n",
      "\n",
      "\u001b[1m[\u001b[0m\u001b[34;49mnotice\u001b[0m\u001b[1;39;49m]\u001b[0m\u001b[39;49m A new release of pip available: \u001b[0m\u001b[31;49m22.3\u001b[0m\u001b[39;49m -> \u001b[0m\u001b[32;49m23.3.1\u001b[0m\n",
      "\u001b[1m[\u001b[0m\u001b[34;49mnotice\u001b[0m\u001b[1;39;49m]\u001b[0m\u001b[39;49m To update, run: \u001b[0m\u001b[32;49mpip install --upgrade pip\u001b[0m\n"
     ]
    }
   ],
   "source": [
    "! pip install mglearn"
   ]
  },
  {
   "cell_type": "code",
   "execution_count": 42,
   "metadata": {},
   "outputs": [
    {
     "name": "stdout",
     "output_type": "stream",
     "text": [
      "topic 0       topic 1       topic 2       topic 3       topic 4       \n",
      "--------      --------      --------      --------      --------      \n",
      "england       labour        bn            film          mobile        \n",
      "game          election      growth        best          music         \n",
      "win           blair         economy       awards        phone         \n",
      "wales         brown         bank          award         technology    \n",
      "ireland       party         market        actor         digital       \n",
      "cup           government    sales         actress       users         \n",
      "players       minister      economic      films         phones        \n",
      "play          prime         oil           festival      software      \n",
      "team          howard        china         director      microsoft     \n",
      "chelsea       tax           shares        oscar         broadband     \n",
      "france        chancellor    firm          comedy        net           \n",
      "world         tory          dollar        aviator       use           \n",
      "coach         tories        company       star          service       \n",
      "match         campaign      prices        nominations   video         \n",
      "season        lib           rates         british       tv            \n",
      "\n",
      "\n"
     ]
    }
   ],
   "source": [
    "import mglearn\n",
    "sorted_terms = np.argsort(H, axis=1)[:,::-1]\n",
    "#vocabulary\n",
    "vocab = np.array(tfidf.get_feature_names())\n",
    "#print(feature_names.shape) #(7055,)\n",
    "mglearn.tools.print_topics(topics=range(num), feature_names= vocab, sorting=sorted_terms, topics_per_chunk=5, n_words=15)"
   ]
  },
  {
   "cell_type": "markdown",
   "metadata": {},
   "source": [
    "### From the above results, looking at the words in each topic, we can manually label the topics with the given categories. Topic 0 has words that mostly relate to sports, topic 1 has words related to politics, topic 2 has words related to  business, topic 3 has words related to entertainment, and topic 4 has words related to tech. We will now map the labels to the topic indices in a dictionary. "
   ]
  },
  {
   "cell_type": "code",
   "execution_count": 43,
   "metadata": {},
   "outputs": [],
   "source": [
    "topic_dict = {0:'sport', 1:'politics', 2: 'business', 3:'entertainment', 4:'tech'}\n"
   ]
  },
  {
   "cell_type": "code",
   "execution_count": 44,
   "metadata": {},
   "outputs": [
    {
     "data": {
      "text/html": [
       "<div>\n",
       "<style scoped>\n",
       "    .dataframe tbody tr th:only-of-type {\n",
       "        vertical-align: middle;\n",
       "    }\n",
       "\n",
       "    .dataframe tbody tr th {\n",
       "        vertical-align: top;\n",
       "    }\n",
       "\n",
       "    .dataframe thead th {\n",
       "        text-align: right;\n",
       "    }\n",
       "</style>\n",
       "<table border=\"1\" class=\"dataframe\">\n",
       "  <thead>\n",
       "    <tr style=\"text-align: right;\">\n",
       "      <th></th>\n",
       "      <th>ArticleId</th>\n",
       "      <th>Text</th>\n",
       "      <th>Category</th>\n",
       "      <th>word_count</th>\n",
       "      <th>Clean_Text</th>\n",
       "      <th>new_word_count</th>\n",
       "      <th>pred_cat</th>\n",
       "    </tr>\n",
       "  </thead>\n",
       "  <tbody>\n",
       "    <tr>\n",
       "      <th>0</th>\n",
       "      <td>1833</td>\n",
       "      <td>worldcom ex-boss launches defence lawyers defe...</td>\n",
       "      <td>business</td>\n",
       "      <td>301</td>\n",
       "      <td>worldcom exboss launches defence lawyers defen...</td>\n",
       "      <td>169</td>\n",
       "      <td>business</td>\n",
       "    </tr>\n",
       "    <tr>\n",
       "      <th>1</th>\n",
       "      <td>154</td>\n",
       "      <td>german business confidence slides german busin...</td>\n",
       "      <td>business</td>\n",
       "      <td>325</td>\n",
       "      <td>german business confidence slides german busin...</td>\n",
       "      <td>187</td>\n",
       "      <td>business</td>\n",
       "    </tr>\n",
       "    <tr>\n",
       "      <th>2</th>\n",
       "      <td>1101</td>\n",
       "      <td>bbc poll indicates economic gloom citizens in ...</td>\n",
       "      <td>business</td>\n",
       "      <td>514</td>\n",
       "      <td>bbc poll indicates economic gloom citizens maj...</td>\n",
       "      <td>249</td>\n",
       "      <td>business</td>\n",
       "    </tr>\n",
       "    <tr>\n",
       "      <th>3</th>\n",
       "      <td>1976</td>\n",
       "      <td>lifestyle  governs mobile choice  faster  bett...</td>\n",
       "      <td>tech</td>\n",
       "      <td>634</td>\n",
       "      <td>lifestyle governs mobile choice faster better ...</td>\n",
       "      <td>312</td>\n",
       "      <td>tech</td>\n",
       "    </tr>\n",
       "    <tr>\n",
       "      <th>4</th>\n",
       "      <td>917</td>\n",
       "      <td>enron bosses in $168m payout eighteen former e...</td>\n",
       "      <td>business</td>\n",
       "      <td>355</td>\n",
       "      <td>enron bosses payout eighteen former enron dire...</td>\n",
       "      <td>195</td>\n",
       "      <td>business</td>\n",
       "    </tr>\n",
       "  </tbody>\n",
       "</table>\n",
       "</div>"
      ],
      "text/plain": [
       "   ArticleId                                               Text  Category  \\\n",
       "0       1833  worldcom ex-boss launches defence lawyers defe...  business   \n",
       "1        154  german business confidence slides german busin...  business   \n",
       "2       1101  bbc poll indicates economic gloom citizens in ...  business   \n",
       "3       1976  lifestyle  governs mobile choice  faster  bett...      tech   \n",
       "4        917  enron bosses in $168m payout eighteen former e...  business   \n",
       "\n",
       "   word_count                                         Clean_Text  \\\n",
       "0         301  worldcom exboss launches defence lawyers defen...   \n",
       "1         325  german business confidence slides german busin...   \n",
       "2         514  bbc poll indicates economic gloom citizens maj...   \n",
       "3         634  lifestyle governs mobile choice faster better ...   \n",
       "4         355  enron bosses payout eighteen former enron dire...   \n",
       "\n",
       "   new_word_count  pred_cat  \n",
       "0             169  business  \n",
       "1             187  business  \n",
       "2             249  business  \n",
       "3             312      tech  \n",
       "4             195  business  "
      ]
     },
     "execution_count": 44,
     "metadata": {},
     "output_type": "execute_result"
    }
   ],
   "source": [
    "bbc_train['pred_cat'] = bbc_train['pred_cat'].map(topic_dict)\n",
    "bbc_train.head()"
   ]
  },
  {
   "cell_type": "code",
   "execution_count": 45,
   "metadata": {},
   "outputs": [
    {
     "data": {
      "text/plain": [
       "0.9369127516778524"
      ]
     },
     "execution_count": 45,
     "metadata": {},
     "output_type": "execute_result"
    }
   ],
   "source": [
    "# Calculate the accuracy\n",
    "acc = accuracy_score( bbc_train['Category'],bbc_train['pred_cat'] )\n",
    "acc"
   ]
  },
  {
   "cell_type": "code",
   "execution_count": 46,
   "metadata": {},
   "outputs": [
    {
     "data": {
      "text/plain": [
       "array([[319,   1,   4,   1,  11],\n",
       "       [  4, 236,   2,   2,  29],\n",
       "       [ 16,   0, 250,   3,   5],\n",
       "       [  2,   2,   1, 341,   0],\n",
       "       [  2,   4,   1,   4, 250]])"
      ]
     },
     "execution_count": 46,
     "metadata": {},
     "output_type": "execute_result"
    }
   ],
   "source": [
    "confusion_matrix(bbc_train['Category'], bbc_train['pred_cat'])"
   ]
  },
  {
   "cell_type": "code",
   "execution_count": 47,
   "metadata": {},
   "outputs": [
    {
     "name": "stdout",
     "output_type": "stream",
     "text": [
      "Accuracy per category:\n",
      "Category\n",
      "business         0.949405\n",
      "entertainment    0.864469\n",
      "politics         0.912409\n",
      "sport            0.985549\n",
      "tech             0.957854\n",
      "dtype: float64\n"
     ]
    }
   ],
   "source": [
    "# Calculate the accuracy for each category\n",
    "accuracy_by_category = bbc_train.groupby('Category').apply(lambda x: (x['pred_cat'] == x['Category']).mean())\n",
    "\n",
    "# Show the accuracy for each category\n",
    "print(\"Accuracy per category:\")\n",
    "print(accuracy_by_category)\n"
   ]
  },
  {
   "cell_type": "markdown",
   "metadata": {},
   "source": [
    "### I have build a default NMF model on the train data without tuning any parameters and got an accuracy of 0.9369"
   ]
  },
  {
   "cell_type": "markdown",
   "metadata": {},
   "source": [
    "### Let's work on the test data set"
   ]
  },
  {
   "cell_type": "code",
   "execution_count": 48,
   "metadata": {},
   "outputs": [
    {
     "data": {
      "text/html": [
       "<div>\n",
       "<style scoped>\n",
       "    .dataframe tbody tr th:only-of-type {\n",
       "        vertical-align: middle;\n",
       "    }\n",
       "\n",
       "    .dataframe tbody tr th {\n",
       "        vertical-align: top;\n",
       "    }\n",
       "\n",
       "    .dataframe thead th {\n",
       "        text-align: right;\n",
       "    }\n",
       "</style>\n",
       "<table border=\"1\" class=\"dataframe\">\n",
       "  <thead>\n",
       "    <tr style=\"text-align: right;\">\n",
       "      <th></th>\n",
       "      <th>ArticleId</th>\n",
       "      <th>Text</th>\n",
       "      <th>word_count</th>\n",
       "      <th>Clean_Text</th>\n",
       "      <th>new_word_count</th>\n",
       "    </tr>\n",
       "  </thead>\n",
       "  <tbody>\n",
       "    <tr>\n",
       "      <th>0</th>\n",
       "      <td>1018</td>\n",
       "      <td>qpr keeper day heads for preston queens park r...</td>\n",
       "      <td>156</td>\n",
       "      <td>qpr keeper day heads preston queens park range...</td>\n",
       "      <td>83</td>\n",
       "    </tr>\n",
       "    <tr>\n",
       "      <th>1</th>\n",
       "      <td>1319</td>\n",
       "      <td>software watching while you work software that...</td>\n",
       "      <td>435</td>\n",
       "      <td>software watching work software monitor every ...</td>\n",
       "      <td>226</td>\n",
       "    </tr>\n",
       "    <tr>\n",
       "      <th>2</th>\n",
       "      <td>1138</td>\n",
       "      <td>d arcy injury adds to ireland woe gordon d arc...</td>\n",
       "      <td>237</td>\n",
       "      <td>arcy injury adds ireland woe gordon arcy ruled...</td>\n",
       "      <td>134</td>\n",
       "    </tr>\n",
       "    <tr>\n",
       "      <th>3</th>\n",
       "      <td>459</td>\n",
       "      <td>india s reliance family feud heats up the ongo...</td>\n",
       "      <td>309</td>\n",
       "      <td>india reliance family feud heats ongoing publi...</td>\n",
       "      <td>172</td>\n",
       "    </tr>\n",
       "    <tr>\n",
       "      <th>4</th>\n",
       "      <td>1020</td>\n",
       "      <td>boro suffer morrison injury blow middlesbrough...</td>\n",
       "      <td>135</td>\n",
       "      <td>boro suffer morrison injury blow middlesbrough...</td>\n",
       "      <td>71</td>\n",
       "    </tr>\n",
       "  </tbody>\n",
       "</table>\n",
       "</div>"
      ],
      "text/plain": [
       "   ArticleId                                               Text  word_count  \\\n",
       "0       1018  qpr keeper day heads for preston queens park r...         156   \n",
       "1       1319  software watching while you work software that...         435   \n",
       "2       1138  d arcy injury adds to ireland woe gordon d arc...         237   \n",
       "3        459  india s reliance family feud heats up the ongo...         309   \n",
       "4       1020  boro suffer morrison injury blow middlesbrough...         135   \n",
       "\n",
       "                                          Clean_Text  new_word_count  \n",
       "0  qpr keeper day heads preston queens park range...              83  \n",
       "1  software watching work software monitor every ...             226  \n",
       "2  arcy injury adds ireland woe gordon arcy ruled...             134  \n",
       "3  india reliance family feud heats ongoing publi...             172  \n",
       "4  boro suffer morrison injury blow middlesbrough...              71  "
      ]
     },
     "execution_count": 48,
     "metadata": {},
     "output_type": "execute_result"
    }
   ],
   "source": [
    "bbc_test.head()"
   ]
  },
  {
   "cell_type": "code",
   "execution_count": 49,
   "metadata": {},
   "outputs": [],
   "source": [
    "# Vectorize the testset data with tf-idf\n",
    "test_mat = tfidf.transform(bbc_test['Clean_Text'])\n",
    "\n",
    "# predicted categories of the test data\n",
    "W_t = nmf_model.transform(test_mat)\n",
    "y_pred_t = W_t.argmax(axis=1)\n",
    "bbc_test['Category'] = y_pred_t"
   ]
  },
  {
   "cell_type": "code",
   "execution_count": 50,
   "metadata": {},
   "outputs": [
    {
     "data": {
      "text/html": [
       "<div>\n",
       "<style scoped>\n",
       "    .dataframe tbody tr th:only-of-type {\n",
       "        vertical-align: middle;\n",
       "    }\n",
       "\n",
       "    .dataframe tbody tr th {\n",
       "        vertical-align: top;\n",
       "    }\n",
       "\n",
       "    .dataframe thead th {\n",
       "        text-align: right;\n",
       "    }\n",
       "</style>\n",
       "<table border=\"1\" class=\"dataframe\">\n",
       "  <thead>\n",
       "    <tr style=\"text-align: right;\">\n",
       "      <th></th>\n",
       "      <th>ArticleId</th>\n",
       "      <th>Text</th>\n",
       "      <th>word_count</th>\n",
       "      <th>Clean_Text</th>\n",
       "      <th>new_word_count</th>\n",
       "      <th>Category</th>\n",
       "    </tr>\n",
       "  </thead>\n",
       "  <tbody>\n",
       "    <tr>\n",
       "      <th>0</th>\n",
       "      <td>1018</td>\n",
       "      <td>qpr keeper day heads for preston queens park r...</td>\n",
       "      <td>156</td>\n",
       "      <td>qpr keeper day heads preston queens park range...</td>\n",
       "      <td>83</td>\n",
       "      <td>sport</td>\n",
       "    </tr>\n",
       "    <tr>\n",
       "      <th>1</th>\n",
       "      <td>1319</td>\n",
       "      <td>software watching while you work software that...</td>\n",
       "      <td>435</td>\n",
       "      <td>software watching work software monitor every ...</td>\n",
       "      <td>226</td>\n",
       "      <td>tech</td>\n",
       "    </tr>\n",
       "    <tr>\n",
       "      <th>2</th>\n",
       "      <td>1138</td>\n",
       "      <td>d arcy injury adds to ireland woe gordon d arc...</td>\n",
       "      <td>237</td>\n",
       "      <td>arcy injury adds ireland woe gordon arcy ruled...</td>\n",
       "      <td>134</td>\n",
       "      <td>sport</td>\n",
       "    </tr>\n",
       "    <tr>\n",
       "      <th>3</th>\n",
       "      <td>459</td>\n",
       "      <td>india s reliance family feud heats up the ongo...</td>\n",
       "      <td>309</td>\n",
       "      <td>india reliance family feud heats ongoing publi...</td>\n",
       "      <td>172</td>\n",
       "      <td>business</td>\n",
       "    </tr>\n",
       "    <tr>\n",
       "      <th>4</th>\n",
       "      <td>1020</td>\n",
       "      <td>boro suffer morrison injury blow middlesbrough...</td>\n",
       "      <td>135</td>\n",
       "      <td>boro suffer morrison injury blow middlesbrough...</td>\n",
       "      <td>71</td>\n",
       "      <td>sport</td>\n",
       "    </tr>\n",
       "  </tbody>\n",
       "</table>\n",
       "</div>"
      ],
      "text/plain": [
       "   ArticleId                                               Text  word_count  \\\n",
       "0       1018  qpr keeper day heads for preston queens park r...         156   \n",
       "1       1319  software watching while you work software that...         435   \n",
       "2       1138  d arcy injury adds to ireland woe gordon d arc...         237   \n",
       "3        459  india s reliance family feud heats up the ongo...         309   \n",
       "4       1020  boro suffer morrison injury blow middlesbrough...         135   \n",
       "\n",
       "                                          Clean_Text  new_word_count  Category  \n",
       "0  qpr keeper day heads preston queens park range...              83     sport  \n",
       "1  software watching work software monitor every ...             226      tech  \n",
       "2  arcy injury adds ireland woe gordon arcy ruled...             134     sport  \n",
       "3  india reliance family feud heats ongoing publi...             172  business  \n",
       "4  boro suffer morrison injury blow middlesbrough...              71     sport  "
      ]
     },
     "execution_count": 50,
     "metadata": {},
     "output_type": "execute_result"
    }
   ],
   "source": [
    "bbc_test['Category'] = bbc_test['Category'].map(topic_dict)\n",
    "bbc_test.head()"
   ]
  },
  {
   "cell_type": "code",
   "execution_count": 51,
   "metadata": {
    "scrolled": true
   },
   "outputs": [
    {
     "data": {
      "text/html": [
       "<div>\n",
       "<style scoped>\n",
       "    .dataframe tbody tr th:only-of-type {\n",
       "        vertical-align: middle;\n",
       "    }\n",
       "\n",
       "    .dataframe tbody tr th {\n",
       "        vertical-align: top;\n",
       "    }\n",
       "\n",
       "    .dataframe thead th {\n",
       "        text-align: right;\n",
       "    }\n",
       "</style>\n",
       "<table border=\"1\" class=\"dataframe\">\n",
       "  <thead>\n",
       "    <tr style=\"text-align: right;\">\n",
       "      <th></th>\n",
       "      <th>ArticleId</th>\n",
       "      <th>Category</th>\n",
       "    </tr>\n",
       "  </thead>\n",
       "  <tbody>\n",
       "    <tr>\n",
       "      <th>0</th>\n",
       "      <td>1018</td>\n",
       "      <td>sport</td>\n",
       "    </tr>\n",
       "    <tr>\n",
       "      <th>1</th>\n",
       "      <td>1319</td>\n",
       "      <td>tech</td>\n",
       "    </tr>\n",
       "    <tr>\n",
       "      <th>2</th>\n",
       "      <td>1138</td>\n",
       "      <td>sport</td>\n",
       "    </tr>\n",
       "    <tr>\n",
       "      <th>3</th>\n",
       "      <td>459</td>\n",
       "      <td>business</td>\n",
       "    </tr>\n",
       "    <tr>\n",
       "      <th>4</th>\n",
       "      <td>1020</td>\n",
       "      <td>sport</td>\n",
       "    </tr>\n",
       "  </tbody>\n",
       "</table>\n",
       "</div>"
      ],
      "text/plain": [
       "   ArticleId  Category\n",
       "0       1018     sport\n",
       "1       1319      tech\n",
       "2       1138     sport\n",
       "3        459  business\n",
       "4       1020     sport"
      ]
     },
     "execution_count": 51,
     "metadata": {},
     "output_type": "execute_result"
    }
   ],
   "source": [
    "results = bbc_test.drop(columns=['Text','word_count', 'Clean_Text','new_word_count'])\n",
    "results.head()"
   ]
  },
  {
   "cell_type": "code",
   "execution_count": 52,
   "metadata": {},
   "outputs": [],
   "source": [
    "# Make submission\n",
    "results.to_csv('submission.csv', index=False)\n",
    "# Test Score: 0.95374"
   ]
  },
  {
   "cell_type": "markdown",
   "metadata": {},
   "source": [
    "### After submitting the csv file of the testset data results to Kaggle,I got an accuracy of 0.95374"
   ]
  },
  {
   "cell_type": "markdown",
   "metadata": {},
   "source": [
    "### Using a function to test all possible combinations of the categories and find out which combination yields maximum score which can be useful for hyperparameter tuning."
   ]
  },
  {
   "cell_type": "code",
   "execution_count": 53,
   "metadata": {},
   "outputs": [],
   "source": [
    "def get_accuracy(y_true, y_pred):\n",
    "    u = np.unique(y_true)  #print(u) ['business' 'entertainment' 'politics' 'sport' 'tech']\n",
    "    #y_pred = np.argmax(y_pred, axis=1)\n",
    "    true = y_true.values\n",
    "    acc = 0\n",
    "    dict={}\n",
    "    \n",
    "    for i in itertools.permutations(range(len(u))): \n",
    "        comb = np.array([u[i.index(x)] for x in y_pred])        \n",
    "        score = np.mean(comb == true)  \n",
    "        acc = max(acc,score)\n",
    "        dict[i] = score\n",
    "        b = max( dict.items(), key = operator.itemgetter(1))[0]\n",
    "        topic_d =dict.fromkeys(b)\n",
    "        for k,v in zip(topic_d.keys(),u):\n",
    "            topic_d[k] =v\n",
    "        \n",
    "    k =list(topic_d.keys()) \n",
    "    v = list(topic_d.values())\n",
    "    index = np.argsort(k)\n",
    "    sorted_dict={k[i]:v[i] for i in index}   \n",
    "    \n",
    "    return acc, sorted_dict\n"
   ]
  },
  {
   "cell_type": "code",
   "execution_count": 54,
   "metadata": {},
   "outputs": [
    {
     "name": "stdout",
     "output_type": "stream",
     "text": [
      "accuracy= 0.9369127516778524\n",
      "Best Combination= {0: 'sport', 1: 'politics', 2: 'business', 3: 'entertainment', 4: 'tech'}\n"
     ]
    }
   ],
   "source": [
    "#acc_score= get_accuracy(y_train,results)\n",
    "acc_score, best_comb = get_accuracy(y_train,y_pred)\n",
    "\n",
    "print(\"accuracy=\", acc_score)\n",
    "print(\"Best Combination=\", best_comb)"
   ]
  },
  {
   "cell_type": "markdown",
   "metadata": {},
   "source": [
    "\n",
    "### Let's tune the hyperparameter(s) of the NMF model and record the results of the train data."
   ]
  },
  {
   "cell_type": "code",
   "execution_count": 55,
   "metadata": {},
   "outputs": [
    {
     "data": {
      "text/html": [
       "<div>\n",
       "<style scoped>\n",
       "    .dataframe tbody tr th:only-of-type {\n",
       "        vertical-align: middle;\n",
       "    }\n",
       "\n",
       "    .dataframe tbody tr th {\n",
       "        vertical-align: top;\n",
       "    }\n",
       "\n",
       "    .dataframe thead th {\n",
       "        text-align: right;\n",
       "    }\n",
       "</style>\n",
       "<table border=\"1\" class=\"dataframe\">\n",
       "  <thead>\n",
       "    <tr style=\"text-align: right;\">\n",
       "      <th></th>\n",
       "      <th>Alpha</th>\n",
       "      <th>L1_Ratio</th>\n",
       "      <th>Init</th>\n",
       "      <th>Solver,</th>\n",
       "      <th>Beta_Loss</th>\n",
       "      <th>Combination</th>\n",
       "      <th>Accuracy</th>\n",
       "    </tr>\n",
       "  </thead>\n",
       "  <tbody>\n",
       "    <tr>\n",
       "      <th>26</th>\n",
       "      <td>1</td>\n",
       "      <td>1</td>\n",
       "      <td>nndsvda</td>\n",
       "      <td>mu</td>\n",
       "      <td>kullback-leibler</td>\n",
       "      <td>{0: 'sport', 1: 'politics', 2: 'business', 3: ...</td>\n",
       "      <td>0.9503</td>\n",
       "    </tr>\n",
       "    <tr>\n",
       "      <th>14</th>\n",
       "      <td>0.5</td>\n",
       "      <td>0.5</td>\n",
       "      <td>nndsvda</td>\n",
       "      <td>mu</td>\n",
       "      <td>kullback-leibler</td>\n",
       "      <td>{0: 'sport', 1: 'politics', 2: 'business', 3: ...</td>\n",
       "      <td>0.9503</td>\n",
       "    </tr>\n",
       "    <tr>\n",
       "      <th>23</th>\n",
       "      <td>1</td>\n",
       "      <td>0.5</td>\n",
       "      <td>nndsvda</td>\n",
       "      <td>mu</td>\n",
       "      <td>kullback-leibler</td>\n",
       "      <td>{0: 'sport', 1: 'politics', 2: 'business', 3: ...</td>\n",
       "      <td>0.9503</td>\n",
       "    </tr>\n",
       "    <tr>\n",
       "      <th>17</th>\n",
       "      <td>0.5</td>\n",
       "      <td>1</td>\n",
       "      <td>nndsvda</td>\n",
       "      <td>mu</td>\n",
       "      <td>kullback-leibler</td>\n",
       "      <td>{0: 'sport', 1: 'politics', 2: 'business', 3: ...</td>\n",
       "      <td>0.9503</td>\n",
       "    </tr>\n",
       "    <tr>\n",
       "      <th>11</th>\n",
       "      <td>0.5</td>\n",
       "      <td>0</td>\n",
       "      <td>nndsvda</td>\n",
       "      <td>mu</td>\n",
       "      <td>kullback-leibler</td>\n",
       "      <td>{0: 'sport', 1: 'politics', 2: 'business', 3: ...</td>\n",
       "      <td>0.9497</td>\n",
       "    </tr>\n",
       "    <tr>\n",
       "      <th>2</th>\n",
       "      <td>0</td>\n",
       "      <td>0</td>\n",
       "      <td>nndsvda</td>\n",
       "      <td>mu</td>\n",
       "      <td>kullback-leibler</td>\n",
       "      <td>{0: 'sport', 1: 'politics', 2: 'business', 3: ...</td>\n",
       "      <td>0.9490</td>\n",
       "    </tr>\n",
       "    <tr>\n",
       "      <th>5</th>\n",
       "      <td>0</td>\n",
       "      <td>0.5</td>\n",
       "      <td>nndsvda</td>\n",
       "      <td>mu</td>\n",
       "      <td>kullback-leibler</td>\n",
       "      <td>{0: 'sport', 1: 'politics', 2: 'business', 3: ...</td>\n",
       "      <td>0.9490</td>\n",
       "    </tr>\n",
       "    <tr>\n",
       "      <th>20</th>\n",
       "      <td>1</td>\n",
       "      <td>0</td>\n",
       "      <td>nndsvda</td>\n",
       "      <td>mu</td>\n",
       "      <td>kullback-leibler</td>\n",
       "      <td>{0: 'sport', 1: 'politics', 2: 'business', 3: ...</td>\n",
       "      <td>0.9490</td>\n",
       "    </tr>\n",
       "    <tr>\n",
       "      <th>8</th>\n",
       "      <td>0</td>\n",
       "      <td>1</td>\n",
       "      <td>nndsvda</td>\n",
       "      <td>mu</td>\n",
       "      <td>kullback-leibler</td>\n",
       "      <td>{0: 'sport', 1: 'politics', 2: 'business', 3: ...</td>\n",
       "      <td>0.9490</td>\n",
       "    </tr>\n",
       "    <tr>\n",
       "      <th>12</th>\n",
       "      <td>0.5</td>\n",
       "      <td>0.5</td>\n",
       "      <td>None</td>\n",
       "      <td>mu</td>\n",
       "      <td>kullback-leibler</td>\n",
       "      <td>{0: 'sport', 1: 'politics', 2: 'business', 3: ...</td>\n",
       "      <td>0.9463</td>\n",
       "    </tr>\n",
       "    <tr>\n",
       "      <th>24</th>\n",
       "      <td>1</td>\n",
       "      <td>1</td>\n",
       "      <td>None</td>\n",
       "      <td>mu</td>\n",
       "      <td>kullback-leibler</td>\n",
       "      <td>{0: 'sport', 1: 'politics', 2: 'business', 3: ...</td>\n",
       "      <td>0.9456</td>\n",
       "    </tr>\n",
       "    <tr>\n",
       "      <th>21</th>\n",
       "      <td>1</td>\n",
       "      <td>0.5</td>\n",
       "      <td>None</td>\n",
       "      <td>mu</td>\n",
       "      <td>kullback-leibler</td>\n",
       "      <td>{0: 'sport', 1: 'politics', 2: 'business', 3: ...</td>\n",
       "      <td>0.9456</td>\n",
       "    </tr>\n",
       "    <tr>\n",
       "      <th>15</th>\n",
       "      <td>0.5</td>\n",
       "      <td>1</td>\n",
       "      <td>None</td>\n",
       "      <td>mu</td>\n",
       "      <td>kullback-leibler</td>\n",
       "      <td>{0: 'sport', 1: 'politics', 2: 'business', 3: ...</td>\n",
       "      <td>0.9450</td>\n",
       "    </tr>\n",
       "    <tr>\n",
       "      <th>0</th>\n",
       "      <td>0</td>\n",
       "      <td>0</td>\n",
       "      <td>None</td>\n",
       "      <td>mu</td>\n",
       "      <td>kullback-leibler</td>\n",
       "      <td>{0: 'sport', 1: 'politics', 2: 'business', 3: ...</td>\n",
       "      <td>0.9450</td>\n",
       "    </tr>\n",
       "    <tr>\n",
       "      <th>6</th>\n",
       "      <td>0</td>\n",
       "      <td>1</td>\n",
       "      <td>None</td>\n",
       "      <td>mu</td>\n",
       "      <td>kullback-leibler</td>\n",
       "      <td>{0: 'sport', 1: 'politics', 2: 'business', 3: ...</td>\n",
       "      <td>0.9450</td>\n",
       "    </tr>\n",
       "    <tr>\n",
       "      <th>3</th>\n",
       "      <td>0</td>\n",
       "      <td>0.5</td>\n",
       "      <td>None</td>\n",
       "      <td>mu</td>\n",
       "      <td>kullback-leibler</td>\n",
       "      <td>{0: 'sport', 1: 'politics', 2: 'business', 3: ...</td>\n",
       "      <td>0.9450</td>\n",
       "    </tr>\n",
       "    <tr>\n",
       "      <th>9</th>\n",
       "      <td>0.5</td>\n",
       "      <td>0</td>\n",
       "      <td>None</td>\n",
       "      <td>mu</td>\n",
       "      <td>kullback-leibler</td>\n",
       "      <td>{0: 'sport', 1: 'politics', 2: 'business', 3: ...</td>\n",
       "      <td>0.9443</td>\n",
       "    </tr>\n",
       "    <tr>\n",
       "      <th>18</th>\n",
       "      <td>1</td>\n",
       "      <td>0</td>\n",
       "      <td>None</td>\n",
       "      <td>mu</td>\n",
       "      <td>kullback-leibler</td>\n",
       "      <td>{0: 'sport', 1: 'politics', 2: 'business', 3: ...</td>\n",
       "      <td>0.9443</td>\n",
       "    </tr>\n",
       "    <tr>\n",
       "      <th>19</th>\n",
       "      <td>1</td>\n",
       "      <td>0</td>\n",
       "      <td>random</td>\n",
       "      <td>mu</td>\n",
       "      <td>kullback-leibler</td>\n",
       "      <td>{0: 'politics', 1: 'tech', 2: 'sport', 3: 'ent...</td>\n",
       "      <td>0.7517</td>\n",
       "    </tr>\n",
       "    <tr>\n",
       "      <th>10</th>\n",
       "      <td>0.5</td>\n",
       "      <td>0</td>\n",
       "      <td>random</td>\n",
       "      <td>mu</td>\n",
       "      <td>kullback-leibler</td>\n",
       "      <td>{0: 'politics', 1: 'tech', 2: 'sport', 3: 'ent...</td>\n",
       "      <td>0.7510</td>\n",
       "    </tr>\n",
       "    <tr>\n",
       "      <th>22</th>\n",
       "      <td>1</td>\n",
       "      <td>0.5</td>\n",
       "      <td>random</td>\n",
       "      <td>mu</td>\n",
       "      <td>kullback-leibler</td>\n",
       "      <td>{0: 'politics', 1: 'tech', 2: 'sport', 3: 'ent...</td>\n",
       "      <td>0.7510</td>\n",
       "    </tr>\n",
       "    <tr>\n",
       "      <th>16</th>\n",
       "      <td>0.5</td>\n",
       "      <td>1</td>\n",
       "      <td>random</td>\n",
       "      <td>mu</td>\n",
       "      <td>kullback-leibler</td>\n",
       "      <td>{0: 'politics', 1: 'tech', 2: 'sport', 3: 'ent...</td>\n",
       "      <td>0.7503</td>\n",
       "    </tr>\n",
       "    <tr>\n",
       "      <th>25</th>\n",
       "      <td>1</td>\n",
       "      <td>1</td>\n",
       "      <td>random</td>\n",
       "      <td>mu</td>\n",
       "      <td>kullback-leibler</td>\n",
       "      <td>{0: 'politics', 1: 'tech', 2: 'sport', 3: 'ent...</td>\n",
       "      <td>0.7503</td>\n",
       "    </tr>\n",
       "    <tr>\n",
       "      <th>13</th>\n",
       "      <td>0.5</td>\n",
       "      <td>0.5</td>\n",
       "      <td>random</td>\n",
       "      <td>mu</td>\n",
       "      <td>kullback-leibler</td>\n",
       "      <td>{0: 'politics', 1: 'tech', 2: 'sport', 3: 'ent...</td>\n",
       "      <td>0.7503</td>\n",
       "    </tr>\n",
       "    <tr>\n",
       "      <th>1</th>\n",
       "      <td>0</td>\n",
       "      <td>0</td>\n",
       "      <td>random</td>\n",
       "      <td>mu</td>\n",
       "      <td>kullback-leibler</td>\n",
       "      <td>{0: 'politics', 1: 'tech', 2: 'sport', 3: 'ent...</td>\n",
       "      <td>0.7497</td>\n",
       "    </tr>\n",
       "    <tr>\n",
       "      <th>7</th>\n",
       "      <td>0</td>\n",
       "      <td>1</td>\n",
       "      <td>random</td>\n",
       "      <td>mu</td>\n",
       "      <td>kullback-leibler</td>\n",
       "      <td>{0: 'politics', 1: 'tech', 2: 'sport', 3: 'ent...</td>\n",
       "      <td>0.7497</td>\n",
       "    </tr>\n",
       "    <tr>\n",
       "      <th>4</th>\n",
       "      <td>0</td>\n",
       "      <td>0.5</td>\n",
       "      <td>random</td>\n",
       "      <td>mu</td>\n",
       "      <td>kullback-leibler</td>\n",
       "      <td>{0: 'politics', 1: 'tech', 2: 'sport', 3: 'ent...</td>\n",
       "      <td>0.7497</td>\n",
       "    </tr>\n",
       "  </tbody>\n",
       "</table>\n",
       "</div>"
      ],
      "text/plain": [
       "   Alpha L1_Ratio     Init Solver,         Beta_Loss  \\\n",
       "26     1        1  nndsvda      mu  kullback-leibler   \n",
       "14   0.5      0.5  nndsvda      mu  kullback-leibler   \n",
       "23     1      0.5  nndsvda      mu  kullback-leibler   \n",
       "17   0.5        1  nndsvda      mu  kullback-leibler   \n",
       "11   0.5        0  nndsvda      mu  kullback-leibler   \n",
       "2      0        0  nndsvda      mu  kullback-leibler   \n",
       "5      0      0.5  nndsvda      mu  kullback-leibler   \n",
       "20     1        0  nndsvda      mu  kullback-leibler   \n",
       "8      0        1  nndsvda      mu  kullback-leibler   \n",
       "12   0.5      0.5     None      mu  kullback-leibler   \n",
       "24     1        1     None      mu  kullback-leibler   \n",
       "21     1      0.5     None      mu  kullback-leibler   \n",
       "15   0.5        1     None      mu  kullback-leibler   \n",
       "0      0        0     None      mu  kullback-leibler   \n",
       "6      0        1     None      mu  kullback-leibler   \n",
       "3      0      0.5     None      mu  kullback-leibler   \n",
       "9    0.5        0     None      mu  kullback-leibler   \n",
       "18     1        0     None      mu  kullback-leibler   \n",
       "19     1        0   random      mu  kullback-leibler   \n",
       "10   0.5        0   random      mu  kullback-leibler   \n",
       "22     1      0.5   random      mu  kullback-leibler   \n",
       "16   0.5        1   random      mu  kullback-leibler   \n",
       "25     1        1   random      mu  kullback-leibler   \n",
       "13   0.5      0.5   random      mu  kullback-leibler   \n",
       "1      0        0   random      mu  kullback-leibler   \n",
       "7      0        1   random      mu  kullback-leibler   \n",
       "4      0      0.5   random      mu  kullback-leibler   \n",
       "\n",
       "                                          Combination  Accuracy  \n",
       "26  {0: 'sport', 1: 'politics', 2: 'business', 3: ...    0.9503  \n",
       "14  {0: 'sport', 1: 'politics', 2: 'business', 3: ...    0.9503  \n",
       "23  {0: 'sport', 1: 'politics', 2: 'business', 3: ...    0.9503  \n",
       "17  {0: 'sport', 1: 'politics', 2: 'business', 3: ...    0.9503  \n",
       "11  {0: 'sport', 1: 'politics', 2: 'business', 3: ...    0.9497  \n",
       "2   {0: 'sport', 1: 'politics', 2: 'business', 3: ...    0.9490  \n",
       "5   {0: 'sport', 1: 'politics', 2: 'business', 3: ...    0.9490  \n",
       "20  {0: 'sport', 1: 'politics', 2: 'business', 3: ...    0.9490  \n",
       "8   {0: 'sport', 1: 'politics', 2: 'business', 3: ...    0.9490  \n",
       "12  {0: 'sport', 1: 'politics', 2: 'business', 3: ...    0.9463  \n",
       "24  {0: 'sport', 1: 'politics', 2: 'business', 3: ...    0.9456  \n",
       "21  {0: 'sport', 1: 'politics', 2: 'business', 3: ...    0.9456  \n",
       "15  {0: 'sport', 1: 'politics', 2: 'business', 3: ...    0.9450  \n",
       "0   {0: 'sport', 1: 'politics', 2: 'business', 3: ...    0.9450  \n",
       "6   {0: 'sport', 1: 'politics', 2: 'business', 3: ...    0.9450  \n",
       "3   {0: 'sport', 1: 'politics', 2: 'business', 3: ...    0.9450  \n",
       "9   {0: 'sport', 1: 'politics', 2: 'business', 3: ...    0.9443  \n",
       "18  {0: 'sport', 1: 'politics', 2: 'business', 3: ...    0.9443  \n",
       "19  {0: 'politics', 1: 'tech', 2: 'sport', 3: 'ent...    0.7517  \n",
       "10  {0: 'politics', 1: 'tech', 2: 'sport', 3: 'ent...    0.7510  \n",
       "22  {0: 'politics', 1: 'tech', 2: 'sport', 3: 'ent...    0.7510  \n",
       "16  {0: 'politics', 1: 'tech', 2: 'sport', 3: 'ent...    0.7503  \n",
       "25  {0: 'politics', 1: 'tech', 2: 'sport', 3: 'ent...    0.7503  \n",
       "13  {0: 'politics', 1: 'tech', 2: 'sport', 3: 'ent...    0.7503  \n",
       "1   {0: 'politics', 1: 'tech', 2: 'sport', 3: 'ent...    0.7497  \n",
       "7   {0: 'politics', 1: 'tech', 2: 'sport', 3: 'ent...    0.7497  \n",
       "4   {0: 'politics', 1: 'tech', 2: 'sport', 3: 'ent...    0.7497  "
      ]
     },
     "execution_count": 55,
     "metadata": {},
     "output_type": "execute_result"
    }
   ],
   "source": [
    "h_param_tuning_results = pd.DataFrame(columns = ['Alpha', 'L1_Ratio','Init','Solver,','Beta_Loss','Combination','Accuracy'])\n",
    "alpha =[0, 0.5,1]\n",
    "l1_ratio=[0, 0.5,1]\n",
    "init_nmf = [None,\"random\", \"nndsvda\"]\n",
    "\n",
    "for a in alpha:\n",
    "    for l1 in l1_ratio :\n",
    "        for init in init_nmf:            \n",
    "                    nmf = NMF( n_components = 5, \n",
    "                               solver= \"mu\",\n",
    "                               beta_loss= \"kullback-leibler\",                              \n",
    "                               alpha = a,\n",
    "                               l1_ratio=l1 , \n",
    "                               init=init,\n",
    "                               random_state=123)\n",
    "                \n",
    "                    W = nmf.fit_transform(train_mat)\n",
    "                    y_pred = np.argmax(W,axis=1)\n",
    "                    acc, best_comb = get_accuracy(y_train,y_pred)\n",
    "                    h_param_tuning_results.loc[len(h_param_tuning_results.index)] = [a, l1, init,\"mu\",\"kullback-leibler\",best_comb, round(acc, 4)]\n",
    "\n",
    "\n",
    "#h_param_tuning_results \n",
    "sorted_df = h_param_tuning_results.sort_values(by='Accuracy', ascending=False)\n",
    "sorted_df"
   ]
  },
  {
   "cell_type": "markdown",
   "metadata": {},
   "source": [
    "### From the above table, we can see improvement in model performance (accuracy ~ 0.95) with the given parameters. The best accuracy is when $init='nndsvda'$, $solver= \"mu\"$, $beta_loss= 'kullback-leibler'$ and when $apha$ and $l1_ratio$ values are 0.5 and 1. When $init= 'random'$ , the accuracy falls to 0.75 because the combinations are changed. "
   ]
  },
  {
   "cell_type": "code",
   "execution_count": 56,
   "metadata": {},
   "outputs": [
    {
     "name": "stdout",
     "output_type": "stream",
     "text": [
      "Train accuracy= 0.9503\n"
     ]
    }
   ],
   "source": [
    "# best NMF model \n",
    "\n",
    "NMF_model = NMF(n_components =5,init='nndsvda',solver='mu', beta_loss='kullback-leibler',\n",
    "                alpha=0.5, l1_ratio= 1,random_state=1234).fit(train_mat,y_train)\n",
    "\n",
    "# W & H matrices\n",
    "W = NMF_model.transform(train_mat)\n",
    "H = NMF_model.components_\n",
    "\n",
    "# predicted categories of train data\n",
    "y_pred1 = np.argmax(W,axis=1)\n",
    " \n",
    "#Accuracy score of train data\n",
    "acc_score, best_comb = get_accuracy(y_train, y_pred1)\n",
    "print(\"Train accuracy=\", round(acc_score,4))\n",
    "\n",
    "# Vectorize the testset data with tf-idf\n",
    "test_mat = tfidf.transform(bbc_test['Clean_Text'])\n",
    "\n",
    "# predicted categories of the test data\n",
    "W_t = nmf_model.transform(test_mat)\n",
    "y_pred_t = W_t.argmax(axis=1)\n",
    "bbc_test['Category'] = y_pred_t\n",
    "bbc_test['Category'] = bbc_test['Category'].map(topic_dict)\n",
    "\n",
    "# Make submission\n",
    "results.to_csv('submission.csv', index=False)"
   ]
  },
  {
   "cell_type": "markdown",
   "metadata": {},
   "source": [
    "### After fitting the train data with the best NMf model and submitting the csv file of the testset data results to Kaggle,I still got an accuracy of 0.95374."
   ]
  },
  {
   "cell_type": "markdown",
   "metadata": {},
   "source": [
    "## Step 3: Compare with supervised learning "
   ]
  },
  {
   "cell_type": "markdown",
   "metadata": {},
   "source": [
    "### 1. Logistic Regression "
   ]
  },
  {
   "cell_type": "code",
   "execution_count": 57,
   "metadata": {},
   "outputs": [
    {
     "name": "stdout",
     "output_type": "stream",
     "text": [
      "LogisticRegression(C=1.0, class_weight=None, dual=False, fit_intercept=True,\n",
      "                   intercept_scaling=1, l1_ratio=None, max_iter=100,\n",
      "                   multi_class='auto', n_jobs=None, penalty='l2',\n",
      "                   random_state=None, solver='lbfgs', tol=0.0001, verbose=0,\n",
      "                   warm_start=False)\n",
      "Accuracy of training set without hyperparameter tuning:  0.9959731543624161\n"
     ]
    }
   ],
   "source": [
    "# Logistic Regression\n",
    "lg_model = LogisticRegression().fit(train_mat, y_train)\n",
    "print(lg_model)\n",
    "\n",
    "# Prediction\n",
    "lg_train_pred = lg_model.predict(train_mat)\n",
    "lg_train_accuracy = accuracy_score(y_train, lg_train_pred)\n",
    "print('Accuracy of training set without hyperparameter tuning: ', lg_train_accuracy)"
   ]
  },
  {
   "cell_type": "code",
   "execution_count": 74,
   "metadata": {},
   "outputs": [
    {
     "name": "stdout",
     "output_type": "stream",
     "text": [
      "LogisticRegression(C=10, class_weight=None, dual=False, fit_intercept=True,\n",
      "                   intercept_scaling=1, l1_ratio=None, max_iter=100,\n",
      "                   multi_class='auto', n_jobs=None, penalty='l2',\n",
      "                   random_state=None, solver='liblinear', tol=0.0001, verbose=0,\n",
      "                   warm_start=False)\n"
     ]
    },
    {
     "data": {
      "text/plain": [
       "1.0"
      ]
     },
     "execution_count": 74,
     "metadata": {},
     "output_type": "execute_result"
    }
   ],
   "source": [
    "# Hyper-Parameter Tuning\n",
    "\n",
    "lg_param_grid = {\"penalty\": [\"l1\", \"l2\"], \n",
    "                  \"C\": [0.01, 0.1, 1, 3, 10], \n",
    "                  \"solver\": [\"liblinear\"]}\n",
    "\n",
    "lg_grid = sklearn.model_selection.GridSearchCV(estimator=sklearn.linear_model.LogisticRegression(),\n",
    "                                                param_grid=lg_param_grid, \n",
    "                                                scoring=\"accuracy\", n_jobs=-1, cv=5)\n",
    "lg_grid.fit(train_mat, y_train)\n",
    "print(lg_grid.best_estimator_)\n",
    "best_lg_model = lg_grid.best_estimator_.fit(train_mat, y_train)\n",
    "best_lg_model.score(train_mat, y_train)"
   ]
  },
  {
   "cell_type": "markdown",
   "metadata": {},
   "source": [
    "### 2. Random Forest\n"
   ]
  },
  {
   "cell_type": "code",
   "execution_count": 59,
   "metadata": {},
   "outputs": [
    {
     "name": "stdout",
     "output_type": "stream",
     "text": [
      "RandomForestClassifier(bootstrap=True, ccp_alpha=0.0, class_weight=None,\n",
      "                       criterion='gini', max_depth=None, max_features='auto',\n",
      "                       max_leaf_nodes=None, max_samples=None,\n",
      "                       min_impurity_decrease=0.0, min_impurity_split=None,\n",
      "                       min_samples_leaf=1, min_samples_split=2,\n",
      "                       min_weight_fraction_leaf=0.0, n_estimators=100,\n",
      "                       n_jobs=None, oob_score=False, random_state=None,\n",
      "                       verbose=0, warm_start=False)\n",
      "Accuracy of training set without hyperparameter tuning:  1.0\n"
     ]
    }
   ],
   "source": [
    "# Random Forest Classifier\n",
    "rf_model = RandomForestClassifier().fit(train_mat, y_train)\n",
    "print(rf_model)\n",
    "\n",
    "# Prediction\n",
    "train_pred = rf_model.predict(train_mat)\n",
    "rf_train_accuracy = accuracy_score(y_train, train_pred)\n",
    "print('Accuracy of training set without hyperparameter tuning: ',rf_train_accuracy)\n",
    "\n"
   ]
  },
  {
   "cell_type": "code",
   "execution_count": 60,
   "metadata": {},
   "outputs": [
    {
     "name": "stdout",
     "output_type": "stream",
     "text": [
      "RandomForestClassifier(bootstrap=True, ccp_alpha=0.0, class_weight=None,\n",
      "                       criterion='gini', max_depth=20, max_features='auto',\n",
      "                       max_leaf_nodes=None, max_samples=None,\n",
      "                       min_impurity_decrease=0.0, min_impurity_split=None,\n",
      "                       min_samples_leaf=1, min_samples_split=2,\n",
      "                       min_weight_fraction_leaf=0.0, n_estimators=100,\n",
      "                       n_jobs=None, oob_score=False, random_state=None,\n",
      "                       verbose=0, warm_start=False)\n"
     ]
    },
    {
     "data": {
      "text/plain": [
       "0.9986577181208054"
      ]
     },
     "execution_count": 60,
     "metadata": {},
     "output_type": "execute_result"
    }
   ],
   "source": [
    "# Hyper-Parameter Tuning\n",
    "\n",
    "rf_param_grid = {\"n_estimators\": [100, 200, 300, 500], \n",
    "                 \"max_depth\": [2, 3, 5, 10, 20]}\n",
    "\n",
    "rf_grid = sklearn.model_selection.GridSearchCV(estimator=sklearn.ensemble.RandomForestClassifier(), \n",
    "                                               param_grid=rf_param_grid, scoring=\"accuracy\", n_jobs=-1, cv=5)\n",
    "rf_grid.fit(train_mat, y_train)\n",
    "print(rf_grid.best_estimator_)\n",
    "best_rf_model = rf_grid.best_estimator_.fit(train_mat, y_train)\n",
    "best_rf_model.score(train_mat, y_train)"
   ]
  },
  {
   "cell_type": "markdown",
   "metadata": {},
   "source": [
    "### Test the performance of Logistic Regression and Random Forest Classifer on the test data to get the accuracy score.\n"
   ]
  },
  {
   "cell_type": "code",
   "execution_count": 61,
   "metadata": {},
   "outputs": [],
   "source": [
    "lg_test = best_lg_model.predict(test_mat)\n",
    "\n",
    "rf_test = best_rf_model.predict(test_mat)\n",
    "\n",
    "results_log = pd.DataFrame( zip(bbc_test['ArticleId'],lg_test), columns=[\"ArticleId\", \"Category\"])\n",
    "\n",
    "results_rf = pd.DataFrame( zip(bbc_test['ArticleId'],rf_test), columns=[\"ArticleId\", \"Category\"])"
   ]
  },
  {
   "cell_type": "code",
   "execution_count": 62,
   "metadata": {},
   "outputs": [
    {
     "data": {
      "text/html": [
       "<div>\n",
       "<style scoped>\n",
       "    .dataframe tbody tr th:only-of-type {\n",
       "        vertical-align: middle;\n",
       "    }\n",
       "\n",
       "    .dataframe tbody tr th {\n",
       "        vertical-align: top;\n",
       "    }\n",
       "\n",
       "    .dataframe thead th {\n",
       "        text-align: right;\n",
       "    }\n",
       "</style>\n",
       "<table border=\"1\" class=\"dataframe\">\n",
       "  <thead>\n",
       "    <tr style=\"text-align: right;\">\n",
       "      <th></th>\n",
       "      <th>ArticleId</th>\n",
       "      <th>Category</th>\n",
       "    </tr>\n",
       "  </thead>\n",
       "  <tbody>\n",
       "    <tr>\n",
       "      <th>0</th>\n",
       "      <td>1018</td>\n",
       "      <td>sport</td>\n",
       "    </tr>\n",
       "    <tr>\n",
       "      <th>1</th>\n",
       "      <td>1319</td>\n",
       "      <td>tech</td>\n",
       "    </tr>\n",
       "    <tr>\n",
       "      <th>2</th>\n",
       "      <td>1138</td>\n",
       "      <td>sport</td>\n",
       "    </tr>\n",
       "    <tr>\n",
       "      <th>3</th>\n",
       "      <td>459</td>\n",
       "      <td>business</td>\n",
       "    </tr>\n",
       "    <tr>\n",
       "      <th>4</th>\n",
       "      <td>1020</td>\n",
       "      <td>sport</td>\n",
       "    </tr>\n",
       "  </tbody>\n",
       "</table>\n",
       "</div>"
      ],
      "text/plain": [
       "   ArticleId  Category\n",
       "0       1018     sport\n",
       "1       1319      tech\n",
       "2       1138     sport\n",
       "3        459  business\n",
       "4       1020     sport"
      ]
     },
     "execution_count": 62,
     "metadata": {},
     "output_type": "execute_result"
    }
   ],
   "source": [
    "results_log.head()"
   ]
  },
  {
   "cell_type": "code",
   "execution_count": 63,
   "metadata": {},
   "outputs": [],
   "source": [
    "results_log.to_csv('submission1.csv',index=False) #Test Score: 0.97959"
   ]
  },
  {
   "cell_type": "code",
   "execution_count": 64,
   "metadata": {},
   "outputs": [
    {
     "data": {
      "text/html": [
       "<div>\n",
       "<style scoped>\n",
       "    .dataframe tbody tr th:only-of-type {\n",
       "        vertical-align: middle;\n",
       "    }\n",
       "\n",
       "    .dataframe tbody tr th {\n",
       "        vertical-align: top;\n",
       "    }\n",
       "\n",
       "    .dataframe thead th {\n",
       "        text-align: right;\n",
       "    }\n",
       "</style>\n",
       "<table border=\"1\" class=\"dataframe\">\n",
       "  <thead>\n",
       "    <tr style=\"text-align: right;\">\n",
       "      <th></th>\n",
       "      <th>ArticleId</th>\n",
       "      <th>Category</th>\n",
       "    </tr>\n",
       "  </thead>\n",
       "  <tbody>\n",
       "    <tr>\n",
       "      <th>0</th>\n",
       "      <td>1018</td>\n",
       "      <td>sport</td>\n",
       "    </tr>\n",
       "    <tr>\n",
       "      <th>1</th>\n",
       "      <td>1319</td>\n",
       "      <td>tech</td>\n",
       "    </tr>\n",
       "    <tr>\n",
       "      <th>2</th>\n",
       "      <td>1138</td>\n",
       "      <td>sport</td>\n",
       "    </tr>\n",
       "    <tr>\n",
       "      <th>3</th>\n",
       "      <td>459</td>\n",
       "      <td>business</td>\n",
       "    </tr>\n",
       "    <tr>\n",
       "      <th>4</th>\n",
       "      <td>1020</td>\n",
       "      <td>sport</td>\n",
       "    </tr>\n",
       "  </tbody>\n",
       "</table>\n",
       "</div>"
      ],
      "text/plain": [
       "   ArticleId  Category\n",
       "0       1018     sport\n",
       "1       1319      tech\n",
       "2       1138     sport\n",
       "3        459  business\n",
       "4       1020     sport"
      ]
     },
     "execution_count": 64,
     "metadata": {},
     "output_type": "execute_result"
    }
   ],
   "source": [
    "results_rf.head()"
   ]
  },
  {
   "cell_type": "code",
   "execution_count": 65,
   "metadata": {},
   "outputs": [],
   "source": [
    "results_rf.to_csv('submission2.csv',index=False) #Test Score: 0.96598"
   ]
  },
  {
   "cell_type": "markdown",
   "metadata": {},
   "source": [
    "### AFter submitting the results to Kaggle, I got a test accuracy score of 0.97959 for the logistic regression model and 0.96598 gor random forest model."
   ]
  },
  {
   "cell_type": "markdown",
   "metadata": {},
   "source": [
    "### Comparision of 3 models "
   ]
  },
  {
   "cell_type": "code",
   "execution_count": 66,
   "metadata": {},
   "outputs": [
    {
     "data": {
      "image/png": "[encoded data removed]",
      "text/plain": [
       "<Figure size 720x720 with 1 Axes>"
      ]
     },
     "metadata": {
      "needs_background": "light"
     },
     "output_type": "display_data"
    }
   ],
   "source": [
    "train_acc=[0.9369,1,0.9993]\n",
    "test_acc= [0.95374, 0.9796,0.9659]\n",
    "labels = ['NMF','Log-Reg', 'RandomForest']\n",
    "\n",
    "fig,ax = plt.subplots(figsize=(10,10))\n",
    "width_1 = 0.2\n",
    "plt.ylim([0.0, 1.1])\n",
    "ax.set_xlabel('MODELS')\n",
    "ax.set_ylabel('Accuracy')\n",
    "ax.set_title('Comparation of 3 models')\n",
    "ax.bar(np.arange(len(train_acc)), train_acc, width=width_1, tick_label=labels, label = \"train_accuracy\")\n",
    "ax.bar(np.arange(len(test_acc))+width_1, test_acc, width=width_1, tick_label=labels, label=\"test_accuracy\")\n",
    "ax.legend()\n",
    "plt.show()"
   ]
  },
  {
   "cell_type": "markdown",
   "metadata": {},
   "source": [
    "### From the above visualization, log-regression model seems to perform well on the data. Next is the random forest model. Supervised models seem to fit the data well than unsuprvised model here."
   ]
  },
  {
   "cell_type": "markdown",
   "metadata": {},
   "source": [
    "### Now we will fit the unsupervised NMF model and the above 2 supervised models on different subsets of training data and compare the results"
   ]
  },
  {
   "cell_type": "code",
   "execution_count": 69,
   "metadata": {},
   "outputs": [
    {
     "name": "stdout",
     "output_type": "stream",
     "text": [
      "1.NMF_MODEL:\n",
      "\n",
      "Train accuracy for 10.0 % of the train data = 0.6443\n",
      "Test accuracy for 10.0 % of the train data = 0.6689 \n",
      "\n",
      "2.LOG-REGRESSION_MODEL:\n",
      "\n",
      "Train accuracy for 10.0 % of the train data = 1.0\n",
      "Test accuracy for 10.0 % of the train data = 0.9113 \n",
      "\n",
      "3.RANDOM_FOREST_MODEL:\n",
      "\n",
      "Train accuracy for 10.0 % of the train data = 1.0\n",
      "Test accuracy for 10.0 % of the train data = 0.8307 \n",
      "\n",
      "-----------------------------------------------\n",
      "1.NMF_MODEL:\n",
      "\n",
      "Train accuracy for 20.0 % of the train data = 0.9362\n",
      "Test accuracy for 20.0 % of the train data = 0.9371 \n",
      "\n",
      "2.LOG-REGRESSION_MODEL:\n",
      "\n",
      "Train accuracy for 20.0 % of the train data = 1.0\n",
      "Test accuracy for 20.0 % of the train data = 0.9589 \n",
      "\n",
      "3.RANDOM_FOREST_MODEL:\n",
      "\n",
      "Train accuracy for 20.0 % of the train data = 1.0\n",
      "Test accuracy for 20.0 % of the train data = 0.9153 \n",
      "\n",
      "-----------------------------------------------\n",
      "1.NMF_MODEL:\n",
      "\n",
      "Train accuracy for 50.0 % of the train data = 0.9544\n",
      "Test accuracy for 50.0 % of the train data = 0.953 \n",
      "\n",
      "2.LOG-REGRESSION_MODEL:\n",
      "\n",
      "Train accuracy for 50.0 % of the train data = 1.0\n",
      "Test accuracy for 50.0 % of the train data = 0.9718 \n",
      "\n",
      "3.RANDOM_FOREST_MODEL:\n",
      "\n",
      "Train accuracy for 50.0 % of the train data = 1.0\n",
      "Test accuracy for 50.0 % of the train data = 0.9463 \n",
      "\n",
      "-----------------------------------------------\n",
      "1.NMF_MODEL:\n",
      "\n",
      "Train accuracy for 80.0 % of the train data = 0.9505\n",
      "Test accuracy for 80.0 % of the train data = 0.9497 \n",
      "\n",
      "2.LOG-REGRESSION_MODEL:\n",
      "\n",
      "Train accuracy for 80.0 % of the train data = 1.0\n",
      "Test accuracy for 80.0 % of the train data = 0.9866 \n",
      "\n",
      "3.RANDOM_FOREST_MODEL:\n",
      "\n",
      "Train accuracy for 80.0 % of the train data = 0.9992\n",
      "Test accuracy for 80.0 % of the train data = 0.9597 \n",
      "\n",
      "-----------------------------------------------\n"
     ]
    }
   ],
   "source": [
    "X = bbc_train['Clean_Text']\n",
    "y = bbc_train['Category']\n",
    "\n",
    "# subset ratios of training data\n",
    "ratio = [0.1, 0.2, 0.5,0.8]\n",
    "\n",
    "for r in ratio: \n",
    "    # Split the train data \n",
    "    X_train, X_val, y_train1, y_val = train_test_split(X, y, train_size = r, random_state=1)\n",
    "    # Vectorize X_train and X_test\n",
    "    X_train_tfidf = tfidf.fit_transform(X_train)\n",
    "    X_test_tfidf =  tfidf.transform(X_val)\n",
    "    \n",
    "    # NMF model\n",
    "    print(\"1.NMF_MODEL:\\n\")\n",
    "    NMF_model = NMF(n_components =5,init='nndsvda',solver='mu', beta_loss='kullback-leibler',\n",
    "                alpha=0.5, l1_ratio= 1,random_state=1234).fit(X_train_tfidf,y_train1)\n",
    "\n",
    "    # W & H matrices\n",
    "    W = NMF_model.transform(X_train_tfidf)\n",
    "    H = NMF_model.components_\n",
    "    # predicted categories of train data\n",
    "    y_pred1 = np.argmax(W,axis=1)\n",
    "    #Accuracy score of train data\n",
    "    acc_score, best_comb = get_accuracy(y_train1, y_pred1)\n",
    "    print(\"Train accuracy for\", r*100,\"% of the train data =\", round(acc_score,4))\n",
    "    # predicted categories of the test data\n",
    "    W_t = NMF_model.transform(X_test_tfidf)\n",
    "    y_pred_t = W_t.argmax(axis=1)\n",
    "    #Accuracy score of test data\n",
    "    acc_score, best_com1 = get_accuracy(y_val, y_pred_t)\n",
    "    print(\"Test accuracy for\", r*100,\"% of the train data =\", round(acc_score,4), \"\\n\")\n",
    "\n",
    "    #Log-regression model\n",
    "    print(\"2.LOG-REGRESSION_MODEL:\\n\")\n",
    "    \n",
    "    lg_model = LogisticRegression(C=10, class_weight=None, dual=False, fit_intercept=True,\n",
    "                   intercept_scaling=1, l1_ratio=None, max_iter=100,\n",
    "                   multi_class='auto', n_jobs=None, penalty='l2',\n",
    "                   random_state=None, solver='liblinear', tol=0.0001, verbose=0,\n",
    "                   warm_start=False).fit(X_train_tfidf,y_train1)\n",
    "    #LogisticRegression().fit(X_train_tfidf,y_train1)\n",
    "    # Prediction\n",
    "    lg_train_pred = lg_model.predict(X_train_tfidf)\n",
    "    lg_train_accuracy = accuracy_score(y_train1, lg_train_pred)\n",
    "    print(\"Train accuracy for\", r*100,\"% of the train data =\", round(lg_train_accuracy, 4))\n",
    "    lg_test_pred = lg_model.predict(X_test_tfidf)\n",
    "    lg_test_accuracy = accuracy_score(y_val, lg_test_pred)\n",
    "    print(\"Test accuracy for\", r*100,\"% of the train data =\", round(lg_test_accuracy,4),\"\\n\")\n",
    "    \n",
    "    # Random Forest Model\n",
    "    print(\"3.RANDOM_FOREST_MODEL:\\n\")\n",
    "    rf_model = RandomForestClassifier(bootstrap=True, ccp_alpha=0.0, class_weight=None,\n",
    "                       criterion='gini', max_depth=20, max_features='auto',\n",
    "                       max_leaf_nodes=None, max_samples=None,\n",
    "                       min_impurity_decrease=0.0, min_impurity_split=None,\n",
    "                       min_samples_leaf=1, min_samples_split=2,\n",
    "                       min_weight_fraction_leaf=0.0, n_estimators=100,\n",
    "                       n_jobs=None, oob_score=False, random_state=None,\n",
    "                       verbose=0, warm_start=False).fit(X_train_tfidf,y_train1)\n",
    "    #RandomForestClassifier().fit(X_train_tfidf,y_train1)\n",
    "    # Prediction\n",
    "    rf_train_pred = rf_model.predict(X_train_tfidf)\n",
    "    rf_train_accuracy = accuracy_score(y_train1, rf_train_pred)\n",
    "    print(\"Train accuracy for\", r*100,\"% of the train data =\", round(rf_train_accuracy, 4))\n",
    "    rf_test_pred = rf_model.predict(X_test_tfidf)\n",
    "    rf_test_accuracy = accuracy_score(y_val, rf_test_pred)\n",
    "    print(\"Test accuracy for\", r*100,\"% of the train data =\", round(rf_test_accuracy,4),\"\\n\")\n",
    "    print(\"-----------------------------------------------\")\n",
    "    \n"
   ]
  },
  {
   "cell_type": "markdown",
   "metadata": {},
   "source": [
    "### Summary Table of all 3 models on different subsets of data"
   ]
  },
  {
   "cell_type": "code",
   "execution_count": 73,
   "metadata": {},
   "outputs": [
    {
     "data": {
      "text/html": [
       "<div>\n",
       "<style scoped>\n",
       "    .dataframe tbody tr th:only-of-type {\n",
       "        vertical-align: middle;\n",
       "    }\n",
       "\n",
       "    .dataframe tbody tr th {\n",
       "        vertical-align: top;\n",
       "    }\n",
       "\n",
       "    .dataframe thead th {\n",
       "        text-align: right;\n",
       "    }\n",
       "</style>\n",
       "<table border=\"1\" class=\"dataframe\">\n",
       "  <thead>\n",
       "    <tr style=\"text-align: right;\">\n",
       "      <th></th>\n",
       "      <th>NMF</th>\n",
       "      <th>LR</th>\n",
       "      <th>RF</th>\n",
       "    </tr>\n",
       "  </thead>\n",
       "  <tbody>\n",
       "    <tr>\n",
       "      <th>Train_actual</th>\n",
       "      <td>0.9503</td>\n",
       "      <td>1.0000</td>\n",
       "      <td>0.9986</td>\n",
       "    </tr>\n",
       "    <tr>\n",
       "      <th>Test_actual</th>\n",
       "      <td>0.9537</td>\n",
       "      <td>0.9796</td>\n",
       "      <td>0.9659</td>\n",
       "    </tr>\n",
       "    <tr>\n",
       "      <th>Train_10%</th>\n",
       "      <td>0.6443</td>\n",
       "      <td>1.0000</td>\n",
       "      <td>1.0000</td>\n",
       "    </tr>\n",
       "    <tr>\n",
       "      <th>Test_10%</th>\n",
       "      <td>0.6689</td>\n",
       "      <td>0.9113</td>\n",
       "      <td>0.8374</td>\n",
       "    </tr>\n",
       "    <tr>\n",
       "      <th>Train_20%</th>\n",
       "      <td>0.9362</td>\n",
       "      <td>1.0000</td>\n",
       "      <td>1.0000</td>\n",
       "    </tr>\n",
       "    <tr>\n",
       "      <th>Test_20%</th>\n",
       "      <td>0.9371</td>\n",
       "      <td>0.9589</td>\n",
       "      <td>0.9161</td>\n",
       "    </tr>\n",
       "    <tr>\n",
       "      <th>Train_50%</th>\n",
       "      <td>0.9544</td>\n",
       "      <td>1.0000</td>\n",
       "      <td>1.0000</td>\n",
       "    </tr>\n",
       "    <tr>\n",
       "      <th>Test_50%</th>\n",
       "      <td>0.9530</td>\n",
       "      <td>0.9718</td>\n",
       "      <td>0.9517</td>\n",
       "    </tr>\n",
       "    <tr>\n",
       "      <th>Train_80%</th>\n",
       "      <td>0.9505</td>\n",
       "      <td>1.0000</td>\n",
       "      <td>0.9992</td>\n",
       "    </tr>\n",
       "    <tr>\n",
       "      <th>Test_80%</th>\n",
       "      <td>0.9497</td>\n",
       "      <td>0.9866</td>\n",
       "      <td>0.9597</td>\n",
       "    </tr>\n",
       "  </tbody>\n",
       "</table>\n",
       "</div>"
      ],
      "text/plain": [
       "                 NMF      LR      RF\n",
       "Train_actual  0.9503  1.0000  0.9986\n",
       "Test_actual   0.9537  0.9796  0.9659\n",
       "Train_10%     0.6443  1.0000  1.0000\n",
       "Test_10%      0.6689  0.9113  0.8374\n",
       "Train_20%     0.9362  1.0000  1.0000\n",
       "Test_20%      0.9371  0.9589  0.9161\n",
       "Train_50%     0.9544  1.0000  1.0000\n",
       "Test_50%      0.9530  0.9718  0.9517\n",
       "Train_80%     0.9505  1.0000  0.9992\n",
       "Test_80%      0.9497  0.9866  0.9597"
      ]
     },
     "execution_count": 73,
     "metadata": {},
     "output_type": "execute_result"
    }
   ],
   "source": [
    "\n",
    "data = {'NMF': [0.9503,0.9537,0.6443, 0.6689,0.9362,0.9371,0.9544,0.9530,0.9505,0.9497],\n",
    "        'LR' : [1.0,0.9796,1.0, 0.9113,1.0,0.9589,1.0,0.9718,1.0,0.9866],\n",
    "        'RF' : [0.9986,0.9659,1.0, 0.8374,1.0,0.9161,1.0,0.9517,0.9992,0.9597]}\n",
    "\n",
    "df=pd.DataFrame(data, \n",
    "                index= ['Train_actual','Test_actual','Train_10%','Test_10%','Train_20%','Test_20%', 'Train_50%', 'Test_50%','Train_80%','Test_80%'])\n",
    "\n",
    "df"
   ]
  },
  {
   "cell_type": "markdown",
   "metadata": {},
   "source": [
    "## Conclusions:\n",
    "### As a part of exploratory data analysis, both the train and test data are inspected, visualized and cleaned in the preprocessing stage to prepare for modeling. Before the modeling stage, the data is first transformed into a vector from using TFIDF method since we are working on the text data here. The vectorized data is modeled using unsupervised and supervised approach. \n",
    "\n",
    "### Overall, from the above summary table dataframe the first 2 rows are the actual train set(1490) and test set(735) results and the rest are subsets of train data. All the three models perform well but out of 3, supervised models predict data more accurately since they work well on labeled data to predict efficient results. Unsupervised models take several iterations to get better results.\n",
    "\n",
    "### On different subsets of train data, the performance of the NMF model is less when train data is 10% and improves when data is more than 20%. Whereas for the other 2 supervised models, high train score than test score for all subsets of data show there may be overfitting.\n",
    "\n",
    "### We can further improve the performace of the NMF model by using advanced stemming, tokenziation and lemmatization techniques from spacy instead of simple text processing mthods such as tfidfvectorizer and countvectorizer from scikit.\n"
   ]
  },
  {
   "cell_type": "markdown",
   "metadata": {},
   "source": [
    "## Reference list:\n",
    "https://www.wevolver.com/article/unsupervised-vs-supervised-learning-a-comprehensive-comparison\n",
    "https://towardsdatascience.com/non-negative-matrix-factorization-nmf-for-dimensionality-reduction-in-image-data-8450f4cae8fa\n",
    "https://www.searchenginejournal.com/topic-clusters-recommender-system/436123/\n",
    "https://www.analyticsvidhya.com/blog/2021/09/creating-a-movie-reviews-classifier-using-tf-idf-in-python/"
   ]
  },
  {
   "cell_type": "code",
   "execution_count": null,
   "metadata": {},
   "outputs": [],
   "source": []
  }
 ],
 "metadata": {
  "kernelspec": {
   "display_name": "Python 3 (ipykernel)",
   "language": "python",
   "name": "python3"
  },
  "language_info": {
   "codemirror_mode": {
    "name": "ipython",
    "version": 3
   },
   "file_extension": ".py",
   "mimetype": "text/x-python",
   "name": "python",
   "nbconvert_exporter": "python",
   "pygments_lexer": "ipython3",
   "version": "3.9.2"
  }
 },
 "nbformat": 4,
 "nbformat_minor": 4
}
